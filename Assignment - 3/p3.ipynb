{
 "cells": [
  {
   "cell_type": "markdown",
   "id": "06e22b4f",
   "metadata": {},
   "source": [
    "# p3 Adaboost"
   ]
  },
  {
   "cell_type": "code",
   "execution_count": 1251,
   "id": "ae37ea6e",
   "metadata": {},
   "outputs": [],
   "source": [
    "import numpy as np\n",
    "from matplotlib import pyplot as plt"
   ]
  },
  {
   "cell_type": "code",
   "execution_count": 1252,
   "id": "8b59e4a8",
   "metadata": {},
   "outputs": [],
   "source": [
    "def convert_to_one_hot(y, num_classes):\n",
    "    y_one_hot = np.zeros((y.shape[0], num_classes))\n",
    "    y_one_hot[np.arange(y.shape[0]), y] = 1\n",
    "    return y_one_hot"
   ]
  },
  {
   "cell_type": "code",
   "execution_count": 1253,
   "id": "46e1b424",
   "metadata": {},
   "outputs": [],
   "source": [
    "def preprocess_data(X):\n",
    "    y = X[:, 0].astype(int)\n",
    "    x = np.delete(X, 0, axis = 1)\n",
    "    return x, y"
   ]
  },
  {
   "cell_type": "code",
   "execution_count": 1255,
   "id": "f6e3206a",
   "metadata": {},
   "outputs": [],
   "source": [
    "def Match_List(y_true, y_pred):\n",
    "    matches = [1 if x == y else -1 for x, y in zip(y_true, y_pred)]\n",
    "    matches = np.array(matches)\n",
    "    matches = matches.reshape(matches.shape)\n",
    "    return matches"
   ]
  },
  {
   "cell_type": "code",
   "execution_count": 1256,
   "id": "1ed5ef77",
   "metadata": {},
   "outputs": [],
   "source": [
    "# Splits the data with given percentages\n",
    "\n",
    "def DataSplit(Data, train_percent, test_percent, val_percent = 0):\n",
    "    split_list = []\n",
    "    train_size = int(train_percent * Data.shape[0] / 100)\n",
    "    val_size = int(val_percent * Data.shape[0] / 100)\n",
    "    test_size = Data.shape[0] - train_size - val_size\n",
    "    \n",
    "    # Train and Test data\n",
    "    DTrain = np.zeros((train_size, Data.shape[1]))\n",
    "    DTest = np.zeros((test_size, Data.shape[1]))\n",
    "    DTrain = Data[0:train_size, :]\n",
    "    DTest = Data[train_size + val_size: Data.shape[0], :]\n",
    "    split_list.extend([DTrain, DTest])\n",
    "    \n",
    "    # For validataion data\n",
    "    if val_percent > 0:\n",
    "        DVal = np.zeros((val_size, Data.shape[1]))\n",
    "        DVal = Data[train_size: train_size + val_size, :]\n",
    "        split_list.append(DVal)\n",
    "    return split_list"
   ]
  },
  {
   "cell_type": "code",
   "execution_count": 1257,
   "id": "550ebb33",
   "metadata": {},
   "outputs": [],
   "source": [
    "def SampleData(X, weights):\n",
    "    \n",
    "    indices = np.random.choice(len(X), size = len(X), replace = True, p = weights)\n",
    "    Sampled_Data = X[indices]\n",
    "    return Sampled_Data"
   ]
  },
  {
   "cell_type": "markdown",
   "id": "9063196a",
   "metadata": {},
   "source": [
    "## Ensemble of Decision Trees"
   ]
  },
  {
   "cell_type": "code",
   "execution_count": 1258,
   "id": "40ddc137",
   "metadata": {},
   "outputs": [],
   "source": [
    "class Node():\n",
    "    def __init__(self, feature_index=None, threshold=None, left=None, right=None, info_gain=None, value=None):\n",
    "        ''' constructor ''' \n",
    "        \n",
    "        # for decision node\n",
    "        self.feature_index = feature_index\n",
    "        self.threshold = threshold\n",
    "        self.left = left\n",
    "        self.right = right\n",
    "        self.info_gain = info_gain\n",
    "        \n",
    "        # for leaf node\n",
    "        self.value = value"
   ]
  },
  {
   "cell_type": "code",
   "execution_count": 1259,
   "id": "d8fa5886",
   "metadata": {},
   "outputs": [],
   "source": [
    "class DecisionTreeClassifier():\n",
    "    def __init__(self, min_samples_split=2, maximum_depth=2,impurity=\"gini\"):\n",
    "        self.root = None\n",
    "        self.min_samples_split=min_samples_split\n",
    "        self.maximum_depth=maximum_depth\n",
    "        self.impurity=impurity\n",
    "        \n",
    "    def Build_Tree(self,X_train,Y_train,current_depth=0):\n",
    "        X_train=np.array(X_train)\n",
    "        N_samples = X_train.shape[0]\n",
    "        N_features=X_train.shape[1]\n",
    "        \n",
    "        if current_depth<=self.maximum_depth and N_samples>=self.min_samples_split:\n",
    "            \n",
    "            best_split = self.get_best_split(X_train,Y_train,N_samples, N_features)\n",
    "            \n",
    "            if(best_split[\"Information_gain\"]>0):\n",
    "                \n",
    "                left_sub_tree=self.Build_Tree(best_split[\"left_train_X\"],best_split[\"left_train_Y\"],current_depth+1)\n",
    "                \n",
    "                right_sub_tree=self.Build_Tree(best_split[\"right_train_X\"],best_split[\"right_train_Y\"],current_depth+1)\n",
    "                \n",
    "                return Node(best_split[\"feature_index\"],best_split[\"threshold\"],left_sub_tree,right_sub_tree,best_split[\"Information_gain\"])\n",
    "        \n",
    "    \n",
    "            \n",
    "        leaf_value=max(Y_train,key=Y_train.count)\n",
    "\n",
    "        return Node(value=leaf_value)\n",
    "        \n",
    "    \n",
    "    def get_best_split(self,X_train,Y_train,N_samples,N_features):\n",
    "        \n",
    "        best_split={}\n",
    "        max_info_gain=-np.inf\n",
    "        \n",
    "        for feature in range(N_features):\n",
    "            feature_values=X_train[:,feature]\n",
    "            possible_thresholds=np.unique(feature_values)\n",
    "            min_feature_value,max_feature_value=min(possible_thresholds),max(possible_thresholds)\n",
    "            sample_size=min(len(possible_thresholds),20)\n",
    "            #print(sample_size)\n",
    "            sampled_possible_thresholds=np.random.uniform(min_feature_value,max_feature_value,size=sample_size)\n",
    "            \n",
    "            for threshold in sampled_possible_thresholds:\n",
    "                \n",
    "                left_train_X,right_train_X,left_train_Y,right_train_Y=self.split_into_left_right(X_train,Y_train,threshold,feature)\n",
    "                \n",
    "                if len(right_train_X)>0 and len(left_train_X)>0:\n",
    "                    \n",
    "                    curr_info_gain = self.information_gain(Y_train,left_train_Y, right_train_Y,self.impurity)\n",
    "                    \n",
    "                    if curr_info_gain>max_info_gain:\n",
    "                        \n",
    "                        best_split[\"feature_index\"]=feature\n",
    "                        best_split[\"threshold\"]=threshold\n",
    "                        best_split[\"left_train_X\"]=left_train_X\n",
    "                        best_split[\"left_train_Y\"]=left_train_Y\n",
    "                        best_split[\"right_train_X\"]=right_train_X\n",
    "                        best_split[\"right_train_Y\"]=right_train_Y\n",
    "                        best_split[\"Information_gain\"]=curr_info_gain\n",
    "                        max_info_gain=curr_info_gain\n",
    "        \n",
    "        return best_split\n",
    "    \n",
    "    def split_into_left_right(self,X_train,Y_train,threshold,feature):\n",
    "        left_train_X=[]\n",
    "        right_train_X=[]\n",
    "        left_train_Y=[]\n",
    "        right_train_Y=[]\n",
    "        \n",
    "        for i in range(len(X_train)):\n",
    "            if(X_train[i][feature]<=threshold):\n",
    "                left_train_X.append(X_train[i])\n",
    "                left_train_Y.append(Y_train[i])\n",
    "            else:\n",
    "                right_train_X.append(X_train[i])\n",
    "                right_train_Y.append(Y_train[i])\n",
    "                \n",
    "        return left_train_X,right_train_X,left_train_Y,right_train_Y\n",
    "    \n",
    "    def get_entropy(self,Y):\n",
    "        classes=np.unique(Y)\n",
    "        Y=np.array(Y)\n",
    "        entropy=0\n",
    "        for i in classes:\n",
    "            p_i = len(Y[Y == i]) / len(Y)\n",
    "            entropy+=-p_i*np.log2(p_i)\n",
    "        return entropy\n",
    "    \n",
    "    def gini_impurity(self,Y):\n",
    "        classes=np.unique(Y)\n",
    "        Y=np.array(Y)\n",
    "        gini=0\n",
    "        for i in classes:\n",
    "            p_i = len(Y[Y == i]) / len(Y)\n",
    "            gini+=p_i*p_i\n",
    "        return 1-gini\n",
    "                \n",
    "    def information_gain(self,Y_train,left_train_Y,right_train_Y,impurity):\n",
    "        \n",
    "        weight_left=len(left_train_Y)/len(Y_train)\n",
    "        \n",
    "        weight_right=len(right_train_Y)/len(Y_train)\n",
    "        \n",
    "        if(impurity==\"entropy\"):\n",
    "            \n",
    "            info_gain=self.get_entropy(Y_train)-(weight_left*self.get_entropy(left_train_Y)+weight_right*self.get_entropy(right_train_Y))\n",
    "            \n",
    "        if(impurity==\"gini\"):\n",
    "            \n",
    "            info_gain=self.gini_impurity(Y_train)-(weight_left*self.gini_impurity(left_train_Y)+weight_right*self.gini_impurity(right_train_Y))\n",
    "        \n",
    "            \n",
    "        return info_gain\n",
    "                \n",
    "    \n",
    "    def fit(self,X_train,Y_train):\n",
    "        \n",
    "        self.root=self.Build_Tree(X_train,Y_train)\n",
    "        \n",
    "    def predict(self,X_test):\n",
    "        \n",
    "        y_pred=[]\n",
    "        \n",
    "        for each in X_test:\n",
    "            y_pred.append(self.make_predictions(each,self.root))\n",
    "            \n",
    "        return np.array(y_pred)\n",
    "    \n",
    "    def make_predictions(self,x,tree):\n",
    "        \n",
    "        if tree.value!=None:\n",
    "            return int(tree.value)\n",
    "        \n",
    "        if(x[tree.feature_index]>tree.threshold):\n",
    "            return self.make_predictions(x,tree.right)\n",
    "        else:\n",
    "            return self.make_predictions(x,tree.left)\n",
    "            \n",
    "    def print_tree(self, tree=None, indent=\" \"):\n",
    "        ''' function to print the tree '''\n",
    "        \n",
    "        if not tree:\n",
    "            tree = self.root\n",
    "\n",
    "        if tree.value is not None:\n",
    "            print(tree.value)\n",
    "\n",
    "        else:\n",
    "            print(\"X_\"+str(tree.feature_index), \"<=\", tree.threshold, \"?\", tree.info_gain)\n",
    "            print(\"%sleft:\" % (indent), end=\"\")\n",
    "            self.print_tree(tree.left, indent + indent)\n",
    "            print(\"%sright:\" % (indent), end=\"\")\n",
    "            self.print_tree(tree.right, indent + indent)   "
   ]
  },
  {
   "cell_type": "code",
   "execution_count": 1260,
   "id": "86a84db1",
   "metadata": {},
   "outputs": [],
   "source": [
    "class AdaboostDecisionTree:\n",
    "    \n",
    "    def __init__(self, n_estimators):\n",
    "        self.n_estimators = n_estimators\n",
    "        self.estimators = []\n",
    "        self.estimator_weights = []\n",
    "        self.loss_list = []\n",
    "        self.classes = None\n",
    "        self.acc_list = []\n",
    "        \n",
    "    def train(self, X, max_depth = 4, impurity = \"gini\"):\n",
    "        n_samples, _ = X.shape\n",
    "        y_train = X[:, 0].astype(int)\n",
    "        X_train = np.delete(X, 0, axis = 1)\n",
    "        self.classes = np.unique(y_train)\n",
    "        weights = np.ones(n_samples) / n_samples\n",
    "        for i in range(self.n_estimators):\n",
    "            estimator = DecisionTreeClassifier(min_samples_split=2, maximum_depth = max_depth, impurity = impurity)\n",
    "            Sampled_X = SampleData(X, weights)\n",
    "            Sampled_ytrain = Sampled_X[:, 0].astype(int)\n",
    "            Sampled_Xtrain = np.delete(Sampled_X, 0, axis = 1)\n",
    "            estimator.fit(Sampled_Xtrain, Sampled_ytrain)\n",
    "            y_pred = estimator.predict(X_train)\n",
    "\n",
    "            err = np.sum(weights * (y_pred != y_train))\n",
    "\n",
    "            alpha = np.log((1-err)/err) + np.log(len(self.classes) - 1)\n",
    "            weights *= np.exp(alpha * (y_pred != y_train))\n",
    "            weights /= np.sum(weights)\n",
    "            self.estimators.append(estimator)\n",
    "            self.estimator_weights.append(alpha)\n",
    "            print('No. of learners =', len(self.estimators))\n",
    "            print('Accuracy of current Classifier on Train Data =', self.accuracy(y_pred, y_train))\n",
    "            print('alpha =', alpha)\n",
    "            y_pred_tillnow, acc = self.test(X)\n",
    "            print('Accuracy of Ensemble on Train Data =', acc )\n",
    "            self.update_loss(y_train, y_pred_tillnow)\n",
    "            self.update_acc(acc)\n",
    "            print('\\n')\n",
    "            \n",
    "    def test(self, X):\n",
    "        y_test = X[:, 0].astype(int)\n",
    "        X_test = np.delete(X, 0, axis = 1)\n",
    "        y_allclasses = []\n",
    "        for i in range(len(self.classes)):\n",
    "            y_pred_current = np.zeros(len(X))\n",
    "            for estimator, alpha in zip(self.estimators, self.estimator_weights):\n",
    "                current_predictions = estimator.predict(X_test)\n",
    "                indicators = [1 if x == self.cla26sses[i] else 0 for x in current_predictions]\n",
    "                y_pred_current += alpha * np.array(indicators).reshape(current_predictions.shape)\n",
    "            y_allclasses.append(y_pred_current)\n",
    "        y_allclasses = np.array(y_allclasses)\n",
    "#         print(y_allclasses)\n",
    "        y_pred = np.argmax(y_allclasses, axis = 0)\n",
    "#         print(y_pred)\n",
    "        acc = self.accuracy(y_test, y_pred)\n",
    "        return y_pred, acc\n",
    "\n",
    "    def update_loss(self, y_true, y_pred):\n",
    "        matches = Match_List(y_true, y_pred)\n",
    "        loss = np.mean(np.exp(-matches))\n",
    "        print('Train Loss of Ensemble =', loss)\n",
    "        self.loss_list.append(loss)\n",
    "    \n",
    "    def accuracy(self, y_true, y_pred):\n",
    "        return np.mean(y_true == y_pred) * 100\n",
    "    \n",
    "    def update_acc(self, acc):\n",
    "        self.acc_list.append(acc)\n",
    "    "
   ]
  },
  {
   "cell_type": "markdown",
   "id": "e4d2f14c",
   "metadata": {},
   "source": [
    "### *PCA_MNIST Data*"
   ]
  },
  {
   "cell_type": "code",
   "execution_count": 1261,
   "id": "46f8068e",
   "metadata": {},
   "outputs": [],
   "source": [
    "with open('./Data/PCA_MNIST.csv', 'r') as f:\n",
    "    results = []\n",
    "    next(f)\n",
    "    for line in f:\n",
    "        words = line.split(',')\n",
    "        for i in range(len(words)):\n",
    "            words[i] = float(words[i])\n",
    "        results.append(words)"
   ]
  },
  {
   "cell_type": "code",
   "execution_count": 1262,
   "id": "420f2380",
   "metadata": {},
   "outputs": [],
   "source": [
    "Data = np.array(results)"
   ]
  },
  {
   "cell_type": "code",
   "execution_count": 1263,
   "id": "cd497595",
   "metadata": {},
   "outputs": [
    {
     "name": "stdout",
     "output_type": "stream",
     "text": [
      "(60000, 11)\n"
     ]
    }
   ],
   "source": [
    "print(Data.shape)"
   ]
  },
  {
   "cell_type": "code",
   "execution_count": 1264,
   "id": "6808347d",
   "metadata": {},
   "outputs": [],
   "source": [
    "Data_Train, Data_Test = DataSplit(Data, 80, 20, val_percent = 0)"
   ]
  },
  {
   "cell_type": "code",
   "execution_count": 1265,
   "id": "2de8982a",
   "metadata": {},
   "outputs": [
    {
     "name": "stdout",
     "output_type": "stream",
     "text": [
      "(48000, 11)\n",
      "(12000, 11)\n"
     ]
    }
   ],
   "source": [
    "print(Data_Train.shape)\n",
    "print(Data_Test.shape)"
   ]
  },
  {
   "cell_type": "code",
   "execution_count": 1266,
   "id": "4919a128",
   "metadata": {},
   "outputs": [],
   "source": [
    "adaboost_tree = AdaboostDecisionTree(10)"
   ]
  },
  {
   "cell_type": "code",
   "execution_count": 1267,
   "id": "7dec8d54",
   "metadata": {
    "scrolled": true
   },
   "outputs": [
    {
     "name": "stdout",
     "output_type": "stream",
     "text": [
      "No. of learners = 1\n",
      "Accuracy of current Classifier on Train Data = 73.23333333333333\n",
      "alpha = 3.203717935774068\n",
      "Accuracy of Ensemble on Train Data = 73.23333333333333\n",
      "Train Loss of Ensemble = 0.9970038135020911\n",
      "\n",
      "\n",
      "No. of learners = 2\n",
      "Accuracy of current Classifier on Train Data = 49.735416666666666\n",
      "alpha = 2.6916372664970454\n",
      "Accuracy of Ensemble on Train Data = 73.23333333333333\n",
      "Train Loss of Ensemble = 0.9970038135020911\n",
      "\n",
      "\n",
      "No. of learners = 3\n",
      "Accuracy of current Classifier on Train Data = 64.99583333333334\n",
      "alpha = 2.488853729370665\n",
      "Accuracy of Ensemble on Train Data = 79.37291666666667\n",
      "Train Loss of Ensemble = 0.8526989002659124\n",
      "\n",
      "\n",
      "No. of learners = 4\n",
      "Accuracy of current Classifier on Train Data = 42.7375\n",
      "alpha = 2.103961045370562\n",
      "Accuracy of Ensemble on Train Data = 82.39583333333333\n",
      "Train Loss of Ensemble = 0.7816481947668641\n",
      "\n",
      "\n",
      "No. of learners = 5\n",
      "Accuracy of current Classifier on Train Data = 43.5625\n",
      "alpha = 1.7640225979817523\n",
      "Accuracy of Ensemble on Train Data = 82.81875\n",
      "Train Loss of Ensemble = 0.7717079513372938\n",
      "\n",
      "\n",
      "No. of learners = 6\n",
      "Accuracy of current Classifier on Train Data = 36.552083333333336\n",
      "alpha = 1.9262032001905869\n",
      "Accuracy of Ensemble on Train Data = 84.68958333333333\n",
      "Train Loss of Ensemble = 0.7277358400084548\n",
      "\n",
      "\n",
      "No. of learners = 7\n",
      "Accuracy of current Classifier on Train Data = 33.02916666666667\n",
      "alpha = 1.5965931229454562\n",
      "Accuracy of Ensemble on Train Data = 84.90833333333333\n",
      "Train Loss of Ensemble = 0.7225943347862632\n",
      "\n",
      "\n",
      "No. of learners = 8\n",
      "Accuracy of current Classifier on Train Data = 34.12083333333334\n",
      "alpha = 1.6660708267182924\n",
      "Accuracy of Ensemble on Train Data = 85.56875000000001\n",
      "Train Loss of Ensemble = 0.7070718856868846\n",
      "\n",
      "\n",
      "No. of learners = 9\n",
      "Accuracy of current Classifier on Train Data = 33.479166666666664\n",
      "alpha = 1.6935471206627954\n",
      "Accuracy of Ensemble on Train Data = 86.35416666666667\n",
      "Train Loss of Ensemble = 0.6886114336033966\n",
      "\n",
      "\n",
      "No. of learners = 10\n",
      "Accuracy of current Classifier on Train Data = 34.37916666666666\n",
      "alpha = 1.8654420144994688\n",
      "Accuracy of Ensemble on Train Data = 86.75\n",
      "Train Loss of Ensemble = 0.6793077574870499\n",
      "\n",
      "\n"
     ]
    }
   ],
   "source": [
    "adaboost_tree.train(Data_Train)"
   ]
  },
  {
   "cell_type": "code",
   "execution_count": 1268,
   "id": "87a42335",
   "metadata": {},
   "outputs": [
    {
     "data": {
      "image/png": "[encoded data removed]",
      "text/plain": [
       "<Figure size 640x480 with 1 Axes>"
      ]
     },
     "metadata": {},
     "output_type": "display_data"
    }
   ],
   "source": [
    "plt.plot(adaboost_tree.loss_list)\n",
    "plt.xlabel('no. of learners')\n",
    "plt.ylabel('Train Loss')\n",
    "plt.title('Train Loss vs Learners')\n",
    "plt.show()"
   ]
  },
  {
   "cell_type": "code",
   "execution_count": 1269,
   "id": "89ec7985",
   "metadata": {
    "scrolled": false
   },
   "outputs": [
    {
     "data": {
      "image/png": "[encoded data removed]",
      "text/plain": [
       "<Figure size 640x480 with 1 Axes>"
      ]
     },
     "metadata": {},
     "output_type": "display_data"
    }
   ],
   "source": [
    "plt.plot(adaboost_tree.acc_list)\n",
    "plt.xlabel('no. of learners')\n",
    "plt.ylabel('Train Accuracy')\n",
    "plt.title('Train Accuracy vs Learners')\n",
    "plt.show()"
   ]
  },
  {
   "cell_type": "code",
   "execution_count": 1270,
   "id": "b4d8a6c7",
   "metadata": {},
   "outputs": [
    {
     "name": "stdout",
     "output_type": "stream",
     "text": [
      "Accuracy of Ensemble Classifier on Test Data = 89.15833333333333\n"
     ]
    }
   ],
   "source": [
    "print('Accuracy of Ensemble Classifier on Test Data =', adaboost_tree.test(Data_Test)[1])"
   ]
  },
  {
   "cell_type": "code",
   "execution_count": 1271,
   "id": "74dd9fb6",
   "metadata": {},
   "outputs": [],
   "source": [
    "decision_tree = DecisionTreeClassifier(min_samples_split=2, maximum_depth=4)"
   ]
  },
  {
   "cell_type": "code",
   "execution_count": 1272,
   "id": "e5acf03a",
   "metadata": {
    "scrolled": false
   },
   "outputs": [
    {
     "name": "stdout",
     "output_type": "stream",
     "text": [
      "Accuracy of single Decision Tree on Test Data = 82.68333333333334\n"
     ]
    }
   ],
   "source": [
    "y_train = Data_Train[:, 0].astype(int)\n",
    "X_train = np.delete(Data_Train, 0, axis = 1)\n",
    "decision_tree.fit(X_train, y_train)\n",
    "\n",
    "y_test = Data_Test[:, 0].astype(int)\n",
    "X_test = np.delete(Data_Test, 0, axis = 1)\n",
    "y_pred = decision_tree.predict(X_test)\n",
    "print('Accuracy of single Decision Tree on Test Data =', np.mean(y_test == y_pred) * 100)"
   ]
  },
  {
   "cell_type": "markdown",
   "id": "c4b3cc05",
   "metadata": {},
   "source": [
    "### *Assigment-1 p3 Data*"
   ]
  },
  {
   "cell_type": "code",
   "execution_count": 1273,
   "id": "18f6e7c6",
   "metadata": {},
   "outputs": [],
   "source": [
    "with open('./Data/p3_train.csv', 'r') as f:\n",
    "    results = []\n",
    "#     next(f)\n",
    "    for line in f:\n",
    "        words = line.split(',')\n",
    "        for i in range(len(words)):\n",
    "            words[i] = float(words[i])\n",
    "        results.append(words)"
   ]
  },
  {
   "cell_type": "code",
   "execution_count": 1274,
   "id": "4d818f06",
   "metadata": {},
   "outputs": [],
   "source": [
    "Data_Train = np.array(results)\n",
    "Data_Train[:, [0, -1]] = Data_Train[:, [-1, 0]]\n",
    "Data_Train[:, 0] = (Data_Train[:, 0] - np.ones(Data_Train[:, 0].shape)).astype(int)"
   ]
  },
  {
   "cell_type": "code",
   "execution_count": 1275,
   "id": "7593134f",
   "metadata": {},
   "outputs": [],
   "source": [
    "with open('./Data/p3_test.csv', 'r') as f:\n",
    "    results = []\n",
    "#     next(f)\n",
    "    for line in f:\n",
    "        words = line.split(',')\n",
    "        for i in range(len(words)):\n",
    "            words[i] = float(words[i])\n",
    "        results.append(words)"
   ]
  },
  {
   "cell_type": "code",
   "execution_count": 1276,
   "id": "122691d8",
   "metadata": {},
   "outputs": [],
   "source": [
    "Data_Test = np.array(results)\n",
    "Data_Test[:, [0, -1]] = Data_Test[:, [-1, 0]]\n",
    "Data_Test[:, 0] = (Data_Test[:, 0] - np.ones(Data_Test[:, 0].shape)).astype(int)"
   ]
  },
  {
   "cell_type": "code",
   "execution_count": 1277,
   "id": "1d109783",
   "metadata": {},
   "outputs": [
    {
     "name": "stdout",
     "output_type": "stream",
     "text": [
      "(60000, 11)\n",
      "(15000, 11)\n"
     ]
    }
   ],
   "source": [
    "print(Data_Train.shape)\n",
    "print(Data_Test.shape)"
   ]
  },
  {
   "cell_type": "code",
   "execution_count": 1278,
   "id": "19e227ee",
   "metadata": {},
   "outputs": [],
   "source": [
    "adaboost_tree = AdaboostDecisionTree(6)"
   ]
  },
  {
   "cell_type": "code",
   "execution_count": 1279,
   "id": "225ec9fb",
   "metadata": {
    "scrolled": true
   },
   "outputs": [
    {
     "name": "stdout",
     "output_type": "stream",
     "text": [
      "No. of learners = 1\n",
      "Accuracy of current Classifier on Train Data = 47.07833333333333\n",
      "alpha = 1.2692944093190694\n",
      "Accuracy of Ensemble on Train Data = 47.07833333333333\n",
      "Train Loss of Ensemble = 1.6117515578971633\n",
      "\n",
      "\n",
      "No. of learners = 2\n",
      "Accuracy of current Classifier on Train Data = 46.916666666666664\n",
      "alpha = 1.0038683655075644\n",
      "Accuracy of Ensemble on Train Data = 47.07833333333333\n",
      "Train Loss of Ensemble = 1.6117515578971633\n",
      "\n",
      "\n",
      "No. of learners = 3\n",
      "Accuracy of current Classifier on Train Data = 43.141666666666666\n",
      "alpha = 0.6840631354820267\n",
      "Accuracy of Ensemble on Train Data = 51.126666666666665\n",
      "Train Loss of Ensemble = 1.5165994345851368\n",
      "\n",
      "\n",
      "No. of learners = 4\n",
      "Accuracy of current Classifier on Train Data = 37.583333333333336\n",
      "alpha = 0.6106715870471554\n",
      "Accuracy of Ensemble on Train Data = 53.535\n",
      "Train Loss of Ensemble = 1.4599939104246271\n",
      "\n",
      "\n",
      "No. of learners = 5\n",
      "Accuracy of current Classifier on Train Data = 33.934999999999995\n",
      "alpha = 0.4674493626817715\n",
      "Accuracy of Ensemble on Train Data = 54.461666666666666\n",
      "Train Loss of Ensemble = 1.4382135149690953\n",
      "\n",
      "\n",
      "No. of learners = 6\n",
      "Accuracy of current Classifier on Train Data = 27.991666666666664\n",
      "alpha = 0.33607132874587897\n",
      "Accuracy of Ensemble on Train Data = 54.67166666666666\n",
      "Train Loss of Ensemble = 1.4332776699557914\n",
      "\n",
      "\n"
     ]
    }
   ],
   "source": [
    "adaboost_tree.train(Data_Train, max_depth = 3)"
   ]
  },
  {
   "cell_type": "code",
   "execution_count": 1280,
   "id": "c60e7df9",
   "metadata": {},
   "outputs": [
    {
     "data": {
      "image/png": "[encoded data removed]",
      "text/plain": [
       "<Figure size 640x480 with 1 Axes>"
      ]
     },
     "metadata": {},
     "output_type": "display_data"
    }
   ],
   "source": [
    "plt.plot(adaboost_tree.loss_list)\n",
    "plt.xlabel('no. of learners')\n",
    "plt.ylabel('Train Loss')\n",
    "plt.title('Train Loss vs Learners')\n",
    "plt.show()"
   ]
  },
  {
   "cell_type": "code",
   "execution_count": 1281,
   "id": "01a28852",
   "metadata": {},
   "outputs": [
    {
     "data": {
      "image/png": "[encoded data removed]",
      "text/plain": [
       "<Figure size 640x480 with 1 Axes>"
      ]
     },
     "metadata": {},
     "output_type": "display_data"
    }
   ],
   "source": [
    "plt.plot(adaboost_tree.acc_list)\n",
    "plt.xlabel('no. of learners')\n",
    "plt.ylabel('Train Accuracy')\n",
    "plt.title('Train Accuracy vs Learners')\n",
    "plt.show()"
   ]
  },
  {
   "cell_type": "code",
   "execution_count": 1282,
   "id": "a1a22b1a",
   "metadata": {},
   "outputs": [
    {
     "name": "stdout",
     "output_type": "stream",
     "text": [
      "Accuracy of Ensemble Classifier on Test Data = 54.513333333333335\n"
     ]
    }
   ],
   "source": [
    "print('Accuracy of Ensemble Classifier on Test Data =', adaboost_tree.test(Data_Test)[1])"
   ]
  },
  {
   "cell_type": "code",
   "execution_count": 1283,
   "id": "54b5cc85",
   "metadata": {},
   "outputs": [],
   "source": [
    "decision_tree = DecisionTreeClassifier(min_samples_split=2, maximum_depth=3)"
   ]
  },
  {
   "cell_type": "code",
   "execution_count": 1284,
   "id": "e4638524",
   "metadata": {},
   "outputs": [
    {
     "name": "stdout",
     "output_type": "stream",
     "text": [
      "Accuracy of single Decision Tree on Test Data = 49.559999999999995\n"
     ]
    }
   ],
   "source": [
    "y_train = Data_Train[:, 0].astype(int)\n",
    "X_train = np.delete(Data_Train, 0, axis = 1)\n",
    "decision_tree.fit(X_train, y_train)\n",
    "\n",
    "y_test = Data_Test[:, 0].astype(int)\n",
    "X_test = np.delete(Data_Test, 0, axis = 1)\n",
    "y_pred = decision_tree.predict(X_test)\n",
    "print('Accuracy of single Decision Tree on Test Data =', np.mean(y_test == y_pred) * 100)"
   ]
  },
  {
   "cell_type": "markdown",
   "id": "b8da62c9",
   "metadata": {},
   "source": [
    "## Ensemble of MLPs"
   ]
  },
  {
   "cell_type": "markdown",
   "id": "c79b2464",
   "metadata": {},
   "source": [
    "### *Fully Connected Layer*"
   ]
  },
  {
   "cell_type": "code",
   "execution_count": 1285,
   "id": "98bdc81b",
   "metadata": {},
   "outputs": [],
   "source": [
    "class Layer_FullyConnected:\n",
    "    # Layer Initialization\n",
    "    def __init__(self, n_inputs, n_neurons):\n",
    "        \n",
    "        #Initialize weights and biases\n",
    "        self.weights = 0.01 * np.random.randn(n_inputs, n_neurons)\n",
    "        self.biases = np.zeros((1, n_neurons))   \n",
    "\n",
    "    def forward(self, inputs):\n",
    "        \n",
    "        # calculate the values of the neurons before activation\n",
    "        # inputs matrix contains features for a sample of data\n",
    "        self.inputs = inputs\n",
    "        self.output = np.dot(self.inputs, self.weights) + self.biases\n",
    "        return self.output\n",
    "    \n",
    "    def backward(self, dvalues):\n",
    "        \n",
    "        # dvalues are the upstream gradients\n",
    "        # dweights, dbiases are the backprop gradients with shape similar to weights matrix and bias vector\n",
    "        # dinputs are the dvalues for the previous layer with shape similar to inputs\n",
    "        self.dweights = np.dot(self.inputs.T, dvalues)\n",
    "        self.dbiases = np.sum(dvalues, axis = 0, keepdims = True)\n",
    "        self.dinputs = np.dot(dvalues, self.weights.T)\n",
    "        return self.dinputs"
   ]
  },
  {
   "cell_type": "markdown",
   "id": "74832ec0",
   "metadata": {},
   "source": [
    "### *Input Layer*"
   ]
  },
  {
   "cell_type": "code",
   "execution_count": 1286,
   "id": "e93d585e",
   "metadata": {},
   "outputs": [],
   "source": [
    "class Layer_Input:\n",
    "    def __init__(self, input_size):\n",
    "        self.input_size = input_size      \n",
    "    # Forward pass\n",
    "    def forward(self, x):\n",
    "        assert len(x.shape) == 2 and x.shape[1] == self.input_size, f\"Input size mismatch: expected ({x.shape[0]}, {self.input_size}), got {x.shape}\"\n",
    "        self.output = x\n",
    "        return self.output"
   ]
  },
  {
   "cell_type": "markdown",
   "id": "a0ce5b08",
   "metadata": {},
   "source": [
    "### *Activations (Softmax, Sigmoid)*"
   ]
  },
  {
   "cell_type": "code",
   "execution_count": 1287,
   "id": "a65408bf",
   "metadata": {},
   "outputs": [],
   "source": [
    "class Activation_Sigmoid:\n",
    "    # Forward pass\n",
    "    def forward(self, inputs):\n",
    "        self.inputs = inputs\n",
    "        self.output = 1 / (1 + np.exp(-inputs))\n",
    "        return self.output\n",
    "    def backward(self, dvalues):\n",
    "        self.dinputs = dvalues * (1 - self.output) * self.output\n",
    "        return self.dinputs"
   ]
  },
  {
   "cell_type": "code",
   "execution_count": 1288,
   "id": "f1ed65c2",
   "metadata": {},
   "outputs": [],
   "source": [
    "class Activation_Softmax:\n",
    "    # Forward pass\n",
    "    def forward(self, inputs):\n",
    "        exp_values = np.exp(inputs - np.max(inputs, axis = 1, keepdims = True))\n",
    "        probabilities = exp_values / np.sum(exp_values, axis = 1, keepdims = True)\n",
    "        self.output = probabilities\n",
    "        return self.output\n",
    "    def backward(self, dvalues):\n",
    "        # Create uninitialized array\n",
    "        self.dinputs = np.empty_like(dvalues)\n",
    "        # Enumerate outputs and gradients\n",
    "        for index, (single_output, single_dvalues) in enumerate(zip(self.output, dvalues)):\n",
    "            # Flatten output array\n",
    "            single_output = single_output.reshape(-1, 1)\n",
    "            # Calculate Jacobian matrix of the output\n",
    "            jacobian_matrix = np.diagflat(single_output) - np.dot(single_output, single_output.T)\n",
    "            # Calculate sample-wise gradient\n",
    "            # and add it to the array of sample gradients\n",
    "            self.dinputs[index] = np.dot(jacobian_matrix, single_dvalues)\n",
    "        return self.dinputs\n",
    "    def predictions(self, outputs):\n",
    "        return np.argmax(outputs, axis = 1)"
   ]
  },
  {
   "cell_type": "markdown",
   "id": "283e6d2c",
   "metadata": {},
   "source": [
    "### *SGD Optimizer*"
   ]
  },
  {
   "cell_type": "code",
   "execution_count": 1289,
   "id": "749e6b29",
   "metadata": {},
   "outputs": [],
   "source": [
    "class Optimizer_SGD:\n",
    "    \n",
    "    def __init__(self, learning_rate = 1, decay = 0):\n",
    "        self.learning_rate = learning_rate\n",
    "        self.current_learning_rate = learning_rate\n",
    "        self.decay = decay\n",
    "        self.iterations = 0\n",
    "        \n",
    "    def pre_update_params(self):\n",
    "        if self.decay:\n",
    "            self.current_learning_rate = self.learning_rate / (1 + self.decay * self.iterations)\n",
    "            \n",
    "    def update_params(self, layer):\n",
    "        if isinstance(layer, Layer_FullyConnected):\n",
    "            layer.weights += -self.current_learning_rate * layer.dweights\n",
    "            layer.biases += -self.current_learning_rate * layer.dbiases  \n",
    "            \n",
    "    def post_update_params(self):\n",
    "        self.iterations += 1"
   ]
  },
  {
   "cell_type": "markdown",
   "id": "85d0c978",
   "metadata": {},
   "source": [
    "### *Cross Entropy Loss with Softmax Activation*"
   ]
  },
  {
   "cell_type": "code",
   "execution_count": 1290,
   "id": "4cc19d84",
   "metadata": {},
   "outputs": [],
   "source": [
    "class Softmax_CrossEntropyLoss:\n",
    "\n",
    "    def forward(self, y_pred, y_true, classes):\n",
    "        \n",
    "        # y_pred shape: (batch_size, num_classes)\n",
    "        # y_true shape: (batch_size,)\n",
    "        batch_size = y_pred.shape[0]\n",
    "        # Clip y_pred values to prevent log(0) errors\n",
    "        y_pred = np.clip(y_pred, 1e-15, 1 - 1e-15)\n",
    "        # Compute the log of predicted probabilities for the true class for each example\n",
    "        log_likelihoods = -np.log(y_pred[range(batch_size), y_true])\n",
    "        # Compute the mean of the log likelihoods for the batch\n",
    "        loss = np.mean(log_likelihoods)\n",
    "        return loss\n",
    "    \n",
    "    def backward(self, dvalues, y_true, classes):\n",
    "        \n",
    "          # Number of samples\n",
    "        samples = len(dvalues)\n",
    "        # Copy so we can safely modify\n",
    "        self.dinputs = dvalues.copy()\n",
    "        # Calculate gradient\n",
    "        self.dinputs[range(samples), y_true] -= 1\n",
    "        # Normalize gradient\n",
    "        self.dinputs = self.dinputs / samples\n",
    "        return self.dinputs"
   ]
  },
  {
   "cell_type": "markdown",
   "id": "7ee46580",
   "metadata": {},
   "source": [
    "### *Neural Network Class*"
   ]
  },
  {
   "cell_type": "code",
   "execution_count": 1291,
   "id": "4a035182",
   "metadata": {},
   "outputs": [],
   "source": [
    "class NeuralNet:\n",
    "    \n",
    "    def __init__(self, input_size, hidden_sizes, output_size, loss, optimizer, activation = 'relu'):\n",
    "        \n",
    "        # Layers\n",
    "        self.input_layer = Layer_Input(input_size)\n",
    "        self.hidden_layers = []\n",
    "        self.loss_fn = loss\n",
    "        self.train_loss = []\n",
    "        self.optimizer = optimizer\n",
    "        for i, hidden_size in enumerate(hidden_sizes):\n",
    "            fc_layer = Layer_FullyConnected(input_size if i == 0 else hidden_sizes[i-1], hidden_size)\n",
    "            if activation == 'relu':\n",
    "                activation_layer = Activation_ReLU()\n",
    "            elif activation == 'sigmoid':\n",
    "                activation_layer = Activation_Sigmoid()\n",
    "            elif activation == 'linear':\n",
    "                activation_layer = Activation_Linear()\n",
    "            self.hidden_layers.extend([fc_layer, activation_layer])\n",
    "        self.output_layer = Layer_FullyConnected(hidden_sizes[-1], output_size)\n",
    "        self.output_softmax_layer = Activation_Softmax()\n",
    "\n",
    "    def forward(self, x):\n",
    "        \n",
    "        x = self.input_layer.forward(x)\n",
    "        for layer in self.hidden_layers:\n",
    "            x = layer.forward(x)\n",
    "        x = self.output_layer.forward(x)\n",
    "        x = self.output_softmax_layer.forward(x)\n",
    "        return x\n",
    "\n",
    "    def backward(self, y_pred, y_true, classes):\n",
    "        \n",
    "         # Compute the derivative of the loss with respect to the output of the model\n",
    "\n",
    "        dL_dy = self.loss_fn.backward(y_pred, y_true, classes)\n",
    "        \n",
    "        if isinstance(self.loss_fn, MeanSquareLoss):\n",
    "             dL_dy = self.output_softmax_layer.backward(dL_dy)\n",
    "        \n",
    "         # backpropagate the derivatives through the output layer\n",
    "        dL_dx = self.output_layer.backward(dL_dy)\n",
    "        \n",
    "        for layer in reversed(self.hidden_layers):\n",
    "            dL_dx = layer.backward(dL_dx)\n",
    "    \n",
    "    def train(self, X, classes, epochs = 2, batch_size = 32, val_data = None):\n",
    "        \n",
    "        for epoch in range(epochs):\n",
    "            \n",
    "            np.random.shuffle(X)\n",
    "            epoch_accuracy = 0\n",
    "            for i in range(0, X.shape[0], batch_size):\n",
    "                batch = X[i:min(X.shape[0], i + batch_size), :]\n",
    "                x_batch, y_batch = preprocess_data(batch)\n",
    "                # Forward pass\n",
    "                outputs = self.forward(x_batch)\n",
    "        \n",
    "                predictions = self.output_softmax_layer.predictions(outputs)\n",
    "\n",
    "                # Accuracy\n",
    "                epoch_accuracy += np.count_nonzero(predictions == y_batch)\n",
    "                \n",
    "                self.backward(outputs, y_batch, classes)\n",
    "                  \n",
    "                for layer in self.hidden_layers:\n",
    "                    self.optimizer.pre_update_params()\n",
    "                    self.optimizer.update_params(layer)\n",
    "                    self.optimizer.post_update_params()\n",
    "                self.optimizer.update_params(self.output_layer)\n",
    "#             self.calculate_loss(X)\n",
    "            print('Epoch: ', epoch + 1, ' Accuracy: ', round(epoch_accuracy * 100 / len(X), 2))\n",
    "    \n",
    "    def test(self, X):\n",
    "        \n",
    "#         test_accuracy = 0\n",
    "        x, y = preprocess_data(X)\n",
    "        # Forward pass\n",
    "        outputs = self.forward(x)\n",
    "        predictions = self.output_softmax_layer.predictions(outputs)\n",
    "        return predictions\n",
    "    \n",
    "    def calculate_loss(self, X):\n",
    "        \n",
    "        train_data, train_labels = preprocess_data(X)\n",
    "        classes = np.unique(X[:, 0].astype(int))\n",
    "        outputs = self.forward(train_data)\n",
    "        self.train_loss.append(self.loss_fn.forward(outputs, train_labels, classes))\n"
   ]
  },
  {
   "cell_type": "code",
   "execution_count": 1292,
   "id": "dcef8835",
   "metadata": {},
   "outputs": [],
   "source": [
    "def configuration(input_features, hidden_sizes, output_classes, learning_rate, loss_fn = 'softmax_ce_loss', activation = 'sigmoid'):\n",
    "    \n",
    "    if loss_fn == 'softmax_ce_loss':\n",
    "        loss_fn = Softmax_CrossEntropyLoss()\n",
    "    else:\n",
    "        loss_fn = MeanSquareLoss()\n",
    "    optimizer = Optimizer_SGD(learning_rate, decay = 0)\n",
    "    model = NeuralNet(input_features, hidden_sizes, output_classes, loss_fn, optimizer)\n",
    "    return model"
   ]
  },
  {
   "cell_type": "code",
   "execution_count": 1293,
   "id": "25626b5c",
   "metadata": {},
   "outputs": [],
   "source": [
    "class AdaboostNeuralNet:\n",
    "    \n",
    "    def __init__(self, n_estimators, architectures):\n",
    "        self.n_estimators = n_estimators\n",
    "        self.estimators = []\n",
    "        self.learners = len(architectures)\n",
    "        self.estimator_weights = []\n",
    "        self.loss_list = []\n",
    "        self.classes = None\n",
    "        self.acc_list = []\n",
    "        \n",
    "    def train(self, X):\n",
    "        n_samples, _ = X.shape\n",
    "        y_train = X[:, 0].astype(int)\n",
    "#         X_train = np.delete(X, 0, axis = 1)\n",
    "        self.classes = np.unique(X[:, 0].astype(int))\n",
    "        weights = np.ones(n_samples) / n_samples\n",
    "        input_features = X.shape[1] - 1\n",
    "        output_classes = len(self.classes)\n",
    "        weights = np.ones(n_samples) / n_samples\n",
    "        for i in range(self.n_estimators):\n",
    "            for j in range(self.learners):\n",
    "                estimator = configuration(input_features, architectures[j], output_classes, 0.01)\n",
    "            \n",
    "                Sampled_X = SampleData(X, weights)\n",
    "                estimator.train(Sampled_X, self.classes)\n",
    "                y_pred = estimator.test(X)\n",
    "                err = np.sum(weights * (y_pred != y_train))\n",
    "\n",
    "                alpha = np.log((1-err)/err) + np.log(len(self.classes) - 1)\n",
    "                weights *= np.exp(alpha * (y_pred != y_train))\n",
    "                weights /= np.sum(weights)\n",
    "                self.estimators.append(estimator)\n",
    "                self.estimator_weights.append(alpha)\n",
    "                print('No. of learners =', len(self.estimators))\n",
    "                print('Accuracy of current Classifier on Train Data =', self.accuracy(y_pred, y_train))\n",
    "                print('alpha =', alpha)\n",
    "                y_pred_tillnow, acc = self.test(X)\n",
    "                print('Accuracy of Ensemble on Train Data =', acc )\n",
    "                self.update_loss(y_train, y_pred_tillnow)\n",
    "                self.update_acc(acc)\n",
    "                print('\\n')\n",
    "            \n",
    "    def test(self, X):\n",
    "        y_true = X[:, 0].astype(int)\n",
    "        y_allclasses = []\n",
    "        for i in range(len(self.classes)):\n",
    "            y_pred_current = np.zeros(len(X))\n",
    "            for estimator, alpha in zip(self.estimators, self.estimator_weights):\n",
    "                current_predictions = estimator.test(X)\n",
    "                indicators = [1 if x == self.classes[i] else 0 for x in current_predictions]\n",
    "                y_pred_current += alpha * np.array(indicators).reshape(current_predictions.shape)\n",
    "            y_allclasses.append(y_pred_current)\n",
    "        y_allclasses = np.array(y_allclasses)\n",
    "\n",
    "        y_pred = np.argmax(y_allclasses, axis = 0)\n",
    "\n",
    "        acc = self.accuracy(y_true, y_pred)\n",
    "        return y_pred, acc\n",
    "\n",
    "\n",
    "    def update_loss(self, y_true, y_pred):\n",
    "        matches = Match_List(y_true, y_pred)\n",
    "        loss = np.mean(np.exp(-matches))\n",
    "        print('Train Loss of Ensemble =', loss)\n",
    "        self.loss_list.append(loss)\n",
    "    \n",
    "    def accuracy(self, y_true, y_pred):\n",
    "        return np.mean(y_true == y_pred) * 100\n",
    "    \n",
    "    def update_acc(self, acc):\n",
    "        self.acc_list.append(acc)\n",
    "    "
   ]
  },
  {
   "cell_type": "markdown",
   "id": "f7cf4afa",
   "metadata": {},
   "source": [
    "### *PCA_MNIST Data*"
   ]
  },
  {
   "cell_type": "code",
   "execution_count": 1294,
   "id": "83d134fd",
   "metadata": {},
   "outputs": [],
   "source": [
    "with open('./Data/PCA_MNIST.csv', 'r') as f:\n",
    "    results = []\n",
    "    next(f)\n",
    "    for line in f:\n",
    "        words = line.split(',')\n",
    "        for i in range(len(words)):\n",
    "            words[i] = float(words[i])\n",
    "        results.append(words)"
   ]
  },
  {
   "cell_type": "code",
   "execution_count": 1295,
   "id": "d9a03b89",
   "metadata": {},
   "outputs": [],
   "source": [
    "Data = np.array(results)"
   ]
  },
  {
   "cell_type": "code",
   "execution_count": 1296,
   "id": "f1bf85c5",
   "metadata": {},
   "outputs": [
    {
     "name": "stdout",
     "output_type": "stream",
     "text": [
      "(60000, 11)\n"
     ]
    }
   ],
   "source": [
    "print(Data.shape)"
   ]
  },
  {
   "cell_type": "code",
   "execution_count": 1297,
   "id": "d56b3894",
   "metadata": {},
   "outputs": [],
   "source": [
    "Data_Train, Data_Test = DataSplit(Data, 80, 20, val_percent = 0)"
   ]
  },
  {
   "cell_type": "code",
   "execution_count": 1298,
   "id": "e5b81a8e",
   "metadata": {},
   "outputs": [
    {
     "name": "stdout",
     "output_type": "stream",
     "text": [
      "(48000, 11)\n",
      "(12000, 11)\n"
     ]
    }
   ],
   "source": [
    "print(Data_Train.shape)\n",
    "print(Data_Test.shape)"
   ]
  },
  {
   "cell_type": "code",
   "execution_count": 1299,
   "id": "c89daaf5",
   "metadata": {},
   "outputs": [],
   "source": [
    "architectures = [[16], [20], [30]]\n",
    "adaboost_neural = AdaboostNeuralNet(10, architectures)"
   ]
  },
  {
   "cell_type": "code",
   "execution_count": 1300,
   "id": "b04905f7",
   "metadata": {
    "scrolled": true
   },
   "outputs": [
    {
     "name": "stdout",
     "output_type": "stream",
     "text": [
      "Epoch:  1  Accuracy:  42.59\n",
      "Epoch:  2  Accuracy:  43.51\n",
      "No. of learners = 1\n",
      "Accuracy of current Classifier on Train Data = 30.052083333333336\n",
      "alpha = 1.3524056473210804\n",
      "Accuracy of Ensemble on Train Data = 30.052083333333336\n",
      "Train Loss of Ensemble = 2.011936944362718\n",
      "\n",
      "\n",
      "Epoch:  1  Accuracy:  48.46\n",
      "Epoch:  2  Accuracy:  45.6\n",
      "No. of learners = 2\n",
      "Accuracy of current Classifier on Train Data = 38.6625\n",
      "alpha = 1.8745060457329106\n",
      "Accuracy of Ensemble on Train Data = 38.6625\n",
      "Train Loss of Ensemble = 1.8095575054739754\n",
      "\n",
      "\n",
      "Epoch:  1  Accuracy:  53.35\n",
      "Epoch:  2  Accuracy:  53.14\n",
      "No. of learners = 3\n",
      "Accuracy of current Classifier on Train Data = 62.635416666666664\n",
      "alpha = 2.8758150103228477\n",
      "Accuracy of Ensemble on Train Data = 62.854166666666664\n",
      "Train Loss of Ensemble = 1.2409559946159832\n",
      "\n",
      "\n",
      "Epoch:  1  Accuracy:  47.95\n",
      "Epoch:  2  Accuracy:  47.49\n",
      "No. of learners = 4\n",
      "Accuracy of current Classifier on Train Data = 49.262499999999996\n",
      "alpha = 2.536216297157062\n",
      "Accuracy of Ensemble on Train Data = 70.88958333333333\n",
      "Train Loss of Ensemble = 1.052091369454144\n",
      "\n",
      "\n",
      "Epoch:  1  Accuracy:  34.2\n",
      "Epoch:  2  Accuracy:  30.96\n",
      "No. of learners = 5\n",
      "Accuracy of current Classifier on Train Data = 31.141666666666666\n",
      "alpha = 1.2988077031301741\n",
      "Accuracy of Ensemble on Train Data = 71.94583333333333\n",
      "Train Loss of Ensemble = 1.0272652442384187\n",
      "\n",
      "\n",
      "Epoch:  1  Accuracy:  34.27\n",
      "Epoch:  2  Accuracy:  31.72\n",
      "No. of learners = 6\n",
      "Accuracy of current Classifier on Train Data = 26.772916666666667\n",
      "alpha = 1.1975137458935374\n",
      "Accuracy of Ensemble on Train Data = 72.54583333333333\n",
      "Train Loss of Ensemble = 1.013162829914693\n",
      "\n",
      "\n",
      "Epoch:  1  Accuracy:  40.58\n",
      "Epoch:  2  Accuracy:  44.13\n",
      "No. of learners = 7\n",
      "Accuracy of current Classifier on Train Data = 50.94791666666667\n",
      "alpha = 2.0576756971784036\n",
      "Accuracy of Ensemble on Train Data = 75.25833333333334\n",
      "Train Loss of Ensemble = 0.9494081651595169\n",
      "\n",
      "\n",
      "Epoch:  1  Accuracy:  35.5\n",
      "Epoch:  2  Accuracy:  36.11\n",
      "No. of learners = 8\n",
      "Accuracy of current Classifier on Train Data = 37.920833333333334\n",
      "alpha = 1.467426401573848\n",
      "Accuracy of Ensemble on Train Data = 74.49166666666667\n",
      "Train Loss of Ensemble = 0.9674279167953885\n",
      "\n",
      "\n",
      "Epoch:  1  Accuracy:  37.03\n",
      "Epoch:  2  Accuracy:  37.52\n",
      "No. of learners = 9\n",
      "Accuracy of current Classifier on Train Data = 33.68541666666667\n",
      "alpha = 2.0652346408787396\n",
      "Accuracy of Ensemble on Train Data = 75.01875\n",
      "Train Loss of Ensemble = 0.9550393375457269\n",
      "\n",
      "\n",
      "Epoch:  1  Accuracy:  32.0\n",
      "Epoch:  2  Accuracy:  31.76\n",
      "No. of learners = 10\n",
      "Accuracy of current Classifier on Train Data = 35.87708333333333\n",
      "alpha = 1.259477026566401\n",
      "Accuracy of Ensemble on Train Data = 76.38333333333334\n",
      "Train Loss of Ensemble = 0.9229661383025315\n",
      "\n",
      "\n",
      "Epoch:  1  Accuracy:  32.15\n",
      "Epoch:  2  Accuracy:  32.46\n",
      "No. of learners = 11\n",
      "Accuracy of current Classifier on Train Data = 45.62708333333333\n",
      "alpha = 1.4910192734704857\n",
      "Accuracy of Ensemble on Train Data = 79.0125\n",
      "Train Loss of Ensemble = 0.8611701422034282\n",
      "\n",
      "\n",
      "Epoch:  1  Accuracy:  28.46\n",
      "Epoch:  2  Accuracy:  29.58\n",
      "No. of learners = 12\n",
      "Accuracy of current Classifier on Train Data = 23.710416666666667\n",
      "alpha = 1.2753297404160355\n",
      "Accuracy of Ensemble on Train Data = 79.39375\n",
      "Train Loss of Ensemble = 0.8522092331018942\n",
      "\n",
      "\n",
      "Epoch:  1  Accuracy:  29.48\n",
      "Epoch:  2  Accuracy:  31.12\n",
      "No. of learners = 13\n",
      "Accuracy of current Classifier on Train Data = 31.322916666666668\n",
      "alpha = 0.934445741649403\n",
      "Accuracy of Ensemble on Train Data = 79.85624999999999\n",
      "Train Loss of Ensemble = 0.841338622060689\n",
      "\n",
      "\n",
      "Epoch:  1  Accuracy:  29.99\n",
      "Epoch:  2  Accuracy:  30.39\n",
      "No. of learners = 14\n",
      "Accuracy of current Classifier on Train Data = 23.972916666666666\n",
      "alpha = 1.1812869754733808\n",
      "Accuracy of Ensemble on Train Data = 79.90833333333333\n",
      "Train Loss of Ensemble = 0.8401144541506435\n",
      "\n",
      "\n",
      "Epoch:  1  Accuracy:  31.12\n",
      "Epoch:  2  Accuracy:  32.65\n",
      "No. of learners = 15\n",
      "Accuracy of current Classifier on Train Data = 35.87916666666667\n",
      "alpha = 1.6196464139736122\n",
      "Accuracy of Ensemble on Train Data = 79.92916666666666\n",
      "Train Loss of Ensemble = 0.839624786986625\n",
      "\n",
      "\n",
      "Epoch:  1  Accuracy:  31.69\n",
      "Epoch:  2  Accuracy:  32.46\n",
      "No. of learners = 16\n",
      "Accuracy of current Classifier on Train Data = 30.331249999999997\n",
      "alpha = 1.4397849814639465\n",
      "Accuracy of Ensemble on Train Data = 80.42708333333334\n",
      "Train Loss of Ensemble = 0.827921741766589\n",
      "\n",
      "\n",
      "Epoch:  1  Accuracy:  29.59\n",
      "Epoch:  2  Accuracy:  30.23\n",
      "No. of learners = 17\n",
      "Accuracy of current Classifier on Train Data = 32.32291666666667\n",
      "alpha = 1.1441829973272564\n",
      "Accuracy of Ensemble on Train Data = 80.84583333333333\n",
      "Train Loss of Ensemble = 0.818079431769822\n",
      "\n",
      "\n",
      "Epoch:  1  Accuracy:  29.46\n",
      "Epoch:  2  Accuracy:  30.06\n",
      "No. of learners = 18\n",
      "Accuracy of current Classifier on Train Data = 18.2875\n",
      "alpha = 1.2330344784988903\n",
      "Accuracy of Ensemble on Train Data = 81.12916666666666\n",
      "Train Loss of Ensemble = 0.8114199583391739\n",
      "\n",
      "\n",
      "Epoch:  1  Accuracy:  28.38\n",
      "Epoch:  2  Accuracy:  29.06\n",
      "No. of learners = 19\n",
      "Accuracy of current Classifier on Train Data = 32.704166666666666\n",
      "alpha = 1.6188992139298373\n",
      "Accuracy of Ensemble on Train Data = 82.40208333333334\n",
      "Train Loss of Ensemble = 0.7815012946176587\n",
      "\n",
      "\n",
      "Epoch:  1  Accuracy:  30.9\n",
      "Epoch:  2  Accuracy:  30.46\n",
      "No. of learners = 20\n",
      "Accuracy of current Classifier on Train Data = 34.69166666666666\n",
      "alpha = 1.0602471761816614\n",
      "Accuracy of Ensemble on Train Data = 82.93125\n",
      "Train Loss of Ensemble = 0.7690637486515952\n",
      "\n",
      "\n",
      "Epoch:  1  Accuracy:  32.23\n",
      "Epoch:  2  Accuracy:  32.65\n",
      "No. of learners = 21\n",
      "Accuracy of current Classifier on Train Data = 32.50833333333333\n",
      "alpha = 1.0509057632920782\n",
      "Accuracy of Ensemble on Train Data = 83.48541666666667\n",
      "Train Loss of Ensemble = 0.7560386020887097\n",
      "\n",
      "\n",
      "Epoch:  1  Accuracy:  30.91\n",
      "Epoch:  2  Accuracy:  30.98\n",
      "No. of learners = 22\n",
      "Accuracy of current Classifier on Train Data = 34.33958333333334\n",
      "alpha = 1.5993662694841833\n",
      "Accuracy of Ensemble on Train Data = 83.66875\n",
      "Train Loss of Ensemble = 0.7517295310453492\n",
      "\n",
      "\n",
      "Epoch:  1  Accuracy:  27.92\n",
      "Epoch:  2  Accuracy:  29.07\n",
      "No. of learners = 23\n",
      "Accuracy of current Classifier on Train Data = 36.31875\n",
      "alpha = 1.4254920423219049\n",
      "Accuracy of Ensemble on Train Data = 83.97708333333334\n",
      "Train Loss of Ensemble = 0.744482457017879\n",
      "\n",
      "\n",
      "Epoch:  1  Accuracy:  28.41\n",
      "Epoch:  2  Accuracy:  28.05\n",
      "No. of learners = 24\n",
      "Accuracy of current Classifier on Train Data = 13.625000000000002\n",
      "alpha = 0.9610752151906432\n",
      "Accuracy of Ensemble on Train Data = 83.675\n",
      "Train Loss of Ensemble = 0.7515826308961436\n",
      "\n",
      "\n",
      "Epoch:  1  Accuracy:  27.05\n",
      "Epoch:  2  Accuracy:  27.85\n",
      "No. of learners = 25\n",
      "Accuracy of current Classifier on Train Data = 23.833333333333336\n",
      "alpha = 1.5973646457294035\n",
      "Accuracy of Ensemble on Train Data = 84.28541666666666\n",
      "Train Loss of Ensemble = 0.7372353829904088\n",
      "\n",
      "\n",
      "Epoch:  1  Accuracy:  26.39\n",
      "Epoch:  2  Accuracy:  27.15\n",
      "No. of learners = 26\n",
      "Accuracy of current Classifier on Train Data = 42.93333333333334\n",
      "alpha = 1.5071038969580581\n",
      "Accuracy of Ensemble on Train Data = 85.31458333333333\n",
      "Train Loss of Ensemble = 0.7130458250879074\n",
      "\n",
      "\n",
      "Epoch:  1  Accuracy:  29.13\n",
      "Epoch:  2  Accuracy:  29.85\n",
      "No. of learners = 27\n",
      "Accuracy of current Classifier on Train Data = 24.583333333333332\n",
      "alpha = 1.338753842288627\n",
      "Accuracy of Ensemble on Train Data = 85.31875\n",
      "Train Loss of Ensemble = 0.7129478916551036\n",
      "\n",
      "\n",
      "Epoch:  1  Accuracy:  30.07\n",
      "Epoch:  2  Accuracy:  30.89\n",
      "No. of learners = 28\n",
      "Accuracy of current Classifier on Train Data = 28.431250000000002\n",
      "alpha = 1.401240181504933\n",
      "Accuracy of Ensemble on Train Data = 85.24166666666667\n",
      "Train Loss of Ensemble = 0.7147596601619711\n",
      "\n",
      "\n",
      "Epoch:  1  Accuracy:  27.38\n",
      "Epoch:  2  Accuracy:  28.47\n",
      "No. of learners = 29\n",
      "Accuracy of current Classifier on Train Data = 29.604166666666664\n",
      "alpha = 1.1832888467559648\n",
      "Accuracy of Ensemble on Train Data = 85.33541666666666\n",
      "Train Loss of Ensemble = 0.7125561579238892\n",
      "\n",
      "\n",
      "Epoch:  1  Accuracy:  29.65\n",
      "Epoch:  2  Accuracy:  30.35\n",
      "No. of learners = 30\n",
      "Accuracy of current Classifier on Train Data = 18.833333333333332\n",
      "alpha = 1.3448379844719847\n",
      "Accuracy of Ensemble on Train Data = 85.24791666666667\n",
      "Train Loss of Ensemble = 0.7146127600127657\n",
      "\n",
      "\n"
     ]
    }
   ],
   "source": [
    "adaboost_neural.train(Data_Train)"
   ]
  },
  {
   "cell_type": "code",
   "execution_count": 1301,
   "id": "b9fd5891",
   "metadata": {},
   "outputs": [
    {
     "data": {
      "image/png": "[encoded data removed]",
      "text/plain": [
       "<Figure size 640x480 with 1 Axes>"
      ]
     },
     "metadata": {},
     "output_type": "display_data"
    }
   ],
   "source": [
    "plt.plot(adaboost_neural.loss_list)\n",
    "plt.xlabel('no. of learners')\n",
    "plt.ylabel('Train Loss')\n",
    "plt.title('Train Loss vs Learners')\n",
    "plt.show()"
   ]
  },
  {
   "cell_type": "code",
   "execution_count": 1302,
   "id": "6b8d22a3",
   "metadata": {},
   "outputs": [
    {
     "data": {
      "image/png": "[encoded data removed]",
      "text/plain": [
       "<Figure size 640x480 with 1 Axes>"
      ]
     },
     "metadata": {},
     "output_type": "display_data"
    }
   ],
   "source": [
    "plt.plot(adaboost_neural.acc_list)\n",
    "plt.xlabel('no. of learners')\n",
    "plt.ylabel('Train Accuracy')\n",
    "plt.title('Train Accuracy vs Learners')\n",
    "plt.show()"
   ]
  },
  {
   "cell_type": "code",
   "execution_count": 1303,
   "id": "12bef8f2",
   "metadata": {},
   "outputs": [
    {
     "name": "stdout",
     "output_type": "stream",
     "text": [
      "Accuracy of Ensemble Classifier on Test Data = 88.25\n"
     ]
    }
   ],
   "source": [
    "print('Accuracy of Ensemble Classifier on Test Data =', adaboost_neural.test(Data_Test)[1])"
   ]
  },
  {
   "cell_type": "code",
   "execution_count": 1304,
   "id": "18be4543",
   "metadata": {},
   "outputs": [
    {
     "name": "stdout",
     "output_type": "stream",
     "text": [
      "Epoch:  1  Accuracy:  42.61\n",
      "Epoch:  2  Accuracy:  41.38\n",
      "Accuracy of only 1 MLP with [16] neurons on Test Data = 35.36666666666667\n",
      "Epoch:  1  Accuracy:  44.14\n",
      "Epoch:  2  Accuracy:  43.89\n",
      "Accuracy of only 1 MLP with [20] neurons on Test Data = 56.266666666666666\n",
      "Epoch:  1  Accuracy:  46.19\n",
      "Epoch:  2  Accuracy:  47.47\n",
      "Accuracy of only 1 MLP with [30] neurons on Test Data = 40.541666666666664\n"
     ]
    }
   ],
   "source": [
    "input_features = Data_Train.shape[1] - 1\n",
    "classes = np.unique(Data_Train[:, 0].astype(int))\n",
    "output_classes = len(classes)\n",
    "\n",
    "for i in range(len(architectures)):\n",
    "    model = configuration(input_features, architectures[i], output_classes, 0.01)\n",
    "    model.train(Data_Train, classes)\n",
    "    y_test = model.test(Data_Test)\n",
    "    y_true = Data_Test[:, 0].astype(int)\n",
    "    print('Accuracy of only 1 MLP with', architectures[i], 'neurons on Test Data =', np.mean(y_test == y_true) * 100)"
   ]
  },
  {
   "cell_type": "markdown",
   "id": "29366047",
   "metadata": {},
   "source": [
    "### *Assignment - 1 p3 Data*"
   ]
  },
  {
   "cell_type": "code",
   "execution_count": 1305,
   "id": "17ed1f0f",
   "metadata": {},
   "outputs": [],
   "source": [
    "with open('./Data/p4.csv', 'r') as f:\n",
    "    results = []\n",
    "    next(f)\n",
    "    for line in f:\n",
    "        words = line.split(',')\n",
    "        for i in range(len(words)):\n",
    "            words[i] = float(words[i])\n",
    "        results.append(words)"
   ]
  },
  {
   "cell_type": "code",
   "execution_count": 1306,
   "id": "00698ea0",
   "metadata": {},
   "outputs": [],
   "source": [
    "Data = np.array(results)"
   ]
  },
  {
   "cell_type": "code",
   "execution_count": 1307,
   "id": "dc57cf7e",
   "metadata": {},
   "outputs": [
    {
     "name": "stdout",
     "output_type": "stream",
     "text": [
      "(60000, 785)\n"
     ]
    }
   ],
   "source": [
    "print(Data.shape)"
   ]
  },
  {
   "cell_type": "code",
   "execution_count": 1308,
   "id": "39ac1af6",
   "metadata": {},
   "outputs": [],
   "source": [
    "Data_Train, Data_Test = DataSplit(Data, 80, 20, val_percent = 0)"
   ]
  },
  {
   "cell_type": "code",
   "execution_count": 1309,
   "id": "71f38cb0",
   "metadata": {},
   "outputs": [
    {
     "name": "stdout",
     "output_type": "stream",
     "text": [
      "(48000, 785)\n",
      "(12000, 785)\n"
     ]
    }
   ],
   "source": [
    "print(Data_Train.shape)\n",
    "print(Data_Test.shape)"
   ]
  },
  {
   "cell_type": "code",
   "execution_count": 1310,
   "id": "8fab17a3",
   "metadata": {},
   "outputs": [],
   "source": [
    "architectures = [[16], [20], [30]]\n",
    "adaboost_neural = AdaboostNeuralNet(5, architectures)"
   ]
  },
  {
   "cell_type": "code",
   "execution_count": 1311,
   "id": "59a23cce",
   "metadata": {
    "scrolled": true
   },
   "outputs": [
    {
     "name": "stdout",
     "output_type": "stream",
     "text": [
      "Epoch:  1  Accuracy:  43.02\n",
      "Epoch:  2  Accuracy:  43.49\n",
      "No. of learners = 1\n",
      "Accuracy of current Classifier on Train Data = 43.333333333333336\n",
      "alpha = 1.9289605907415404\n",
      "Accuracy of Ensemble on Train Data = 43.333333333333336\n",
      "Train Loss of Ensemble = 1.6997741273010836\n",
      "\n",
      "\n",
      "Epoch:  1  Accuracy:  18.45\n",
      "Epoch:  2  Accuracy:  19.12\n",
      "No. of learners = 2\n",
      "Accuracy of current Classifier on Train Data = 19.90625\n",
      "alpha = 0.7324368221856703\n",
      "Accuracy of Ensemble on Train Data = 43.333333333333336\n",
      "Train Loss of Ensemble = 1.6997741273010836\n",
      "\n",
      "\n",
      "Epoch:  1  Accuracy:  42.39\n",
      "Epoch:  2  Accuracy:  44.85\n",
      "No. of learners = 3\n",
      "Accuracy of current Classifier on Train Data = 29.170833333333334\n",
      "alpha = 1.6997160022512203\n",
      "Accuracy of Ensemble on Train Data = 43.31041666666667\n",
      "Train Loss of Ensemble = 1.700312761181504\n",
      "\n",
      "\n",
      "Epoch:  1  Accuracy:  31.31\n",
      "Epoch:  2  Accuracy:  35.12\n",
      "No. of learners = 4\n",
      "Accuracy of current Classifier on Train Data = 17.522916666666667\n",
      "alpha = 1.522635905877479\n",
      "Accuracy of Ensemble on Train Data = 46.70625\n",
      "Train Loss of Ensemble = 1.6204970134465293\n",
      "\n",
      "\n",
      "Epoch:  1  Accuracy:  18.85\n",
      "Epoch:  2  Accuracy:  18.74\n",
      "No. of learners = 5\n",
      "Accuracy of current Classifier on Train Data = 8.333333333333332\n",
      "alpha = 0.625755732912475\n",
      "Accuracy of Ensemble on Train Data = 46.7\n",
      "Train Loss of Ensemble = 1.6206439135957345\n",
      "\n",
      "\n",
      "Epoch:  1  Accuracy:  29.34\n",
      "Epoch:  2  Accuracy:  30.46\n",
      "No. of learners = 6\n",
      "Accuracy of current Classifier on Train Data = 31.65208333333333\n",
      "alpha = 1.4527423975104234\n",
      "Accuracy of Ensemble on Train Data = 48.4\n",
      "Train Loss of Ensemble = 1.5806870730118456\n",
      "\n",
      "\n",
      "Epoch:  1  Accuracy:  32.18\n",
      "Epoch:  2  Accuracy:  33.62\n",
      "No. of learners = 7\n",
      "Accuracy of current Classifier on Train Data = 26.88125\n",
      "alpha = 1.6252077442909671\n",
      "Accuracy of Ensemble on Train Data = 66.36041666666667\n",
      "Train Loss of Ensemble = 1.1585450109117115\n",
      "\n",
      "\n",
      "Epoch:  1  Accuracy:  28.64\n",
      "Epoch:  2  Accuracy:  33.46\n",
      "No. of learners = 8\n",
      "Accuracy of current Classifier on Train Data = 17.408333333333335\n",
      "alpha = 1.5623352841484897\n",
      "Accuracy of Ensemble on Train Data = 80.13749999999999\n",
      "Train Loss of Ensemble = 0.8347281153464426\n",
      "\n",
      "\n",
      "Epoch:  1  Accuracy:  34.46\n",
      "Epoch:  2  Accuracy:  37.02\n",
      "No. of learners = 9\n",
      "Accuracy of current Classifier on Train Data = 27.547916666666666\n",
      "alpha = 1.7655100579008356\n",
      "Accuracy of Ensemble on Train Data = 77.65625\n",
      "Train Loss of Ensemble = 0.8930474745810161\n",
      "\n",
      "\n",
      "Epoch:  1  Accuracy:  27.32\n",
      "Epoch:  2  Accuracy:  27.21\n",
      "No. of learners = 10\n",
      "Accuracy of current Classifier on Train Data = 9.964583333333334\n",
      "alpha = 1.1940113750474006\n",
      "Accuracy of Ensemble on Train Data = 78.89166666666667\n",
      "Train Loss of Ensemble = 0.864010211754734\n",
      "\n",
      "\n",
      "Epoch:  1  Accuracy:  21.44\n",
      "Epoch:  2  Accuracy:  21.25\n",
      "No. of learners = 11\n",
      "Accuracy of current Classifier on Train Data = 10.0\n",
      "alpha = 0.813476439628158\n",
      "Accuracy of Ensemble on Train Data = 83.15208333333334\n",
      "Train Loss of Ensemble = 0.7638732767130019\n",
      "\n",
      "\n",
      "Epoch:  1  Accuracy:  27.54\n",
      "Epoch:  2  Accuracy:  31.41\n",
      "No. of learners = 12\n",
      "Accuracy of current Classifier on Train Data = 33.77708333333334\n",
      "alpha = 1.5822134850796088\n",
      "Accuracy of Ensemble on Train Data = 84.07916666666667\n",
      "Train Loss of Ensemble = 0.7420830879141896\n",
      "\n",
      "\n",
      "Epoch:  1  Accuracy:  26.36\n",
      "Epoch:  2  Accuracy:  21.48\n",
      "No. of learners = 13\n",
      "Accuracy of current Classifier on Train Data = 10.0\n",
      "alpha = 0.8264333445475327\n",
      "Accuracy of Ensemble on Train Data = 85.02708333333334\n",
      "Train Loss of Ensemble = 0.7198032319513592\n",
      "\n",
      "\n",
      "Epoch:  1  Accuracy:  30.1\n",
      "Epoch:  2  Accuracy:  38.33\n",
      "No. of learners = 14\n",
      "Accuracy of current Classifier on Train Data = 34.53333333333333\n",
      "alpha = 1.8919458610380793\n",
      "Accuracy of Ensemble on Train Data = 86.55416666666666\n",
      "Train Loss of Ensemble = 0.6839106288288214\n",
      "\n",
      "\n",
      "Epoch:  1  Accuracy:  32.99\n",
      "Epoch:  2  Accuracy:  36.54\n",
      "No. of learners = 15\n",
      "Accuracy of current Classifier on Train Data = 34.510416666666664\n",
      "alpha = 1.9047009711849363\n",
      "Accuracy of Ensemble on Train Data = 85.55416666666666\n",
      "Train Loss of Ensemble = 0.7074146527016976\n",
      "\n",
      "\n"
     ]
    }
   ],
   "source": [
    "adaboost_neural.train(Data_Train)"
   ]
  },
  {
   "cell_type": "code",
   "execution_count": 1312,
   "id": "52daba52",
   "metadata": {},
   "outputs": [
    {
     "data": {
      "image/png": "[encoded data removed]",
      "text/plain": [
       "<Figure size 640x480 with 1 Axes>"
      ]
     },
     "metadata": {},
     "output_type": "display_data"
    }
   ],
   "source": [
    "plt.plot(adaboost_neural.loss_list)\n",
    "plt.xlabel('no. of learners')\n",
    "plt.ylabel('Train Loss')\n",
    "plt.title('Train Loss vs Learners')\n",
    "plt.show()"
   ]
  },
  {
   "cell_type": "code",
   "execution_count": 1313,
   "id": "3b51be13",
   "metadata": {},
   "outputs": [
    {
     "data": {
      "image/png": "[encoded data removed]",
      "text/plain": [
       "<Figure size 640x480 with 1 Axes>"
      ]
     },
     "metadata": {},
     "output_type": "display_data"
    }
   ],
   "source": [
    "plt.plot(adaboost_neural.acc_list)\n",
    "plt.xlabel('no. of learners')\n",
    "plt.ylabel('Train Accuracy')\n",
    "plt.title('Train Accuracy vs Learners')\n",
    "plt.show()"
   ]
  },
  {
   "cell_type": "code",
   "execution_count": 1314,
   "id": "749cb6a0",
   "metadata": {},
   "outputs": [
    {
     "name": "stdout",
     "output_type": "stream",
     "text": [
      "Accuracy of Ensemble Classifier on Test Data = 88.34166666666667\n"
     ]
    }
   ],
   "source": [
    "print('Accuracy of Ensemble Classifier on Test Data =', adaboost_neural.test(Data_Test)[1])"
   ]
  },
  {
   "cell_type": "code",
   "execution_count": 1315,
   "id": "08af0a2c",
   "metadata": {
    "scrolled": true
   },
   "outputs": [
    {
     "name": "stdout",
     "output_type": "stream",
     "text": [
      "Epoch:  1  Accuracy:  36.49\n",
      "Epoch:  2  Accuracy:  37.03\n",
      "Accuracy of only 1 MLP with [16] neurons on Test Data = 31.225\n",
      "Epoch:  1  Accuracy:  38.56\n",
      "Epoch:  2  Accuracy:  44.21\n",
      "Accuracy of only 1 MLP with [20] neurons on Test Data = 46.90833333333334\n",
      "Epoch:  1  Accuracy:  43.57\n",
      "Epoch:  2  Accuracy:  54.55\n",
      "Accuracy of only 1 MLP with [30] neurons on Test Data = 56.041666666666664\n"
     ]
    }
   ],
   "source": [
    "input_features = Data_Train.shape[1] - 1\n",
    "classes = np.unique(Data_Train[:, 0].astype(int))\n",
    "output_classes = len(classes)\n",
    "\n",
    "for i in range(len(architectures)):\n",
    "    model = configuration(input_features, architectures[i], output_classes, 0.01)\n",
    "    model.train(Data_Train, classes)\n",
    "    y_test = model.test(Data_Test)\n",
    "    y_true = Data_Test[:, 0].astype(int)\n",
    "    print('Accuracy of only 1 MLP with', architectures[i], 'neurons on Test Data =', np.mean(y_test == y_true) * 100)"
   ]
  },
  {
   "cell_type": "markdown",
   "id": "c87ed220",
   "metadata": {},
   "source": [
    "## Ensemble of MLPs and Decision Trees"
   ]
  },
  {
   "cell_type": "code",
   "execution_count": 1316,
   "id": "6c0a1023",
   "metadata": {},
   "outputs": [],
   "source": [
    "class Adaboost:\n",
    "    \n",
    "    def __init__(self, n_estimators, classifiers):\n",
    "        self.n_estimators = n_estimators\n",
    "        self.estimators = []\n",
    "        self.estimator_weights = []\n",
    "        self.loss_list = []\n",
    "        self.classes = None\n",
    "        self.acc_list = []\n",
    "        self.classifiers = classifiers\n",
    "        \n",
    "    def train(self, X, max_depth = 4, impurity = 'gini'):\n",
    "        \n",
    "        n_samples, _ = X.shape\n",
    "        y_train = X[:, 0].astype(int)\n",
    "        X_train = np.delete(X, 0, axis = 1)\n",
    "        self.classes = np.unique(X[:, 0].astype(int))\n",
    "        weights = np.ones(n_samples) / n_samples\n",
    "        input_features = X.shape[1] - 1\n",
    "        output_classes = len(self.classes)\n",
    "        weights = np.ones(n_samples) / n_samples\n",
    "        for i in range(self.n_estimators):\n",
    "            if self.classifiers[i] == 'decision':\n",
    "                estimator = DecisionTreeClassifier(min_samples_split=2, maximum_depth = max_depth, impurity = impurity)\n",
    "            else:\n",
    "                estimator = configuration(input_features, [16], output_classes, 0.01)\n",
    "            \n",
    "            Sampled_X = SampleData(X, weights)\n",
    "            if self.classifiers[i] == 'decision':\n",
    "                Sampled_ytrain = Sampled_X[:, 0].astype(int)\n",
    "                Sampled_Xtrain = np.delete(Sampled_X, 0, axis = 1)\n",
    "                estimator.fit(Sampled_Xtrain, Sampled_ytrain)\n",
    "                y_pred = estimator.predict(X_train)\n",
    "            else:\n",
    "                estimator.train(Sampled_X, self.classes)\n",
    "                y_pred = estimator.test(X)\n",
    "            \n",
    "            err = np.sum(weights * (y_pred != y_train))\n",
    "\n",
    "            alpha = np.log((1-err)/err) + np.log(len(self.classes) - 1)\n",
    "            weights *= np.exp(alpha * (y_pred != y_train))\n",
    "            weights /= np.sum(weights)\n",
    "            self.estimators.append(estimator)\n",
    "            self.estimator_weights.append(alpha)\n",
    "            print('No. of learners =', len(self.estimators))\n",
    "            if self.classifiers[i] == 'decision':\n",
    "                print('Current Estimator is Decision Tree')\n",
    "            else:\n",
    "                print('Current Estimator is MLP')\n",
    "            print('Accuracy of current Classifier on Train Data =', self.accuracy(y_pred, y_train))\n",
    "            print('alpha =', alpha)\n",
    "            y_pred_tillnow, acc = self.test(X)\n",
    "            print('Accuracy of Ensemble on Train Data =', acc )\n",
    "            self.update_loss(y_train, y_pred_tillnow)\n",
    "            self.update_acc(acc)\n",
    "            print('\\n')\n",
    "            \n",
    "    def test(self, X):\n",
    "     \n",
    "        y_true = X[:, 0].astype(int)\n",
    "        X_test = np.delete(X, 0, axis = 1)\n",
    "        y_allclasses = []\n",
    "        for i in range(len(self.classes)):\n",
    "            y_pred_current = np.zeros(len(X))\n",
    "            for estimator, alpha in zip(self.estimators, self.estimator_weights):\n",
    "                if isinstance(estimator, DecisionTreeClassifier):\n",
    "                    current_predictions = estimator.predict(X_test)\n",
    "                else:\n",
    "                    current_predictions = estimator.test(X)\n",
    "                indicators = [1 if x == self.classes[i] else 0 for x in current_predictions]\n",
    "                y_pred_current += alpha * np.array(indicators).reshape(current_predictions.shape)\n",
    "            y_allclasses.append(y_pred_current)\n",
    "        y_allclasses = np.array(y_allclasses)\n",
    "\n",
    "        y_pred = np.argmax(y_allclasses, axis = 0)\n",
    "\n",
    "        acc = self.accuracy(y_true, y_pred)\n",
    "        return y_pred, acc\n",
    "\n",
    "\n",
    "    def update_loss(self, y_true, y_pred):\n",
    "        matches = Match_List(y_true, y_pred)\n",
    "        loss = np.mean(np.exp(-matches))\n",
    "        print('Train Loss of Ensemble =', loss)\n",
    "        self.loss_list.append(loss)\n",
    "    \n",
    "    def accuracy(self, y_true, y_pred):\n",
    "        return np.mean(y_true == y_pred) * 100\n",
    "    \n",
    "    def update_acc(self, acc):\n",
    "        self.acc_list.append(acc)\n",
    "    "
   ]
  },
  {
   "cell_type": "markdown",
   "id": "1690d204",
   "metadata": {},
   "source": [
    "### *PCA_MNIST Data*"
   ]
  },
  {
   "cell_type": "code",
   "execution_count": 1317,
   "id": "e17bb25c",
   "metadata": {},
   "outputs": [],
   "source": [
    "with open('./Data/PCA_MNIST.csv', 'r') as f:\n",
    "    results = []\n",
    "    next(f)\n",
    "    for line in f:\n",
    "        words = line.split(',')\n",
    "        for i in range(len(words)):\n",
    "            words[i] = float(words[i])\n",
    "        results.append(words)"
   ]
  },
  {
   "cell_type": "code",
   "execution_count": 1318,
   "id": "e9706a1a",
   "metadata": {},
   "outputs": [],
   "source": [
    "Data = np.array(results)"
   ]
  },
  {
   "cell_type": "code",
   "execution_count": 1319,
   "id": "2ce6e42c",
   "metadata": {},
   "outputs": [
    {
     "name": "stdout",
     "output_type": "stream",
     "text": [
      "(60000, 11)\n"
     ]
    }
   ],
   "source": [
    "print(Data.shape)"
   ]
  },
  {
   "cell_type": "code",
   "execution_count": 1320,
   "id": "8fd733e7",
   "metadata": {},
   "outputs": [],
   "source": [
    "Data_Train, Data_Test = DataSplit(Data, 80, 20, val_percent = 0)"
   ]
  },
  {
   "cell_type": "code",
   "execution_count": 1321,
   "id": "ee131d51",
   "metadata": {},
   "outputs": [
    {
     "name": "stdout",
     "output_type": "stream",
     "text": [
      "(48000, 11)\n",
      "(12000, 11)\n"
     ]
    }
   ],
   "source": [
    "print(Data_Train.shape)\n",
    "print(Data_Test.shape)"
   ]
  },
  {
   "cell_type": "code",
   "execution_count": 1322,
   "id": "abc9c83f",
   "metadata": {},
   "outputs": [],
   "source": [
    "classifiers = ['decision', 'mlp'] * 10\n",
    "adaboost = Adaboost(20, classifiers)"
   ]
  },
  {
   "cell_type": "code",
   "execution_count": 1323,
   "id": "a57020fb",
   "metadata": {},
   "outputs": [
    {
     "name": "stdout",
     "output_type": "stream",
     "text": [
      "No. of learners = 1\n",
      "Current Estimator is Decision Tree\n",
      "Accuracy of current Classifier on Train Data = 75.73958333333334\n",
      "alpha = 3.3356794201019353\n",
      "Accuracy of Ensemble on Train Data = 75.73958333333334\n",
      "Train Loss of Ensemble = 0.9380968536706954\n",
      "\n",
      "\n",
      "Epoch:  1  Accuracy:  36.31\n",
      "Epoch:  2  Accuracy:  34.29\n",
      "No. of learners = 2\n",
      "Current Estimator is MLP\n",
      "Accuracy of current Classifier on Train Data = 42.672916666666666\n",
      "alpha = 1.9511279783625413\n",
      "Accuracy of Ensemble on Train Data = 75.73958333333334\n",
      "Train Loss of Ensemble = 0.9380968536706954\n",
      "\n",
      "\n",
      "No. of learners = 3\n",
      "Current Estimator is Decision Tree\n",
      "Accuracy of current Classifier on Train Data = 57.725\n",
      "alpha = 2.4991370832987827\n",
      "Accuracy of Ensemble on Train Data = 79.50833333333334\n",
      "Train Loss of Ensemble = 0.8495160636997937\n",
      "\n",
      "\n",
      "Epoch:  1  Accuracy:  42.49\n",
      "Epoch:  2  Accuracy:  43.12\n",
      "No. of learners = 4\n",
      "Current Estimator is MLP\n",
      "Accuracy of current Classifier on Train Data = 60.202083333333334\n",
      "alpha = 2.03234669627452\n",
      "Accuracy of Ensemble on Train Data = 82.78125\n",
      "Train Loss of Ensemble = 0.7725893522325266\n",
      "\n",
      "\n",
      "No. of learners = 5\n",
      "Current Estimator is Decision Tree\n",
      "Accuracy of current Classifier on Train Data = 35.72291666666666\n",
      "alpha = 1.9507079106341436\n",
      "Accuracy of Ensemble on Train Data = 84.27083333333333\n",
      "Train Loss of Ensemble = 0.7375781500052216\n",
      "\n",
      "\n",
      "Epoch:  1  Accuracy:  32.68\n",
      "Epoch:  2  Accuracy:  32.96\n",
      "No. of learners = 6\n",
      "Current Estimator is MLP\n",
      "Accuracy of current Classifier on Train Data = 35.05625\n",
      "alpha = 1.2639115768706664\n",
      "Accuracy of Ensemble on Train Data = 83.77083333333334\n",
      "Train Loss of Ensemble = 0.7493301619416596\n",
      "\n",
      "\n",
      "No. of learners = 7\n",
      "Current Estimator is Decision Tree\n",
      "Accuracy of current Classifier on Train Data = 38.675\n",
      "alpha = 1.6651366097582079\n",
      "Accuracy of Ensemble on Train Data = 85.47291666666666\n",
      "Train Loss of Ensemble = 0.7093243546413687\n",
      "\n",
      "\n",
      "Epoch:  1  Accuracy:  33.32\n",
      "Epoch:  2  Accuracy:  33.8\n",
      "No. of learners = 8\n",
      "Current Estimator is MLP\n",
      "Accuracy of current Classifier on Train Data = 42.28333333333333\n",
      "alpha = 1.7278772422242008\n",
      "Accuracy of Ensemble on Train Data = 86.27708333333334\n",
      "Train Loss of Ensemble = 0.6904232021102642\n",
      "\n",
      "\n",
      "No. of learners = 9\n",
      "Current Estimator is Decision Tree\n",
      "Accuracy of current Classifier on Train Data = 29.993750000000002\n",
      "alpha = 1.8014706412743378\n",
      "Accuracy of Ensemble on Train Data = 86.40625\n",
      "Train Loss of Ensemble = 0.687387265693351\n",
      "\n",
      "\n",
      "Epoch:  1  Accuracy:  29.18\n",
      "Epoch:  2  Accuracy:  28.99\n",
      "No. of learners = 10\n",
      "Current Estimator is MLP\n",
      "Accuracy of current Classifier on Train Data = 20.733333333333334\n",
      "alpha = 0.6800157504153186\n",
      "Accuracy of Ensemble on Train Data = 86.46666666666667\n",
      "Train Loss of Ensemble = 0.6859672309176981\n",
      "\n",
      "\n",
      "No. of learners = 11\n",
      "Current Estimator is Decision Tree\n",
      "Accuracy of current Classifier on Train Data = 29.902083333333334\n",
      "alpha = 1.865411159697154\n",
      "Accuracy of Ensemble on Train Data = 86.66666666666667\n",
      "Train Loss of Ensemble = 0.6812664261431228\n",
      "\n",
      "\n",
      "Epoch:  1  Accuracy:  28.3\n",
      "Epoch:  2  Accuracy:  29.35\n",
      "No. of learners = 12\n",
      "Current Estimator is MLP\n",
      "Accuracy of current Classifier on Train Data = 28.791666666666664\n",
      "alpha = 1.1349884936875616\n",
      "Accuracy of Ensemble on Train Data = 86.73333333333333\n",
      "Train Loss of Ensemble = 0.6796994912182646\n",
      "\n",
      "\n",
      "No. of learners = 13\n",
      "Current Estimator is Decision Tree\n",
      "Accuracy of current Classifier on Train Data = 28.289583333333333\n",
      "alpha = 1.474350613941751\n",
      "Accuracy of Ensemble on Train Data = 86.85208333333333\n",
      "Train Loss of Ensemble = 0.6769083883833603\n",
      "\n",
      "\n",
      "Epoch:  1  Accuracy:  29.93\n",
      "Epoch:  2  Accuracy:  31.29\n",
      "No. of learners = 14\n",
      "Current Estimator is MLP\n",
      "Accuracy of current Classifier on Train Data = 40.302083333333336\n",
      "alpha = 1.3777269469639806\n",
      "Accuracy of Ensemble on Train Data = 87.22083333333333\n",
      "Train Loss of Ensemble = 0.6682412795802374\n",
      "\n",
      "\n",
      "No. of learners = 15\n",
      "Current Estimator is Decision Tree\n",
      "Accuracy of current Classifier on Train Data = 33.64375\n",
      "alpha = 1.9560478523456712\n",
      "Accuracy of Ensemble on Train Data = 87.78333333333333\n",
      "Train Loss of Ensemble = 0.6550202661517447\n",
      "\n",
      "\n",
      "Epoch:  1  Accuracy:  28.0\n",
      "Epoch:  2  Accuracy:  28.25\n",
      "No. of learners = 16\n",
      "Current Estimator is MLP\n",
      "Accuracy of current Classifier on Train Data = 37.44166666666667\n",
      "alpha = 1.3707698432057316\n",
      "Accuracy of Ensemble on Train Data = 87.79375\n",
      "Train Loss of Ensemble = 0.6547754325697355\n",
      "\n",
      "\n",
      "No. of learners = 17\n",
      "Current Estimator is Decision Tree\n",
      "Accuracy of current Classifier on Train Data = 28.3375\n",
      "alpha = 1.485260643848984\n",
      "Accuracy of Ensemble on Train Data = 88.13125000000001\n",
      "Train Loss of Ensemble = 0.6468428245126397\n",
      "\n",
      "\n",
      "Epoch:  1  Accuracy:  28.91\n",
      "Epoch:  2  Accuracy:  29.89\n",
      "No. of learners = 18\n",
      "Current Estimator is MLP\n",
      "Accuracy of current Classifier on Train Data = 41.949999999999996\n",
      "alpha = 1.363421212480697\n",
      "Accuracy of Ensemble on Train Data = 88.23333333333333\n",
      "Train Loss of Ensemble = 0.6444434554089504\n",
      "\n",
      "\n",
      "No. of learners = 19\n",
      "Current Estimator is Decision Tree\n",
      "Accuracy of current Classifier on Train Data = 18.370833333333334\n",
      "alpha = 1.9287070652800011\n",
      "Accuracy of Ensemble on Train Data = 87.92916666666667\n",
      "Train Loss of Ensemble = 0.6515925960036169\n",
      "\n",
      "\n",
      "Epoch:  1  Accuracy:  28.75\n",
      "Epoch:  2  Accuracy:  29.52\n",
      "No. of learners = 20\n",
      "Current Estimator is MLP\n",
      "Accuracy of current Classifier on Train Data = 33.81041666666667\n",
      "alpha = 1.350742834335299\n",
      "Accuracy of Ensemble on Train Data = 88.05625\n",
      "Train Loss of Ensemble = 0.6486056263031055\n",
      "\n",
      "\n"
     ]
    }
   ],
   "source": [
    "adaboost.train(Data_Train)"
   ]
  },
  {
   "cell_type": "code",
   "execution_count": 1324,
   "id": "5907c08d",
   "metadata": {
    "scrolled": false
   },
   "outputs": [
    {
     "data": {
      "image/png": "[encoded data removed]",
      "text/plain": [
       "<Figure size 640x480 with 1 Axes>"
      ]
     },
     "metadata": {},
     "output_type": "display_data"
    }
   ],
   "source": [
    "plt.plot(adaboost.loss_list)\n",
    "plt.xlabel('no. of learners')\n",
    "plt.ylabel('Train Loss')\n",
    "plt.title('Train Loss vs Learners')\n",
    "plt.show()"
   ]
  },
  {
   "cell_type": "code",
   "execution_count": 1325,
   "id": "d8fb4dcf",
   "metadata": {},
   "outputs": [
    {
     "data": {
      "image/png": "[encoded data removed]",
      "text/plain": [
       "<Figure size 640x480 with 1 Axes>"
      ]
     },
     "metadata": {},
     "output_type": "display_data"
    }
   ],
   "source": [
    "plt.plot(adaboost.acc_list)\n",
    "plt.xlabel('no. of learners')\n",
    "plt.ylabel('Train Accuracy')\n",
    "plt.title('Train Accuracy vs Learners')\n",
    "plt.show()"
   ]
  },
  {
   "cell_type": "code",
   "execution_count": 1326,
   "id": "1fc74bc6",
   "metadata": {},
   "outputs": [
    {
     "name": "stdout",
     "output_type": "stream",
     "text": [
      "Accuracy of Ensemble Classifier on Test Data = 90.50833333333334\n"
     ]
    }
   ],
   "source": [
    "print('Accuracy of Ensemble Classifier on Test Data =', adaboost.test(Data_Test)[1])"
   ]
  },
  {
   "cell_type": "code",
   "execution_count": 1327,
   "id": "d1978af8",
   "metadata": {},
   "outputs": [
    {
     "name": "stdout",
     "output_type": "stream",
     "text": [
      "Epoch:  1  Accuracy:  41.8\n",
      "Epoch:  2  Accuracy:  42.14\n",
      "Accuracy of only 1 MLP with [16] neurons on Test Data = 48.56666666666667\n"
     ]
    }
   ],
   "source": [
    "input_features = Data_Train.shape[1] - 1\n",
    "classes = np.unique(Data_Train[:, 0].astype(int))\n",
    "output_classes = len(classes)\n",
    "model = configuration(input_features, [16], output_classes, 0.01)\n",
    "model.train(Data_Train, classes)\n",
    "y_test = model.test(Data_Test)\n",
    "y_true = Data_Test[:, 0].astype(int)\n",
    "print('Accuracy of only 1 MLP with [16] neurons on Test Data =', np.mean(y_test == y_true) * 100)"
   ]
  },
  {
   "cell_type": "code",
   "execution_count": 1328,
   "id": "cfa329e4",
   "metadata": {},
   "outputs": [
    {
     "name": "stdout",
     "output_type": "stream",
     "text": [
      "Accuracy of single Decision Tree on Test Data = 70.36666666666666\n"
     ]
    }
   ],
   "source": [
    "y_train = Data_Train[:, 0].astype(int)\n",
    "X_train = np.delete(Data_Train, 0, axis = 1)\n",
    "decision_tree.fit(X_train, y_train)\n",
    "\n",
    "y_test = Data_Test[:, 0].astype(int)\n",
    "X_test = np.delete(Data_Test, 0, axis = 1)\n",
    "y_pred = decision_tree.predict(X_test)\n",
    "print('Accuracy of single Decision Tree on Test Data =', np.mean(y_test == y_pred) * 100)"
   ]
  },
  {
   "cell_type": "markdown",
   "id": "52f6de11",
   "metadata": {},
   "source": [
    "### *Assigment-1 p3 Data*"
   ]
  },
  {
   "cell_type": "code",
   "execution_count": 1329,
   "id": "fcf96ac4",
   "metadata": {},
   "outputs": [],
   "source": [
    "with open('./Data/p3_train.csv', 'r') as f:\n",
    "    results = []\n",
    "#     next(f)\n",
    "    for line in f:\n",
    "        words = line.split(',')\n",
    "        for i in range(len(words)):\n",
    "            words[i] = float(words[i])\n",
    "        results.append(words)"
   ]
  },
  {
   "cell_type": "code",
   "execution_count": 1330,
   "id": "01814958",
   "metadata": {},
   "outputs": [],
   "source": [
    "Data_Train = np.array(results)\n",
    "Data_Train[:, [0, -1]] = Data_Train[:, [-1, 0]]\n",
    "Data_Train[:, 0] = (Data_Train[:, 0] - np.ones(Data_Train[:, 0].shape)).astype(int)"
   ]
  },
  {
   "cell_type": "code",
   "execution_count": 1331,
   "id": "2c60dd73",
   "metadata": {},
   "outputs": [],
   "source": [
    "with open('./Data/p3_test.csv', 'r') as f:\n",
    "    results = []\n",
    "#     next(f)\n",
    "    for line in f:\n",
    "        words = line.split(',')\n",
    "        for i in range(len(words)):\n",
    "            words[i] = float(words[i])\n",
    "        results.append(words)"
   ]
  },
  {
   "cell_type": "code",
   "execution_count": 1332,
   "id": "2f9d0545",
   "metadata": {},
   "outputs": [],
   "source": [
    "Data_Test = np.array(results)\n",
    "Data_Test[:, [0, -1]] = Data_Test[:, [-1, 0]]\n",
    "Data_Test[:, 0] = (Data_Test[:, 0] - np.ones(Data_Test[:, 0].shape)).astype(int)"
   ]
  },
  {
   "cell_type": "code",
   "execution_count": 1333,
   "id": "830b420c",
   "metadata": {},
   "outputs": [
    {
     "name": "stdout",
     "output_type": "stream",
     "text": [
      "(60000, 11)\n",
      "(15000, 11)\n"
     ]
    }
   ],
   "source": [
    "print(Data_Train.shape)\n",
    "print(Data_Test.shape)"
   ]
  },
  {
   "cell_type": "code",
   "execution_count": 1336,
   "id": "d1756d36",
   "metadata": {},
   "outputs": [],
   "source": [
    "classifiers = ['decision', 'mlp'] * 5\n",
    "adaboost = Adaboost(10, classifiers)"
   ]
  },
  {
   "cell_type": "code",
   "execution_count": 1337,
   "id": "bfd8f5f8",
   "metadata": {
    "scrolled": true
   },
   "outputs": [
    {
     "name": "stdout",
     "output_type": "stream",
     "text": [
      "No. of learners = 1\n",
      "Current Estimator is Decision Tree\n",
      "Accuracy of current Classifier on Train Data = 47.73833333333333\n",
      "alpha = 1.2957659186890558\n",
      "Accuracy of Ensemble on Train Data = 47.73833333333333\n",
      "Train Loss of Ensemble = 1.5962389021410652\n",
      "\n",
      "\n",
      "Epoch:  1  Accuracy:  27.95\n",
      "Epoch:  2  Accuracy:  39.58\n",
      "No. of learners = 2\n",
      "Current Estimator is MLP\n",
      "Accuracy of current Classifier on Train Data = 49.67166666666667\n",
      "alpha = 1.0805038748505207\n",
      "Accuracy of Ensemble on Train Data = 47.73833333333333\n",
      "Train Loss of Ensemble = 1.5962389021410652\n",
      "\n",
      "\n",
      "No. of learners = 3\n",
      "Current Estimator is Decision Tree\n",
      "Accuracy of current Classifier on Train Data = 29.349999999999998\n",
      "alpha = 0.5160923290271061\n",
      "Accuracy of Ensemble on Train Data = 48.85333333333333\n",
      "Train Loss of Ensemble = 1.5700319155228084\n",
      "\n",
      "\n",
      "Epoch:  1  Accuracy:  24.2\n",
      "Epoch:  2  Accuracy:  26.04\n",
      "No. of learners = 4\n",
      "Current Estimator is MLP\n",
      "Accuracy of current Classifier on Train Data = 34.165\n",
      "alpha = 0.46903913619011406\n",
      "Accuracy of Ensemble on Train Data = 51.233333333333334\n",
      "Train Loss of Ensemble = 1.5140923387053633\n",
      "\n",
      "\n",
      "No. of learners = 5\n",
      "Current Estimator is Decision Tree\n",
      "Accuracy of current Classifier on Train Data = 31.130000000000003\n",
      "alpha = 0.5050117775184714\n",
      "Accuracy of Ensemble on Train Data = 53.769999999999996\n",
      "Train Loss of Ensemble = 1.4544704648145013\n",
      "\n",
      "\n",
      "Epoch:  1  Accuracy:  21.48\n",
      "Epoch:  2  Accuracy:  23.56\n",
      "No. of learners = 6\n",
      "Current Estimator is MLP\n",
      "Accuracy of current Classifier on Train Data = 31.40833333333333\n",
      "alpha = 0.2924463703018836\n",
      "Accuracy of Ensemble on Train Data = 54.693333333333335\n",
      "Train Loss of Ensemble = 1.4327684161052123\n",
      "\n",
      "\n",
      "No. of learners = 7\n",
      "Current Estimator is Decision Tree\n",
      "Accuracy of current Classifier on Train Data = 26.356666666666666\n",
      "alpha = 0.2918494817599593\n",
      "Accuracy of Ensemble on Train Data = 54.931666666666665\n",
      "Train Loss of Ensemble = 1.4271666237488438\n",
      "\n",
      "\n",
      "Epoch:  1  Accuracy:  22.83\n",
      "Epoch:  2  Accuracy:  24.66\n",
      "No. of learners = 8\n",
      "Current Estimator is MLP\n",
      "Accuracy of current Classifier on Train Data = 25.871666666666666\n",
      "alpha = 0.29698042904714783\n",
      "Accuracy of Ensemble on Train Data = 54.928333333333335\n",
      "Train Loss of Ensemble = 1.4272449704950863\n",
      "\n",
      "\n",
      "No. of learners = 9\n",
      "Current Estimator is Decision Tree\n",
      "Accuracy of current Classifier on Train Data = 23.880000000000003\n",
      "alpha = 0.30361769500166824\n",
      "Accuracy of Ensemble on Train Data = 54.85\n",
      "Train Loss of Ensemble = 1.4290861190317947\n",
      "\n",
      "\n",
      "Epoch:  1  Accuracy:  22.42\n",
      "Epoch:  2  Accuracy:  22.44\n",
      "No. of learners = 10\n",
      "Current Estimator is MLP\n",
      "Accuracy of current Classifier on Train Data = 20.041666666666664\n",
      "alpha = 0.14956746470676419\n",
      "Accuracy of Ensemble on Train Data = 54.95833333333333\n",
      "Train Loss of Ensemble = 1.4265398497789\n",
      "\n",
      "\n"
     ]
    }
   ],
   "source": [
    "adaboost.train(Data_Train, max_depth = 3)"
   ]
  },
  {
   "cell_type": "code",
   "execution_count": 1338,
   "id": "e5172a1b",
   "metadata": {
    "scrolled": false
   },
   "outputs": [
    {
     "data": {
      "image/png": "[encoded data removed]",
      "text/plain": [
       "<Figure size 640x480 with 1 Axes>"
      ]
     },
     "metadata": {},
     "output_type": "display_data"
    }
   ],
   "source": [
    "plt.plot(adaboost.loss_list)\n",
    "plt.xlabel('no. of learners')\n",
    "plt.ylabel('Train Loss')\n",
    "plt.title('Train Loss vs Learners')\n",
    "plt.show()"
   ]
  },
  {
   "cell_type": "code",
   "execution_count": 1339,
   "id": "dd17b297",
   "metadata": {},
   "outputs": [
    {
     "data": {
      "image/png": "[encoded data removed]",
      "text/plain": [
       "<Figure size 640x480 with 1 Axes>"
      ]
     },
     "metadata": {},
     "output_type": "display_data"
    }
   ],
   "source": [
    "plt.plot(adaboost.acc_list)\n",
    "plt.xlabel('no. of learners')\n",
    "plt.ylabel('Train Accuracy')\n",
    "plt.title('Train Accuracy vs Learners')\n",
    "plt.show()"
   ]
  },
  {
   "cell_type": "code",
   "execution_count": 1340,
   "id": "b087c8cc",
   "metadata": {},
   "outputs": [
    {
     "name": "stdout",
     "output_type": "stream",
     "text": [
      "Accuracy of Ensemble Classifier on Test Data = 55.22\n"
     ]
    }
   ],
   "source": [
    "print('Accuracy of Ensemble Classifier on Test Data =', adaboost.test(Data_Test)[1])"
   ]
  },
  {
   "cell_type": "code",
   "execution_count": 1343,
   "id": "3784520d",
   "metadata": {},
   "outputs": [
    {
     "name": "stdout",
     "output_type": "stream",
     "text": [
      "Epoch:  1  Accuracy:  28.65\n",
      "Epoch:  2  Accuracy:  38.05\n",
      "Accuracy of only 1 MLP with [16] neurons on Test Data = 43.62666666666667\n"
     ]
    }
   ],
   "source": [
    "input_features = Data_Train.shape[1] - 1\n",
    "classes = np.unique(Data_Train[:, 0].astype(int))\n",
    "output_classes = len(classes)\n",
    "model = configuration(input_features, [16], output_classes, 0.001)\n",
    "model.train(Data_Train, classes)\n",
    "y_test = model.test(Data_Test)\n",
    "y_true = Data_Test[:, 0].astype(int)\n",
    "print('Accuracy of only 1 MLP with [16] neurons on Test Data =', np.mean(y_test == y_true) * 100)"
   ]
  },
  {
   "cell_type": "code",
   "execution_count": 1342,
   "id": "0aa366c9",
   "metadata": {},
   "outputs": [
    {
     "name": "stdout",
     "output_type": "stream",
     "text": [
      "Accuracy of single Decision Tree on Test Data = 49.946666666666665\n"
     ]
    }
   ],
   "source": [
    "decision_tree = DecisionTreeClassifier(min_samples_split=2, maximum_depth=3)\n",
    "y_train = Data_Train[:, 0].astype(int)\n",
    "X_train = np.delete(Data_Train, 0, axis = 1)\n",
    "decision_tree.fit(X_train, y_train)\n",
    "\n",
    "y_test = Data_Test[:, 0].astype(int)\n",
    "X_test = np.delete(Data_Test, 0, axis = 1)\n",
    "y_pred = decision_tree.predict(X_test)\n",
    "print('Accuracy of single Decision Tree on Test Data =', np.mean(y_test == y_pred) * 100)"
   ]
  }
 ],
 "metadata": {
  "kernelspec": {
   "display_name": "Python 3 (ipykernel)",
   "language": "python",
   "name": "python3"
  },
  "language_info": {
   "codemirror_mode": {
    "name": "ipython",
    "version": 3
   },
   "file_extension": ".py",
   "mimetype": "text/x-python",
   "name": "python",
   "nbconvert_exporter": "python",
   "pygments_lexer": "ipython3",
   "version": "3.10.6"
  }
 },
 "nbformat": 4,
 "nbformat_minor": 5
}
