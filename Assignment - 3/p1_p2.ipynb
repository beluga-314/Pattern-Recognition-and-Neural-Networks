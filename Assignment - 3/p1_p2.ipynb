{
 "cells": [
  {
   "cell_type": "code",
   "execution_count": 1,
   "id": "1af9cfc7",
   "metadata": {},
   "outputs": [],
   "source": [
    "import numpy as np\n",
    "import matplotlib.pyplot as plt"
   ]
  },
  {
   "cell_type": "code",
   "execution_count": 2,
   "id": "59003f2d",
   "metadata": {},
   "outputs": [],
   "source": [
    "with open('p3_train.csv', 'r') as f:\n",
    "    results = []\n",
    "    for line in f:\n",
    "        words = line.split(',')\n",
    "        for i in range(len(words)):\n",
    "            words[i] = float(words[i])\n",
    "        results.append(words)\n",
    "Data = np.array(results)\n",
    "Data_Y_train = Data[:,10].astype(int)\n",
    "Data_Y_train=Data_Y_train.reshape(-1,1)\n",
    "Data_X_train = np.delete(Data, 10, axis = 1)"
   ]
  },
  {
   "cell_type": "code",
   "execution_count": 3,
   "id": "0d8cf317",
   "metadata": {},
   "outputs": [],
   "source": [
    "with open('p3_test.csv', 'r') as f:\n",
    "    results = []\n",
    "    for line in f:\n",
    "        words = line.split(',')\n",
    "        for i in range(len(words)):\n",
    "            words[i] = float(words[i])\n",
    "        results.append(words)\n",
    "Data_test = np.array(results)\n",
    "Data_Y_test = Data_test[:,10].astype(int)\n",
    "Data_X_test = np.delete(Data_test, 10, axis = 1)"
   ]
  },
  {
   "cell_type": "code",
   "execution_count": 4,
   "id": "32953656",
   "metadata": {},
   "outputs": [],
   "source": [
    "def metrics(predicted_labels, test_labels):\n",
    "    \n",
    "    # Accuracy\n",
    "    \n",
    "    Accuracy = 0\n",
    "    for i in range(len(test_labels)):\n",
    "        if predicted_labels[i] == test_labels[i]:\n",
    "            Accuracy += 1\n",
    "    Accuracy /= len(predicted_labels)\n",
    "    Accuracy *= 100\n",
    "    print('Classification Accuracy  on Test Data is: ', Accuracy, '\\n')\n",
    "    \n",
    "    # Confusion Matrix\n",
    "    classes=len(np.unique(test_labels))\n",
    "    ConfMatrix = np.zeros([classes, classes])\n",
    "    \n",
    "    for i in range(len(test_labels)):\n",
    "        ConfMatrix[test_labels[i] - 1, predicted_labels[i] - 1] += 1\n",
    "    print('Confusion Matrix is: \\n', ConfMatrix, '\\n')\n",
    "    \n",
    "    # Precision\n",
    "    \n",
    "    Precision = []\n",
    "    for i in range(classes):\n",
    "        Precision.append(ConfMatrix[i][i] / np.sum(ConfMatrix[:,i]))\n",
    "    \n",
    "    # Recall\n",
    "    \n",
    "    Recall = []\n",
    "    for i in range(classes):\n",
    "        Recall.append(ConfMatrix[i][i] / np.sum(ConfMatrix[i,:]))\n",
    "    \n",
    "    # f1 Score\n",
    "    \n",
    "    f1Score = []\n",
    "    for i in range(classes):\n",
    "        f1Score.append(2 * Recall[i] * Precision[i] / (Recall[i] + Precision[i]))\n",
    "        print('f1 Score of Class ', i + 1 , ' is: ', f1Score[i])"
   ]
  },
  {
   "cell_type": "code",
   "execution_count": 5,
   "id": "26d588a3",
   "metadata": {},
   "outputs": [],
   "source": [
    "class Node():\n",
    "    def __init__(self, feature_index=None, threshold=None, left=None, right=None, info_gain=None, value=None):\n",
    "        ''' constructor ''' \n",
    "        \n",
    "        # for decision node\n",
    "        self.feature_index = feature_index\n",
    "        self.threshold = threshold\n",
    "        self.left = left\n",
    "        self.right = right\n",
    "        self.info_gain = info_gain\n",
    "        \n",
    "        # for leaf node\n",
    "        self.value = value"
   ]
  },
  {
   "cell_type": "code",
   "execution_count": 175,
   "id": "db45bf41",
   "metadata": {},
   "outputs": [],
   "source": [
    "class DecisionTreeClassifier():\n",
    "    def __init__(self, min_samples_split=2, maximum_depth=2,impurity=\"gini\"):\n",
    "        self.root = None\n",
    "        self.min_samples_split=min_samples_split\n",
    "        self.maximum_depth=maximum_depth\n",
    "        self.impurity=impurity\n",
    "        \n",
    "    def Build_Tree(self,X_train,Y_train,current_depth=0):\n",
    "        X_train=np.array(X_train)\n",
    "        N_samples = X_train.shape[0]\n",
    "        N_features=X_train.shape[1]\n",
    "        \n",
    "        if current_depth<=self.maximum_depth and N_samples>=self.min_samples_split:\n",
    "            \n",
    "            best_split = self.get_best_split(X_train,Y_train,N_samples, N_features)\n",
    "            \n",
    "            if(best_split!={}):\n",
    "            \n",
    "                if(best_split[\"Information_gain\"]>0):\n",
    "\n",
    "                    left_sub_tree=self.Build_Tree(best_split[\"left_train_X\"],best_split[\"left_train_Y\"],current_depth+1)\n",
    "\n",
    "                    right_sub_tree=self.Build_Tree(best_split[\"right_train_X\"],best_split[\"right_train_Y\"],current_depth+1)\n",
    "\n",
    "                    return Node(best_split[\"feature_index\"],best_split[\"threshold\"],left_sub_tree,right_sub_tree,best_split[\"Information_gain\"])\n",
    "        \n",
    "    \n",
    "            \n",
    "        leaf_value=max(Y_train,key=Y_train.count)\n",
    "\n",
    "        return Node(value=leaf_value)\n",
    "        \n",
    "    \n",
    "    def get_best_split(self,X_train,Y_train,N_samples,N_features):\n",
    "        \n",
    "        best_split={}\n",
    "        max_info_gain=-np.inf\n",
    "        \n",
    "        for feature in range(N_features):\n",
    "            feature_values=X_train[:,feature]\n",
    "            possible_thresholds=np.unique(feature_values)\n",
    "            min_feature_value,max_feature_value=min(possible_thresholds),max(possible_thresholds)\n",
    "            sample_size=min(len(possible_thresholds),20)\n",
    "            #print(sample_size)\n",
    "            sampled_possible_thresholds=np.random.uniform(min_feature_value,max_feature_value,size=sample_size)\n",
    "            \n",
    "            for threshold in sampled_possible_thresholds:\n",
    "                \n",
    "                left_train_X,right_train_X,left_train_Y,right_train_Y=self.split_into_left_right(X_train,Y_train,threshold,feature)\n",
    "                \n",
    "                if len(right_train_X)>0 and len(left_train_X)>0:\n",
    "                    \n",
    "                    curr_info_gain = self.information_gain(Y_train,left_train_Y, right_train_Y,self.impurity)\n",
    "                    \n",
    "                    if curr_info_gain>max_info_gain:\n",
    "                        \n",
    "                        best_split[\"feature_index\"]=feature\n",
    "                        best_split[\"threshold\"]=threshold\n",
    "                        best_split[\"left_train_X\"]=left_train_X\n",
    "                        best_split[\"left_train_Y\"]=left_train_Y\n",
    "                        best_split[\"right_train_X\"]=right_train_X\n",
    "                        best_split[\"right_train_Y\"]=right_train_Y\n",
    "                        best_split[\"Information_gain\"]=curr_info_gain\n",
    "                        max_info_gain=curr_info_gain\n",
    "        \n",
    "        return best_split\n",
    "    \n",
    "    def split_into_left_right(self,X_train,Y_train,threshold,feature):\n",
    "        left_train_X=[]\n",
    "        right_train_X=[]\n",
    "        left_train_Y=[]\n",
    "        right_train_Y=[]\n",
    "        \n",
    "        for i in range(len(X_train)):\n",
    "            if(X_train[i][feature]<=threshold):\n",
    "                left_train_X.append(X_train[i])\n",
    "                left_train_Y.append(Y_train[i])\n",
    "            else:\n",
    "                right_train_X.append(X_train[i])\n",
    "                right_train_Y.append(Y_train[i])\n",
    "                \n",
    "        return left_train_X,right_train_X,left_train_Y,right_train_Y\n",
    "    \n",
    "    def get_entropy(self,Y):\n",
    "        classes=np.unique(Y)\n",
    "        Y=np.array(Y)\n",
    "        entropy=0\n",
    "        for i in classes:\n",
    "            p_i = len(Y[Y == i]) / len(Y)\n",
    "            entropy+=-p_i*np.log2(p_i)\n",
    "        return entropy\n",
    "    \n",
    "    def gini_impurity(self,Y):\n",
    "        classes=np.unique(Y)\n",
    "        Y=np.array(Y)\n",
    "        gini=0\n",
    "        for i in classes:\n",
    "            p_i = len(Y[Y == i]) / len(Y)\n",
    "            gini+=p_i*p_i\n",
    "        return 1-gini\n",
    "                \n",
    "    def information_gain(self,Y_train,left_train_Y,right_train_Y,impurity):\n",
    "        \n",
    "        weight_left=len(left_train_Y)/len(Y_train)\n",
    "        \n",
    "        weight_right=len(right_train_Y)/len(Y_train)\n",
    "        \n",
    "        if(impurity==\"entropy\"):\n",
    "            \n",
    "            info_gain=self.get_entropy(Y_train)-(weight_left*self.get_entropy(left_train_Y)+weight_right*self.get_entropy(right_train_Y))\n",
    "            \n",
    "        if(impurity==\"gini\"):\n",
    "            \n",
    "            info_gain=self.gini_impurity(Y_train)-(weight_left*self.gini_impurity(left_train_Y)+weight_right*self.gini_impurity(right_train_Y))\n",
    "        \n",
    "            \n",
    "        return info_gain\n",
    "                \n",
    "    \n",
    "    def fit(self,X_train,Y_train):\n",
    "        \n",
    "        self.root=self.Build_Tree(X_train,Y_train)\n",
    "        \n",
    "    def predict(self,X_test):\n",
    "        \n",
    "        y_pred=[]\n",
    "        \n",
    "        for each in X_test:\n",
    "            y_pred.append(self.make_predictions(each,self.root))\n",
    "            \n",
    "        return y_pred\n",
    "    \n",
    "    def make_predictions(self,x,tree):\n",
    "        \n",
    "        if tree.value!=None:\n",
    "            return int(tree.value)\n",
    "        \n",
    "        if(x[tree.feature_index]>tree.threshold):\n",
    "            return self.make_predictions(x,tree.right)\n",
    "        else:\n",
    "            return self.make_predictions(x,tree.left)\n",
    "            \n",
    "    def print_tree(self, tree=None, indent=\" \"):\n",
    "        ''' function to print the tree '''\n",
    "        \n",
    "        if not tree:\n",
    "            tree = self.root\n",
    "\n",
    "        if tree.value is not None:\n",
    "            print(tree.value)\n",
    "\n",
    "        else:\n",
    "            print(\"X_\"+str(tree.feature_index), \"<=\", tree.threshold, \"?\", tree.info_gain)\n",
    "            print(\"%sleft:\" % (indent), end=\"\")\n",
    "            self.print_tree(tree.left, indent + indent)\n",
    "            print(\"%sright:\" % (indent), end=\"\")\n",
    "            self.print_tree(tree.right, indent + indent)   "
   ]
  },
  {
   "cell_type": "code",
   "execution_count": null,
   "id": "280586fc",
   "metadata": {},
   "outputs": [],
   "source": [
    "classifier = DecisionTreeClassifier(min_samples_split=3, maximum_depth=5)\n",
    "classifier.fit(Data_X_train,Data_Y_train)\n",
    "classifier.print_tree()"
   ]
  },
  {
   "cell_type": "code",
   "execution_count": 8,
   "id": "a6be3283",
   "metadata": {},
   "outputs": [
    {
     "name": "stdout",
     "output_type": "stream",
     "text": [
      "Classification Accuracy  on Test Data is:  51.193333333333335 \n",
      "\n",
      "Confusion Matrix is: \n",
      " [[2203.  185.  139.   81.  363.]\n",
      " [1237. 1255.  134.   50.  305.]\n",
      " [1116.  147. 1441.   49.  287.]\n",
      " [1331.  167.  106. 1089.  282.]\n",
      " [1027.  161.   90.   64. 1691.]] \n",
      "\n",
      "f1 Score of Class  1  is:  0.4457258472432979\n",
      "f1 Score of Class  2  is:  0.5126633986928105\n",
      "f1 Score of Class  3  is:  0.5822222222222222\n",
      "f1 Score of Class  4  is:  0.5055710306406686\n",
      "f1 Score of Class  5  is:  0.5673544707263881\n"
     ]
    }
   ],
   "source": [
    "Y_pred = classifier.predict(Data_X_test)\n",
    "metrics(Y_pred, Data_Y_test)"
   ]
  },
  {
   "cell_type": "code",
   "execution_count": 90,
   "id": "299429e5",
   "metadata": {},
   "outputs": [],
   "source": [
    "def get_accuracy(predicted_labels,test_labels):\n",
    "    Accuracy = 0\n",
    "    for i in range(len(test_labels)):\n",
    "        if predicted_labels[i] == test_labels[i]:\n",
    "            Accuracy += 1\n",
    "    Accuracy /= len(predicted_labels)\n",
    "    Accuracy *= 100\n",
    "    return Accuracy"
   ]
  },
  {
   "cell_type": "markdown",
   "id": "d1f917fb",
   "metadata": {},
   "source": [
    "### Gini Impurity for p3 in A1"
   ]
  },
  {
   "cell_type": "code",
   "execution_count": 11,
   "id": "0350d240",
   "metadata": {},
   "outputs": [
    {
     "name": "stdout",
     "output_type": "stream",
     "text": [
      "Depth: 1\n",
      "Train Accuracy: 37.065\n",
      "Test Accuracy: 36.559999999999995\n",
      "Depth: 2\n",
      "Train Accuracy: 41.099999999999994\n",
      "Test Accuracy: 40.50666666666667\n",
      "Depth: 3\n",
      "Train Accuracy: 46.19166666666666\n",
      "Test Accuracy: 45.92\n",
      "Depth: 4\n",
      "Train Accuracy: 49.70666666666666\n",
      "Test Accuracy: 49.559999999999995\n",
      "Depth: 5\n",
      "Train Accuracy: 52.449999999999996\n",
      "Test Accuracy: 51.75333333333333\n",
      "Depth: 6\n",
      "Train Accuracy: 53.315\n",
      "Test Accuracy: 52.70666666666667\n",
      "Depth: 7\n",
      "Train Accuracy: 56.08\n",
      "Test Accuracy: 55.379999999999995\n",
      "Depth: 8\n",
      "Train Accuracy: 56.184999999999995\n",
      "Test Accuracy: 55.19333333333334\n",
      "Depth: 9\n",
      "Train Accuracy: 57.004999999999995\n",
      "Test Accuracy: 54.779999999999994\n",
      "Depth: 10\n",
      "Train Accuracy: 58.375\n",
      "Test Accuracy: 55.653333333333336\n",
      "Depth: 11\n",
      "Train Accuracy: 59.07333333333333\n",
      "Test Accuracy: 55.1\n",
      "Depth: 12\n",
      "Train Accuracy: 60.56666666666667\n",
      "Test Accuracy: 55.553333333333335\n",
      "Depth: 13\n",
      "Train Accuracy: 61.66166666666667\n",
      "Test Accuracy: 54.86666666666666\n",
      "Depth: 14\n",
      "Train Accuracy: 64.36833333333334\n",
      "Test Accuracy: 53.86\n",
      "Depth: 15\n",
      "Train Accuracy: 66.66833333333332\n",
      "Test Accuracy: 52.95333333333333\n",
      "Depth: 16\n",
      "Train Accuracy: 67.035\n",
      "Test Accuracy: 53.093333333333334\n",
      "Depth: 17\n",
      "Train Accuracy: 73.97333333333333\n",
      "Test Accuracy: 51.013333333333335\n",
      "Depth: 18\n",
      "Train Accuracy: 73.99333333333334\n",
      "Test Accuracy: 51.18000000000001\n",
      "Depth: 19\n",
      "Train Accuracy: 77.44333333333333\n",
      "Test Accuracy: 50.193333333333335\n",
      "Depth: 20\n",
      "Train Accuracy: 77.76333333333334\n",
      "Test Accuracy: 49.70666666666666\n",
      "Depth: 21\n",
      "Train Accuracy: 81.73333333333333\n",
      "Test Accuracy: 49.64666666666667\n",
      "Depth: 22\n",
      "Train Accuracy: 86.77666666666667\n",
      "Test Accuracy: 48.31333333333333\n",
      "Depth: 23\n",
      "Train Accuracy: 86.07666666666667\n",
      "Test Accuracy: 47.96\n",
      "Depth: 24\n",
      "Train Accuracy: 89.98833333333334\n",
      "Test Accuracy: 47.07333333333333\n"
     ]
    }
   ],
   "source": [
    "depths=list(range(1,25))\n",
    "accuracies_train=[]\n",
    "accuracies_test=[]\n",
    "for i in depths:\n",
    "    classifier = DecisionTreeClassifier(min_samples_split=3, maximum_depth=i,impurity='gini')\n",
    "    classifier.fit(Data_X_train,Data_Y_train)\n",
    "    #classifier.print_tree()\n",
    "    Y_pred = classifier.predict(Data_X_test)\n",
    "    accuracy_test=get_accuracy(Y_pred,Data_Y_test)\n",
    "    accuracies_test.append(accuracy_test)\n",
    "    Y_pred_train = classifier.predict(Data_X_train)\n",
    "    accuracy_train=get_accuracy(Y_pred_train,Data_Y_train)\n",
    "    accuracies_train.append(accuracy_train)\n",
    "    print(\"Depth:\",i)\n",
    "    print(\"Train Accuracy:\",accuracy_train)\n",
    "    print(\"Test Accuracy:\",accuracy_test)"
   ]
  },
  {
   "cell_type": "code",
   "execution_count": 12,
   "id": "4730964a",
   "metadata": {},
   "outputs": [
    {
     "data": {
      "image/png": "[encoded data removed]",
      "text/plain": [
       "<Figure size 1080x720 with 1 Axes>"
      ]
     },
     "metadata": {
      "needs_background": "light"
     },
     "output_type": "display_data"
    }
   ],
   "source": [
    "fig = plt.figure(figsize=(15, 10))\n",
    "plt.plot(depths,accuracies_train,label='Train Accuracy')\n",
    "plt.plot(depths,accuracies_test,label='Test Accuracy')\n",
    "plt.xlabel('Depth of Decision Tree')\n",
    "plt.ylabel('Accuracy')\n",
    "plt.legend()\n",
    "plt.show()"
   ]
  },
  {
   "cell_type": "markdown",
   "id": "6a6ed910",
   "metadata": {},
   "source": [
    "### Entropy Impurity for p3 in A1"
   ]
  },
  {
   "cell_type": "code",
   "execution_count": 13,
   "id": "260715a5",
   "metadata": {},
   "outputs": [
    {
     "name": "stdout",
     "output_type": "stream",
     "text": [
      "Depth: 1\n",
      "Train Accuracy: 36.29833333333333\n",
      "Test Accuracy: 35.88666666666667\n",
      "Depth: 2\n",
      "Train Accuracy: 41.623333333333335\n",
      "Test Accuracy: 41.126666666666665\n",
      "Depth: 3\n",
      "Train Accuracy: 50.24999999999999\n",
      "Test Accuracy: 49.980000000000004\n",
      "Depth: 4\n",
      "Train Accuracy: 49.901666666666664\n",
      "Test Accuracy: 49.57333333333334\n",
      "Depth: 5\n",
      "Train Accuracy: 51.324999999999996\n",
      "Test Accuracy: 50.9\n",
      "Depth: 6\n",
      "Train Accuracy: 53.845\n",
      "Test Accuracy: 53.24666666666666\n",
      "Depth: 7\n",
      "Train Accuracy: 55.51666666666667\n",
      "Test Accuracy: 54.986666666666665\n",
      "Depth: 8\n",
      "Train Accuracy: 56.38166666666666\n",
      "Test Accuracy: 54.84\n",
      "Depth: 9\n",
      "Train Accuracy: 57.74\n",
      "Test Accuracy: 55.68666666666666\n",
      "Depth: 10\n",
      "Train Accuracy: 58.096666666666664\n",
      "Test Accuracy: 55.96666666666666\n",
      "Depth: 11\n",
      "Train Accuracy: 59.891666666666666\n",
      "Test Accuracy: 55.166666666666664\n",
      "Depth: 12\n",
      "Train Accuracy: 60.565000000000005\n",
      "Test Accuracy: 54.67999999999999\n",
      "Depth: 13\n",
      "Train Accuracy: 64.42666666666666\n",
      "Test Accuracy: 53.82666666666667\n",
      "Depth: 14\n",
      "Train Accuracy: 65.915\n",
      "Test Accuracy: 53.10666666666667\n",
      "Depth: 15\n",
      "Train Accuracy: 70.53166666666667\n",
      "Test Accuracy: 51.25999999999999\n",
      "Depth: 16\n",
      "Train Accuracy: 73.81\n",
      "Test Accuracy: 50.873333333333335\n",
      "Depth: 17\n",
      "Train Accuracy: 76.715\n",
      "Test Accuracy: 50.13333333333333\n",
      "Depth: 18\n",
      "Train Accuracy: 80.72333333333333\n",
      "Test Accuracy: 48.56666666666667\n",
      "Depth: 19\n",
      "Train Accuracy: 81.88666666666666\n",
      "Test Accuracy: 48.67333333333333\n",
      "Depth: 20\n",
      "Train Accuracy: 87.78166666666667\n",
      "Test Accuracy: 48.486666666666665\n",
      "Depth: 21\n",
      "Train Accuracy: 89.45166666666667\n",
      "Test Accuracy: 47.96\n",
      "Depth: 22\n",
      "Train Accuracy: 90.07\n",
      "Test Accuracy: 47.81333333333333\n",
      "Depth: 23\n",
      "Train Accuracy: 94.63000000000001\n",
      "Test Accuracy: 46.94\n",
      "Depth: 24\n",
      "Train Accuracy: 97.715\n",
      "Test Accuracy: 47.18\n",
      "Depth: 25\n",
      "Train Accuracy: 97.98166666666667\n",
      "Test Accuracy: 47.099999999999994\n",
      "Depth: 26\n",
      "Train Accuracy: 98.64\n",
      "Test Accuracy: 47.17333333333333\n",
      "Depth: 27\n",
      "Train Accuracy: 98.96666666666667\n",
      "Test Accuracy: 46.78\n",
      "Depth: 28\n",
      "Train Accuracy: 99.45166666666667\n",
      "Test Accuracy: 46.306666666666665\n",
      "Depth: 29\n",
      "Train Accuracy: 99.785\n",
      "Test Accuracy: 46.5\n",
      "Depth: 30\n",
      "Train Accuracy: 99.78666666666666\n",
      "Test Accuracy: 46.126666666666665\n",
      "Depth: 31\n",
      "Train Accuracy: 99.89333333333333\n",
      "Test Accuracy: 46.56666666666667\n",
      "Depth: 32\n",
      "Train Accuracy: 99.96666666666667\n",
      "Test Accuracy: 46.61333333333334\n",
      "Depth: 33\n",
      "Train Accuracy: 99.99\n",
      "Test Accuracy: 46.52\n",
      "Depth: 34\n",
      "Train Accuracy: 100.0\n",
      "Test Accuracy: 46.653333333333336\n",
      "Depth: 35\n",
      "Train Accuracy: 100.0\n",
      "Test Accuracy: 46.93333333333333\n",
      "Depth: 36\n",
      "Train Accuracy: 100.0\n",
      "Test Accuracy: 46.62\n",
      "Depth: 37\n",
      "Train Accuracy: 100.0\n",
      "Test Accuracy: 46.79333333333333\n",
      "Depth: 38\n",
      "Train Accuracy: 99.95833333333334\n",
      "Test Accuracy: 46.67333333333333\n",
      "Depth: 39\n",
      "Train Accuracy: 100.0\n",
      "Test Accuracy: 46.82666666666667\n"
     ]
    }
   ],
   "source": [
    "depths=list(range(1,40))\n",
    "accuracies_train=[]\n",
    "accuracies_test=[]\n",
    "for i in depths:\n",
    "    classifier = DecisionTreeClassifier(min_samples_split=2, maximum_depth=i,impurity='entropy')\n",
    "    classifier.fit(Data_X_train,Data_Y_train)\n",
    "    #classifier.print_tree()\n",
    "    Y_pred = classifier.predict(Data_X_test)\n",
    "    accuracy_test=get_accuracy(Y_pred,Data_Y_test)\n",
    "    accuracies_test.append(accuracy_test)\n",
    "    Y_pred_train = classifier.predict(Data_X_train)\n",
    "    accuracy_train=get_accuracy(Y_pred_train,Data_Y_train)\n",
    "    accuracies_train.append(accuracy_train)\n",
    "    print(\"Depth:\",i)\n",
    "    print(\"Train Accuracy:\",accuracy_train)\n",
    "    print(\"Test Accuracy:\",accuracy_test)"
   ]
  },
  {
   "cell_type": "code",
   "execution_count": 14,
   "id": "2f4a2b78",
   "metadata": {},
   "outputs": [
    {
     "data": {
      "image/png": "[encoded data removed]",
      "text/plain": [
       "<Figure size 1080x720 with 1 Axes>"
      ]
     },
     "metadata": {
      "needs_background": "light"
     },
     "output_type": "display_data"
    }
   ],
   "source": [
    "fig = plt.figure(figsize=(15, 10))\n",
    "plt.plot(depths,accuracies_train,label='Train Accuracy')\n",
    "plt.plot(depths,accuracies_test,label='Test Accuracy')\n",
    "plt.xlabel('Depth of Decision Tree')\n",
    "plt.ylabel('Accuracy')\n",
    "plt.legend()\n",
    "plt.show()"
   ]
  },
  {
   "cell_type": "markdown",
   "id": "03a864d8",
   "metadata": {},
   "source": [
    "# p5"
   ]
  },
  {
   "cell_type": "code",
   "execution_count": 213,
   "id": "ccf09aa3",
   "metadata": {},
   "outputs": [],
   "source": [
    "def get_train_test_split(csv_file,test_percent):\n",
    "    with open(csv_file, 'r') as f:\n",
    "        results = []\n",
    "        next(f)\n",
    "        for line in f:\n",
    "            words = line.split(',')\n",
    "            for i in range(len(words)):\n",
    "                words[i] = float(words[i])\n",
    "            results.append(words)\n",
    "    Data = np.array(results)   \n",
    "    \n",
    "    val_size = test_percent/100\n",
    "    # calculate the number of validation data rows\n",
    "    val_rows = int(val_size * Data.shape[0])\n",
    "\n",
    "\n",
    "    # split the data into train and validation sets\n",
    "    Data_train = Data[val_rows:]\n",
    "    Data_train=np.array(Data_train)\n",
    "    Data_Y_train = Data_train[:,0].astype(int)\n",
    "    Data_X_train = np.delete(Data_train, 0, axis = 1)\n",
    "    #\n",
    "    Data_val = Data[:val_rows]\n",
    "    Data_val=np.array(Data_val)\n",
    "    Data_Y_val = Data_val[:,0].astype(int)\n",
    "    Data_X_val = np.delete(Data_val, 0, axis = 1)\n",
    "    return Data_X_train,Data_Y_train,Data_X_val,Data_Y_val"
   ]
  },
  {
   "cell_type": "code",
   "execution_count": 214,
   "id": "dfad2d02",
   "metadata": {},
   "outputs": [],
   "source": [
    "Data_X_train,Data_Y_train,Data_X_test,Data_Y_test=get_train_test_split('PCA_MNIST.csv',30)"
   ]
  },
  {
   "cell_type": "code",
   "execution_count": 58,
   "id": "c88198a7",
   "metadata": {},
   "outputs": [],
   "source": [
    "def minmaxNormalize(X):\n",
    "    X_norm = np.zeros(X.shape)\n",
    "    for i in range(0,X.shape[1]):\n",
    "        if np.max(X[:,i]) != np.min(X[:,i]):\n",
    "            X_norm[:,i] = (X[:,i] - np.min(X[:,i])) / (np.max(X[:,i]) - np.min(X[:,i]))\n",
    "#         elif np.max(X[:,i] == np.min(X[:,i])):\n",
    "#             X_norm[:,i] = np.ones(X_norm[:,i].shape)\n",
    "    return X_norm"
   ]
  },
  {
   "cell_type": "code",
   "execution_count": 59,
   "id": "56f5dee1",
   "metadata": {},
   "outputs": [],
   "source": [
    "Data_X_train_norm=minmaxNormalize(Data_X_train)\n",
    "Data_X_test_norm=minmaxNormalize(Data_X_test)"
   ]
  },
  {
   "cell_type": "code",
   "execution_count": 60,
   "id": "1eacb6b8",
   "metadata": {},
   "outputs": [
    {
     "name": "stdout",
     "output_type": "stream",
     "text": [
      "X_0 <= -188.65385519897404 ? 0.6219240440171228\n",
      " left:X_2 <= -7.1849920318258 ? 0.445249767302927\n",
      "  left:X_1 <= -197.04076116159115 ? 0.5336773569529738\n",
      "    left:X_5 <= 249.1904674294832 ? 0.37542980932512415\n",
      "        left:6\n",
      "        right:7\n",
      "    right:X_9 <= 77.68171289855377 ? 0.25033552992817576\n",
      "        left:3\n",
      "        right:4\n",
      "  right:X_4 <= 135.49174476748294 ? 0.46896554768631704\n",
      "    left:X_5 <= 122.61667332904813 ? 0.2741830200457356\n",
      "        left:6\n",
      "        right:7\n",
      "    right:X_2 <= 182.0013053911994 ? 0.4006787233935476\n",
      "        left:7\n",
      "        right:2\n",
      " right:X_3 <= -38.412780335765774 ? 0.5190018176505546\n",
      "  left:X_1 <= 2.1340879560511894 ? 0.5475508762742964\n",
      "    left:X_1 <= -325.3737544680349 ? 0.39294843146869174\n",
      "        left:0\n",
      "        right:1\n",
      "    right:X_1 <= 557.4295731593589 ? 0.7499826610168393\n",
      "        left:9\n",
      "        right:2\n",
      "  right:X_2 <= -249.57884888157406 ? 0.5636521899163558\n",
      "    left:X_7 <= 47.53159018157055 ? 0.3406419178226652\n",
      "        left:4\n",
      "        right:5\n",
      "    right:X_1 <= 71.58414899988531 ? 0.5229094611152727\n",
      "        left:8\n",
      "        right:5\n"
     ]
    }
   ],
   "source": [
    "classifier = DecisionTreeClassifier(min_samples_split=3, maximum_depth=3,impurity='entropy')\n",
    "classifier.fit(Data_X_train,Data_Y_train)\n",
    "classifier.print_tree()"
   ]
  },
  {
   "cell_type": "code",
   "execution_count": 61,
   "id": "25fa20bc",
   "metadata": {},
   "outputs": [
    {
     "name": "stdout",
     "output_type": "stream",
     "text": [
      "Classification Accuracy  on Test Data is:  68.43333333333334 \n",
      "\n",
      "Confusion Matrix is: \n",
      " [[1.299e+03 0.000e+00 6.000e+00 5.000e+00 3.100e+01 0.000e+00 1.000e+00\n",
      "  7.400e+01 3.040e+02 8.000e+01]\n",
      " [2.200e+01 1.102e+03 3.000e+00 8.000e+00 4.020e+02 3.000e+00 4.400e+01\n",
      "  8.800e+01 1.200e+02 8.000e+00]\n",
      " [9.500e+01 5.000e+00 1.212e+03 2.490e+02 2.500e+01 7.600e+01 2.300e+01\n",
      "  7.900e+01 2.700e+01 9.000e+00]\n",
      " [2.300e+01 0.000e+00 3.500e+01 1.475e+03 1.040e+02 4.000e+00 0.000e+00\n",
      "  1.310e+02 2.800e+01 0.000e+00]\n",
      " [0.000e+00 1.000e+00 4.600e+01 6.400e+01 1.595e+03 1.500e+01 4.000e+00\n",
      "  4.300e+01 3.200e+01 0.000e+00]\n",
      " [5.000e+00 4.000e+00 1.300e+01 9.800e+01 2.400e+01 1.495e+03 1.340e+02\n",
      "  2.000e+00 2.000e+01 5.000e+00]\n",
      " [4.700e+01 8.000e+00 3.000e+01 2.930e+02 3.000e+01 4.170e+02 9.240e+02\n",
      "  2.500e+01 1.900e+01 7.000e+00]\n",
      " [7.800e+01 1.000e+00 0.000e+00 1.100e+01 3.150e+02 1.000e+00 0.000e+00\n",
      "  1.376e+03 1.200e+01 6.000e+00]\n",
      " [4.610e+02 2.000e+00 1.100e+01 6.300e+01 1.470e+02 2.000e+01 7.000e+00\n",
      "  5.000e+01 1.019e+03 2.000e+01]\n",
      " [4.210e+02 1.000e+00 1.600e+01 2.100e+01 1.000e+01 6.000e+00 1.000e+00\n",
      "  4.730e+02 3.000e+01 8.210e+02]] \n",
      "\n",
      "f1 Score of Class  1  is:  0.611150317572336\n",
      "f1 Score of Class  2  is:  0.7537619699042409\n",
      "f1 Score of Class  3  is:  0.764186633039092\n",
      "f1 Score of Class  4  is:  0.7218008319060435\n",
      "f1 Score of Class  5  is:  0.7115770689270577\n",
      "f1 Score of Class  6  is:  0.7792546260099036\n",
      "f1 Score of Class  7  is:  0.628999319264806\n",
      "f1 Score of Class  8  is:  0.6645737744506158\n",
      "f1 Score of Class  9  is:  0.5974787452360012\n",
      "f1 Score of Class  10  is:  0.5957910014513789\n"
     ]
    }
   ],
   "source": [
    "Y_pred = classifier.predict(Data_X_test)\n",
    "metrics(Y_pred, Data_Y_test)"
   ]
  },
  {
   "cell_type": "markdown",
   "id": "7359a5f4",
   "metadata": {},
   "source": [
    "### Gini Impurity for p4 in A1"
   ]
  },
  {
   "cell_type": "code",
   "execution_count": 215,
   "id": "074a7ee6",
   "metadata": {},
   "outputs": [
    {
     "name": "stdout",
     "output_type": "stream",
     "text": [
      "Depth: 1\n",
      "Train Accuracy: 32.76904761904762\n",
      "Test Accuracy: 28.12777777777778\n",
      "Depth: 2\n",
      "Train Accuracy: 47.04047619047619\n",
      "Test Accuracy: 41.422222222222224\n",
      "Depth: 3\n",
      "Train Accuracy: 65.8404761904762\n",
      "Test Accuracy: 58.116666666666674\n",
      "Depth: 4\n",
      "Train Accuracy: 79.33571428571429\n",
      "Test Accuracy: 72.50555555555556\n",
      "Depth: 5\n",
      "Train Accuracy: 83.47142857142858\n",
      "Test Accuracy: 76.66666666666667\n",
      "Depth: 6\n",
      "Train Accuracy: 86.07142857142858\n",
      "Test Accuracy: 79.12777777777778\n",
      "Depth: 7\n",
      "Train Accuracy: 88.51190476190476\n",
      "Test Accuracy: 81.96111111111111\n",
      "Depth: 8\n",
      "Train Accuracy: 91.07380952380953\n",
      "Test Accuracy: 83.17222222222223\n",
      "Depth: 9\n",
      "Train Accuracy: 92.50714285714285\n",
      "Test Accuracy: 83.75\n",
      "Depth: 10\n",
      "Train Accuracy: 94.6595238095238\n",
      "Test Accuracy: 84.72777777777777\n",
      "Depth: 11\n",
      "Train Accuracy: 95.99285714285715\n",
      "Test Accuracy: 85.45555555555555\n",
      "Depth: 12\n",
      "Train Accuracy: 97.02857142857142\n",
      "Test Accuracy: 85.95555555555555\n",
      "Depth: 13\n",
      "Train Accuracy: 97.69761904761904\n",
      "Test Accuracy: 85.63333333333333\n",
      "Depth: 14\n",
      "Train Accuracy: 98.28571428571429\n",
      "Test Accuracy: 85.42222222222222\n",
      "Depth: 15\n",
      "Train Accuracy: 98.64047619047619\n",
      "Test Accuracy: 85.6888888888889\n",
      "Depth: 16\n",
      "Train Accuracy: 98.85952380952381\n",
      "Test Accuracy: 85.43888888888888\n",
      "Depth: 17\n",
      "Train Accuracy: 99.1547619047619\n",
      "Test Accuracy: 85.36111111111111\n",
      "Depth: 18\n",
      "Train Accuracy: 99.28095238095239\n",
      "Test Accuracy: 85.46666666666667\n",
      "Depth: 19\n",
      "Train Accuracy: 99.25\n",
      "Test Accuracy: 85.9\n",
      "Depth: 20\n",
      "Train Accuracy: 99.32380952380953\n",
      "Test Accuracy: 85.16666666666667\n",
      "Depth: 21\n",
      "Train Accuracy: 99.40952380952382\n",
      "Test Accuracy: 85.35555555555555\n",
      "Depth: 22\n",
      "Train Accuracy: 99.45\n",
      "Test Accuracy: 85.12777777777778\n",
      "Depth: 23\n",
      "Train Accuracy: 99.47142857142856\n",
      "Test Accuracy: 84.86666666666667\n",
      "Depth: 24\n",
      "Train Accuracy: 99.44285714285715\n",
      "Test Accuracy: 84.89999999999999\n"
     ]
    }
   ],
   "source": [
    "depths=list(range(1,25))\n",
    "accuracies_train=[]\n",
    "accuracies_test=[]\n",
    "for i in depths:\n",
    "    classifier = DecisionTreeClassifier(min_samples_split=3, maximum_depth=i,impurity='gini')\n",
    "    classifier.fit(Data_X_train,Data_Y_train)\n",
    "    #classifier.print_tree()\n",
    "    Y_pred = classifier.predict(Data_X_test)\n",
    "    accuracy_test=get_accuracy(Y_pred,Data_Y_test)\n",
    "    accuracies_test.append(accuracy_test)\n",
    "    Y_pred_train = classifier.predict(Data_X_train)\n",
    "    accuracy_train=get_accuracy(Y_pred_train,Data_Y_train)\n",
    "    accuracies_train.append(accuracy_train)\n",
    "    print(\"Depth:\",i)\n",
    "    print(\"Train Accuracy:\",accuracy_train)\n",
    "    print(\"Test Accuracy:\",accuracy_test)"
   ]
  },
  {
   "cell_type": "code",
   "execution_count": 216,
   "id": "2a2d2f34",
   "metadata": {},
   "outputs": [
    {
     "data": {
      "image/png": "[encoded data removed]",
      "text/plain": [
       "<Figure size 1080x720 with 1 Axes>"
      ]
     },
     "metadata": {
      "needs_background": "light"
     },
     "output_type": "display_data"
    }
   ],
   "source": [
    "fig = plt.figure(figsize=(15, 10))\n",
    "plt.plot(depths,accuracies_train,label='Train Accuracy')\n",
    "plt.plot(depths,accuracies_test,label='Test Accuracy')\n",
    "plt.xlabel('Depth of Decision Tree')\n",
    "plt.ylabel('Accuracy')\n",
    "plt.legend()\n",
    "plt.show()"
   ]
  },
  {
   "cell_type": "markdown",
   "id": "a49a3ecf",
   "metadata": {},
   "source": [
    "### Entropy Impurity for p4 in A1"
   ]
  },
  {
   "cell_type": "code",
   "execution_count": 217,
   "id": "06b1fc0e",
   "metadata": {},
   "outputs": [
    {
     "name": "stdout",
     "output_type": "stream",
     "text": [
      "Depth: 1\n",
      "Train Accuracy: 36.01190476190476\n",
      "Test Accuracy: 34.35\n",
      "Depth: 2\n",
      "Train Accuracy: 55.19761904761905\n",
      "Test Accuracy: 53.666666666666664\n",
      "Depth: 3\n",
      "Train Accuracy: 73.3047619047619\n",
      "Test Accuracy: 68.55\n",
      "Depth: 4\n",
      "Train Accuracy: 81.95714285714286\n",
      "Test Accuracy: 74.98333333333333\n",
      "Depth: 5\n",
      "Train Accuracy: 85.63333333333333\n",
      "Test Accuracy: 79.12777777777778\n",
      "Depth: 6\n",
      "Train Accuracy: 87.83571428571429\n",
      "Test Accuracy: 81.50555555555556\n",
      "Depth: 7\n",
      "Train Accuracy: 90.65952380952382\n",
      "Test Accuracy: 83.73888888888888\n",
      "Depth: 8\n",
      "Train Accuracy: 92.7404761904762\n",
      "Test Accuracy: 84.04444444444444\n",
      "Depth: 9\n",
      "Train Accuracy: 94.80714285714285\n",
      "Test Accuracy: 84.95555555555555\n",
      "Depth: 10\n",
      "Train Accuracy: 96.3\n",
      "Test Accuracy: 85.11666666666666\n",
      "Depth: 11\n",
      "Train Accuracy: 97.81904761904762\n",
      "Test Accuracy: 85.73888888888888\n",
      "Depth: 12\n",
      "Train Accuracy: 98.39761904761905\n",
      "Test Accuracy: 85.55\n",
      "Depth: 13\n",
      "Train Accuracy: 99.27380952380952\n",
      "Test Accuracy: 85.66111111111111\n",
      "Depth: 14\n",
      "Train Accuracy: 99.53333333333333\n",
      "Test Accuracy: 85.55555555555556\n",
      "Depth: 15\n",
      "Train Accuracy: 99.7547619047619\n",
      "Test Accuracy: 85.53333333333333\n",
      "Depth: 16\n",
      "Train Accuracy: 99.92380952380952\n",
      "Test Accuracy: 85.41666666666666\n",
      "Depth: 17\n",
      "Train Accuracy: 99.97619047619047\n",
      "Test Accuracy: 85.44444444444444\n",
      "Depth: 18\n",
      "Train Accuracy: 99.99761904761904\n",
      "Test Accuracy: 85.72777777777777\n",
      "Depth: 19\n",
      "Train Accuracy: 99.99047619047619\n",
      "Test Accuracy: 85.47777777777777\n",
      "Depth: 20\n",
      "Train Accuracy: 100.0\n",
      "Test Accuracy: 85.43888888888888\n",
      "Depth: 21\n",
      "Train Accuracy: 99.99285714285713\n",
      "Test Accuracy: 85.42777777777778\n",
      "Depth: 22\n",
      "Train Accuracy: 100.0\n",
      "Test Accuracy: 85.96666666666667\n",
      "Depth: 23\n",
      "Train Accuracy: 100.0\n",
      "Test Accuracy: 85.77777777777777\n",
      "Depth: 24\n",
      "Train Accuracy: 100.0\n",
      "Test Accuracy: 85.42222222222222\n",
      "Depth: 25\n",
      "Train Accuracy: 100.0\n",
      "Test Accuracy: 85.45555555555555\n",
      "Depth: 26\n",
      "Train Accuracy: 100.0\n",
      "Test Accuracy: 85.79444444444444\n",
      "Depth: 27\n",
      "Train Accuracy: 100.0\n",
      "Test Accuracy: 85.6\n",
      "Depth: 28\n",
      "Train Accuracy: 100.0\n",
      "Test Accuracy: 85.24444444444444\n",
      "Depth: 29\n",
      "Train Accuracy: 100.0\n",
      "Test Accuracy: 85.39999999999999\n",
      "Depth: 30\n",
      "Train Accuracy: 100.0\n",
      "Test Accuracy: 85.57222222222222\n",
      "Depth: 31\n",
      "Train Accuracy: 100.0\n",
      "Test Accuracy: 85.6888888888889\n",
      "Depth: 32\n",
      "Train Accuracy: 100.0\n",
      "Test Accuracy: 85.7\n",
      "Depth: 33\n",
      "Train Accuracy: 100.0\n",
      "Test Accuracy: 85.83333333333333\n",
      "Depth: 34\n",
      "Train Accuracy: 100.0\n",
      "Test Accuracy: 85.63888888888889\n",
      "Depth: 35\n",
      "Train Accuracy: 100.0\n",
      "Test Accuracy: 85.52222222222223\n",
      "Depth: 36\n",
      "Train Accuracy: 100.0\n",
      "Test Accuracy: 85.87222222222223\n",
      "Depth: 37\n",
      "Train Accuracy: 100.0\n",
      "Test Accuracy: 85.57222222222222\n",
      "Depth: 38\n",
      "Train Accuracy: 100.0\n",
      "Test Accuracy: 85.74444444444444\n",
      "Depth: 39\n",
      "Train Accuracy: 100.0\n",
      "Test Accuracy: 85.37777777777778\n"
     ]
    }
   ],
   "source": [
    "depths=list(range(1,40))\n",
    "accuracies_train=[]\n",
    "accuracies_test=[]\n",
    "for i in depths:\n",
    "    classifier = DecisionTreeClassifier(min_samples_split=2, maximum_depth=i,impurity='entropy')\n",
    "    classifier.fit(Data_X_train,Data_Y_train)\n",
    "    #classifier.print_tree()\n",
    "    Y_pred = classifier.predict(Data_X_test)\n",
    "    accuracy_test=get_accuracy(Y_pred,Data_Y_test)\n",
    "    accuracies_test.append(accuracy_test)\n",
    "    Y_pred_train = classifier.predict(Data_X_train)\n",
    "    accuracy_train=get_accuracy(Y_pred_train,Data_Y_train)\n",
    "    accuracies_train.append(accuracy_train)\n",
    "    print(\"Depth:\",i)\n",
    "    print(\"Train Accuracy:\",accuracy_train)\n",
    "    print(\"Test Accuracy:\",accuracy_test)"
   ]
  },
  {
   "cell_type": "code",
   "execution_count": 218,
   "id": "94b919ad",
   "metadata": {},
   "outputs": [
    {
     "data": {
      "image/png": "[encoded data removed]",
      "text/plain": [
       "<Figure size 1080x720 with 1 Axes>"
      ]
     },
     "metadata": {
      "needs_background": "light"
     },
     "output_type": "display_data"
    }
   ],
   "source": [
    "fig = plt.figure(figsize=(15, 10))\n",
    "plt.plot(depths,accuracies_train,label='Train Accuracy')\n",
    "plt.plot(depths,accuracies_test,label='Test Accuracy')\n",
    "plt.xlabel('Depth of Decision Tree')\n",
    "plt.ylabel('Accuracy')\n",
    "plt.legend()\n",
    "plt.show()"
   ]
  },
  {
   "cell_type": "markdown",
   "id": "7adde282",
   "metadata": {},
   "source": [
    "# RANDOM FORESTS"
   ]
  },
  {
   "cell_type": "markdown",
   "id": "b69465ac",
   "metadata": {},
   "source": [
    "### PCA_MNIST"
   ]
  },
  {
   "cell_type": "code",
   "execution_count": 207,
   "id": "4431a969",
   "metadata": {},
   "outputs": [],
   "source": [
    "def get_random_forest_classifiers(number_of_trees,Data_X_train,Data_Y_train):\n",
    "    classifiers=[]\n",
    "    new_Data_X_train=[]\n",
    "    new_Data_Y_train=[]\n",
    "    dataset = np.concatenate((Data_X_train, Data_Y_train.reshape(-1,1)),axis=1)\n",
    "    number_of_datasets=number_of_trees\n",
    "    for i in range(number_of_datasets):\n",
    "        print(i)\n",
    "        new_Data_train=dataset[np.random.choice(dataset.shape[0], len(Data_X_train), replace=True)]\n",
    "        new_Data_Y_train = new_Data_train[:,10].astype(int)\n",
    "        new_Data_X_train = np.delete(new_Data_train, 10, axis = 1)\n",
    "        #print(new_Data_Y_train)\n",
    "        classifier = DecisionTreeClassifier(min_samples_split=3, maximum_depth=4)\n",
    "        classifier.fit(new_Data_X_train,new_Data_Y_train)\n",
    "        classifiers.append(classifier)\n",
    "    return classifiers"
   ]
  },
  {
   "cell_type": "code",
   "execution_count": null,
   "id": "367470e3",
   "metadata": {},
   "outputs": [],
   "source": [
    "classifiers=get_random_forest_classifiers(20,Data_X_train,Data_Y_train)"
   ]
  },
  {
   "cell_type": "code",
   "execution_count": 209,
   "id": "bd524b78",
   "metadata": {},
   "outputs": [],
   "source": [
    "def get_accuracy_scores(classifiers,Data_X_test,Data_Y_test):\n",
    "    random_forest_accuracies_list=[]\n",
    "    Y_predictions=[]\n",
    "    i=0\n",
    "    for classifier in classifiers:\n",
    "        Y_pred=[]\n",
    "        Y_predictions.append(classifier.predict(Data_X_test))\n",
    "        #print(Y_predictions)\n",
    "        for i in range(len(Data_X_test)):\n",
    "            l=[]\n",
    "            for j in range(len(Y_predictions)):\n",
    "                l.append(Y_predictions[j][i])\n",
    "            Y_pred.append(max(l,key=l.count))\n",
    "    \n",
    "        random_forest_accuracies_list.append(get_accuracy(Y_pred,Data_Y_test))\n",
    "    return random_forest_accuracies_list\n",
    "        "
   ]
  },
  {
   "cell_type": "code",
   "execution_count": 210,
   "id": "b4b9e0e4",
   "metadata": {},
   "outputs": [],
   "source": [
    "acc_scores=get_accuracy_scores(classifiers,Data_X_test,Data_Y_test)"
   ]
  },
  {
   "cell_type": "code",
   "execution_count": 211,
   "id": "0c30644c",
   "metadata": {},
   "outputs": [
    {
     "name": "stdout",
     "output_type": "stream",
     "text": [
      "[70.91111111111111, 70.91111111111111, 72.5, 72.38888888888889, 72.78333333333333, 72.5611111111111, 72.86666666666667, 72.66111111111111, 73.16666666666667, 72.91666666666666, 73.36666666666667, 73.31111111111112, 73.43888888888888, 73.22777777777777, 73.28888888888889, 73.22777777777777, 73.2611111111111, 73.28333333333333, 73.21111111111111, 73.27777777777777]\n"
     ]
    }
   ],
   "source": [
    "print(acc_scores)"
   ]
  },
  {
   "cell_type": "code",
   "execution_count": 221,
   "id": "e8f63cc4",
   "metadata": {},
   "outputs": [
    {
     "data": {
      "image/png": "[encoded data removed]",
      "text/plain": [
       "<Figure size 1080x720 with 1 Axes>"
      ]
     },
     "metadata": {
      "needs_background": "light"
     },
     "output_type": "display_data"
    }
   ],
   "source": [
    "fig = plt.figure(figsize=(15, 10))\n",
    "plt.plot(acc_scores)\n",
    "plt.xlabel('No.of Trees in Random Forest')\n",
    "plt.ylabel('Accuracy')\n",
    "plt.show()"
   ]
  },
  {
   "cell_type": "markdown",
   "id": "f79fe98a",
   "metadata": {},
   "source": [
    "### p3"
   ]
  },
  {
   "cell_type": "code",
   "execution_count": 222,
   "id": "de2b0afc",
   "metadata": {},
   "outputs": [],
   "source": [
    "with open('p3_train.csv', 'r') as f:\n",
    "    results = []\n",
    "    for line in f:\n",
    "        words = line.split(',')\n",
    "        for i in range(len(words)):\n",
    "            words[i] = float(words[i])\n",
    "        results.append(words)\n",
    "Data = np.array(results)\n",
    "Data_Y_train = Data[:,10].astype(int)\n",
    "Data_Y_train=Data_Y_train.reshape(-1,1)\n",
    "Data_X_train = np.delete(Data, 10, axis = 1)"
   ]
  },
  {
   "cell_type": "code",
   "execution_count": 223,
   "id": "ee84583d",
   "metadata": {},
   "outputs": [],
   "source": [
    "with open('p3_test.csv', 'r') as f:\n",
    "    results = []\n",
    "    for line in f:\n",
    "        words = line.split(',')\n",
    "        for i in range(len(words)):\n",
    "            words[i] = float(words[i])\n",
    "        results.append(words)\n",
    "Data_test = np.array(results)\n",
    "Data_Y_test = Data_test[:,10].astype(int)\n",
    "Data_X_test = np.delete(Data_test, 10, axis = 1)"
   ]
  },
  {
   "cell_type": "code",
   "execution_count": null,
   "id": "86a2760b",
   "metadata": {},
   "outputs": [],
   "source": [
    "classifiers_p3=get_random_forest_classifiers(20,Data_X_train,Data_Y_train)"
   ]
  },
  {
   "cell_type": "code",
   "execution_count": 225,
   "id": "1cdc69ce",
   "metadata": {},
   "outputs": [],
   "source": [
    "acc_scores=get_accuracy_scores(classifiers_p3,Data_X_test,Data_Y_test)"
   ]
  },
  {
   "cell_type": "code",
   "execution_count": 226,
   "id": "3df039fd",
   "metadata": {},
   "outputs": [
    {
     "data": {
      "image/png": "[encoded data removed]",
      "text/plain": [
       "<Figure size 1080x720 with 1 Axes>"
      ]
     },
     "metadata": {
      "needs_background": "light"
     },
     "output_type": "display_data"
    }
   ],
   "source": [
    "fig = plt.figure(figsize=(15, 10))\n",
    "plt.plot(acc_scores)\n",
    "plt.xlabel('No.of Trees in Random Forest')\n",
    "plt.ylabel('Accuracy')\n",
    "plt.show()"
   ]
  },
  {
   "cell_type": "code",
   "execution_count": 227,
   "id": "e8af8dc3",
   "metadata": {},
   "outputs": [
    {
     "name": "stdout",
     "output_type": "stream",
     "text": [
      "[47.620000000000005, 47.620000000000005, 48.06666666666667, 48.126666666666665, 48.68666666666667, 48.980000000000004, 48.96666666666666, 48.93333333333334, 48.89333333333333, 48.81333333333333, 48.63333333333333, 48.82666666666667, 49.04666666666667, 48.833333333333336, 48.66, 48.84, 48.946666666666665, 48.96666666666666, 48.93333333333334, 48.93333333333334]\n"
     ]
    }
   ],
   "source": [
    "print(acc_scores)"
   ]
  }
 ],
 "metadata": {
  "kernelspec": {
   "display_name": "Python 3",
   "language": "python",
   "name": "python3"
  },
  "language_info": {
   "codemirror_mode": {
    "name": "ipython",
    "version": 3
   },
   "file_extension": ".py",
   "mimetype": "text/x-python",
   "name": "python",
   "nbconvert_exporter": "python",
   "pygments_lexer": "ipython3",
   "version": "3.8.8"
  }
 },
 "nbformat": 4,
 "nbformat_minor": 5
}
