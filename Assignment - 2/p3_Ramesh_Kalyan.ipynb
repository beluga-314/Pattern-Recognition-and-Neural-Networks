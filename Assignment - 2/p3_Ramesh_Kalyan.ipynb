{
 "cells": [
  {
   "cell_type": "markdown",
   "id": "72e1d396",
   "metadata": {},
   "source": [
    "##### Importing Libraries\n"
   ]
  },
  {
   "cell_type": "code",
   "execution_count": 535,
   "id": "200efc6b",
   "metadata": {},
   "outputs": [],
   "source": [
    "import numpy as np\n",
    "import matplotlib.pyplot as plt\n",
    "np.set_printoptions(suppress = True)"
   ]
  },
  {
   "cell_type": "markdown",
   "id": "331abd14",
   "metadata": {},
   "source": [
    "##### Function to Normalize Data"
   ]
  },
  {
   "cell_type": "code",
   "execution_count": 536,
   "id": "9fb8fca6",
   "metadata": {},
   "outputs": [],
   "source": [
    "def minmaxNormalize(X):\n",
    "    X_norm = X\n",
    "    for i in range(0,X.shape[1]-1):\n",
    "        if np.max(X[:,i]) != np.min(X[:,i]):\n",
    "            X_norm[:,i] = (X[:,i] - np.min(X[:,i])) / (np.max(X[:,i]) - np.min(X[:,i]))\n",
    "#         elif np.max(X[:,i] == np.min(X[:,i])):\n",
    "#             X_norm[:,i] = np.ones(X_norm[:,i].shape)\n",
    "    return X_norm"
   ]
  },
  {
   "cell_type": "markdown",
   "id": "b9fcf04e",
   "metadata": {},
   "source": [
    "##### Loading Train and Test data"
   ]
  },
  {
   "cell_type": "code",
   "execution_count": 537,
   "id": "c5adc6d9",
   "metadata": {},
   "outputs": [],
   "source": [
    "# Train Data\n",
    "with open('p1_train.csv', 'r') as f:\n",
    "    results = []\n",
    "    for line in f:\n",
    "        words = line.split(',')\n",
    "        # appending 1 to allocate bias\n",
    "        for i in range(len(words)):\n",
    "            words[i] = float(words[i])\n",
    "        results.append(words)\n",
    "\n",
    "Data_f = np.array(results[0:4000]) #train data has been reduced to overfit\n",
    "results=minmaxNormalize(Data_f)"
   ]
  },
  {
   "cell_type": "code",
   "execution_count": 628,
   "id": "069e0142",
   "metadata": {},
   "outputs": [],
   "source": [
    "y_train = results[:,[2]]\n",
    "X_train = np.delete(results, 2, axis = 1)"
   ]
  },
  {
   "cell_type": "code",
   "execution_count": 540,
   "id": "10b64ffd",
   "metadata": {},
   "outputs": [],
   "source": [
    "# Test Data\n",
    "with open('p1_test.csv', 'r') as f:\n",
    "    results1 = []\n",
    "    for line in f:\n",
    "        words = line.split(',')\n",
    "        # appending 1 to allocate bias\n",
    "        for i in range(len(words)):\n",
    "            words[i] = float(words[i])\n",
    "        results1.append(words)"
   ]
  },
  {
   "cell_type": "code",
   "execution_count": 541,
   "id": "844bca45",
   "metadata": {},
   "outputs": [],
   "source": [
    "Data_f = np.array(results1[0:100])\n",
    "results1=minmaxNormalize(Data_f)"
   ]
  },
  {
   "cell_type": "code",
   "execution_count": 542,
   "id": "2bb6af2d",
   "metadata": {},
   "outputs": [],
   "source": [
    "y_test = results1[:,[2]]\n",
    "X_test = np.delete(results1, 2, axis = 1)"
   ]
  },
  {
   "cell_type": "markdown",
   "id": "51a9e449",
   "metadata": {},
   "source": [
    "##### MSE loss with various regularizers"
   ]
  },
  {
   "cell_type": "code",
   "execution_count": 544,
   "id": "850be09a",
   "metadata": {},
   "outputs": [],
   "source": [
    "# MSE loss\n",
    "def MSEloss(X, y, W):\n",
    "    return (1 / X.shape[0]) * (np.linalg.norm(np.matmul(X, W) - y) ** 2)"
   ]
  },
  {
   "cell_type": "code",
   "execution_count": 603,
   "id": "4a418631",
   "metadata": {},
   "outputs": [],
   "source": [
    "def MSEloss_L2(X, y, W,reg):\n",
    "    return ((1 / X.shape[0]) * np.linalg.norm(np.matmul(X, W) - y) ** 2)+((reg/2)*(np.sum(W**2)))"
   ]
  },
  {
   "cell_type": "code",
   "execution_count": 546,
   "id": "06f03353",
   "metadata": {},
   "outputs": [],
   "source": [
    "def MSEloss_L1(X, y, w, alpha):\n",
    "    n_samples = len(y)\n",
    "    y_pred = np.dot(X, w)\n",
    "    residuals = y_pred - y\n",
    "    mse = np.sum(residuals ** 2) / n_samples\n",
    "    l1_penalty = alpha * np.sum(np.abs(w))\n",
    "    cost = mse + l1_penalty\n",
    "    return cost\n"
   ]
  },
  {
   "cell_type": "code",
   "execution_count": 588,
   "id": "391cde3d",
   "metadata": {},
   "outputs": [],
   "source": [
    "def MSEloss_L1_L2(X, y, w, alpha, l1_ratio=0.5):\n",
    "    n_samples = len(y)\n",
    "    y_pred = np.dot(X, w)\n",
    "    residuals = y_pred - y\n",
    "    mse = np.sum(residuals ** 2) / ( n_samples)\n",
    "    l1_penalty = alpha * l1_ratio * np.sum(np.abs(w))\n",
    "    l2_penalty = alpha * (1 - l1_ratio) * np.sum(w ** 2)\n",
    "    cost = mse + l1_penalty + l2_penalty\n",
    "    return cost"
   ]
  },
  {
   "cell_type": "markdown",
   "id": "1d383dcc",
   "metadata": {},
   "source": [
    "##### Normal equations with and with out L2 regularization"
   ]
  },
  {
   "cell_type": "code",
   "execution_count": 547,
   "id": "3476b481",
   "metadata": {},
   "outputs": [],
   "source": [
    "def normal_equation(X,y):\n",
    "    theta = np.dot(np.linalg.inv(np.dot(X.T, X)), np.dot(X.T, y))\n",
    "    return theta"
   ]
  },
  {
   "cell_type": "code",
   "execution_count": 609,
   "id": "1b53e05e",
   "metadata": {},
   "outputs": [],
   "source": [
    "def normal_equation_L2(X,y,reg):\n",
    "    L2_reg = reg*np.eye(X.shape[1])\n",
    "    theta = np.dot(np.linalg.inv(X.T.dot(X) + L2_reg), np.dot(X.T, y))\n",
    "    return theta"
   ]
  },
  {
   "cell_type": "markdown",
   "id": "874f127c",
   "metadata": {},
   "source": [
    "##### Function to generate n'th degree polynomial kernel"
   ]
  },
  {
   "cell_type": "code",
   "execution_count": 549,
   "id": "85616ac2",
   "metadata": {},
   "outputs": [],
   "source": [
    "def generate_polynomial(X, n):\n",
    "    m = X.shape[0]\n",
    "    X_polynomial = np.ones((m, (n+1)*(n+2)//2))\n",
    "    index = 0\n",
    "    for i in range(n+1):\n",
    "        for j in range(i+1):\n",
    "            X_polynomial[:, index] = (X[:, 0]**(i-j)) * (X[:, 1]**j)\n",
    "            index += 1\n",
    "    return X_polynomial"
   ]
  },
  {
   "cell_type": "markdown",
   "id": "9c26c9ac",
   "metadata": {},
   "source": [
    "### BIAS VARIANCE CURVE WITH MODEL COMPLEXTIES RANGING FROM 1ST DEGREE TO 12TH DEGREE"
   ]
  },
  {
   "cell_type": "code",
   "execution_count": 649,
   "id": "6a18a3dd",
   "metadata": {},
   "outputs": [
    {
     "data": {
      "text/plain": [
       "<matplotlib.legend.Legend at 0x7fb99b8920a0>"
      ]
     },
     "execution_count": 649,
     "metadata": {},
     "output_type": "execute_result"
    },
    {
     "data": {
      "image/png": "[encoded data removed]",
      "text/plain": [
       "<Figure size 1152x360 with 1 Axes>"
      ]
     },
     "metadata": {
      "needs_background": "light"
     },
     "output_type": "display_data"
    }
   ],
   "source": [
    "Z = np.arange(0,12,1)\n",
    "train_loss=[]\n",
    "test_loss=[]\n",
    "fig = plt.figure(figsize=(16, 5))\n",
    "for item in Z:\n",
    "    X1 = generate_polynomial(X_train,item)\n",
    "    #print(X1.shape)\n",
    "    W_optimum = normal_equation(X1, y_train)\n",
    "    train_loss.append(MSEloss(X1, y_train, W_optimum))\n",
    "    #test_loss.append(MSEloss(X2, y_test, W_optimum))\n",
    "    #print(MSEloss(X1, y_train, W_optimum))\n",
    "    X2 = generate_polynomial(X_test,item)\n",
    "    #W_optimum = normal_equation(X2, y_test)\n",
    "    test_loss.append(MSEloss(X2, y_test, W_optimum))\n",
    "    #test_loss.append(MSEloss(X2, y_test, W_optimum))\n",
    "    #print(MSEloss(X2, y_test, W_optimum))\n",
    "plt.text(10,3, 'Low-Bias and High variance', fontsize=9, bbox=dict(facecolor='red', alpha=0.1))\n",
    "plt.text(0,6, 'High-Bias and Low variance', fontsize=9, bbox=dict(facecolor='red', alpha=0.1))\n",
    "#plt.text(11,3, 'High-variance', fontsize=9, bbox=dict(facecolor='red', alpha=0.1))\n",
    "#plt.text(11,3, 'High-variance', fontsize=9, bbox=dict(facecolor='red', alpha=0.1))\n",
    "plt.plot(Z,np.log(train_loss),label='train-loss')\n",
    "plt.plot(Z,np.log(test_loss),label='test-loss')\n",
    "plt.xlabel('Model complexity')\n",
    "plt.ylabel('Loss')\n",
    "plt.legend()\n",
    "\n"
   ]
  },
  {
   "cell_type": "markdown",
   "id": "4ab2ce37",
   "metadata": {},
   "source": [
    "* <b> From the above bias variance curve we can see that after increasing model complexity after a certain extent the test error started increasing . Intially the test error is high( High Bias- Low variance : Underfitting) and test error starts decreasing and after a certain point the curve enters (Low Bias- High variance : Overfitting) region."
   ]
  },
  {
   "cell_type": "markdown",
   "id": "bf5b46a0",
   "metadata": {},
   "source": [
    "## Overfitting the data with 3 over parametrized models"
   ]
  },
  {
   "cell_type": "code",
   "execution_count": 657,
   "id": "cb3cce1b",
   "metadata": {},
   "outputs": [
    {
     "name": "stdout",
     "output_type": "stream",
     "text": [
      "Test MSE with 20th degree polynomial model:171354.9900518428\n",
      "Test MSE with 30th degree polynomial model:189685.32968305465\n",
      "Test MSE with 40th degree polynomial model:5058173.575622894\n"
     ]
    },
    {
     "data": {
      "text/plain": [
       "<Figure size 1152x360 with 0 Axes>"
      ]
     },
     "metadata": {},
     "output_type": "display_data"
    }
   ],
   "source": [
    "Z = [20,30,40]\n",
    "train_loss=[]\n",
    "test_loss=[]\n",
    "fig = plt.figure(figsize=(16, 5))\n",
    "for item in Z:\n",
    "    X1 = generate_polynomial(X_train,item)\n",
    "    W_optimum = normal_equation(X1, y_train)\n",
    "    train_loss.append(MSEloss(X1, y_train, W_optimum))\n",
    "    X2 = generate_polynomial(X_test,item)\n",
    "    test_loss.append(MSEloss(X2, y_test, W_optimum))\n",
    "    print(\"Test MSE with {}th degree polynomial model:{}\".format(item,MSEloss(X2,y_test,W_optimum)))\n",
    "\n"
   ]
  },
  {
   "cell_type": "markdown",
   "id": "2ff41550",
   "metadata": {},
   "source": [
    "# L2 regularizer\n"
   ]
  },
  {
   "cell_type": "code",
   "execution_count": 650,
   "id": "cf518811",
   "metadata": {},
   "outputs": [
    {
     "name": "stdout",
     "output_type": "stream",
     "text": [
      "\u001b[1mBest lambda is: 0.001\n",
      "\u001b[1mMSE at best lambda: 20.35514993653146\n",
      "\u001b[1mMSE without Regularization for an 20th degree polynomial overfit model: 171354.9900518428\n",
      "\u001b[1mMSE with L2 Regularization for an 20th degree polynomial overfit model: 20.35514993653146\n"
     ]
    },
    {
     "data": {
      "image/png": "[encoded data removed]",
      "text/plain": [
       "<Figure size 720x360 with 1 Axes>"
      ]
     },
     "metadata": {
      "needs_background": "light"
     },
     "output_type": "display_data"
    }
   ],
   "source": [
    "alphas = np.round_(np.arange(0,0.25,0.001), decimals = 3)\n",
    "fig = plt.figure(figsize=(10, 5))\n",
    "#alphas=[2]\n",
    "train_loss=[]\n",
    "test_loss=[]\n",
    "Z=20\n",
    "for reg in alphas:\n",
    "    X1 = generate_polynomial(X_train,Z)\n",
    "    W_optimum = normal_equation_L2(X1, y_train,reg)\n",
    "    train_loss.append(MSEloss_L2(X1, y_train, W_optimum,reg))\n",
    "    #test_loss.append(MSEloss(X2, y_test, W_optimum))\n",
    "    #print(MSEloss(X1, y_train, W_optimum))\n",
    "    X2 = generate_polynomial(X_test,Z)\n",
    "    #W_optimum = normal_equation_L2(X2, y_test,reg)\n",
    "    test_loss.append(MSEloss_L2(X2, y_test, W_optimum,reg))\n",
    "plt.plot(alphas,test_loss,label='MSE for different strengths')\n",
    "plt.xlabel(\"Regularization strength\")\n",
    "plt.ylabel(\"MSE error\")\n",
    "best_lambda=alphas[np.argmin(test_loss)]\n",
    "print('\\033[1m'+\"Best lambda is:\",best_lambda)\n",
    "print('\\033[1m' +\"MSE at best lambda:\",test_loss[np.argmin(test_loss)])\n",
    "print('\\033[1m' +\"MSE without Regularization for an 20th degree polynomial overfit model:\",test_loss[0])\n",
    "print('\\033[1m' +\"MSE with L2 Regularization for an 20th degree polynomial overfit model:\",test_loss[np.argmin(test_loss)])\n",
    "#print(test_loss)\n",
    "plt.legend()\n",
    "plt.show()\n"
   ]
  },
  {
   "cell_type": "markdown",
   "id": "696a8f85",
   "metadata": {},
   "source": [
    "* <b>The above graph plots MSE error for different regularization strength parameter varying from 0 to 0.15. The best MSE is achieved around lambda=0.001. Note that regularization strength 0 indicates no regularization.\n",
    "    \n",
    "    \n",
    "* <b> We can observe MSE for overfit 20th degree polynomial, the L2 regularization brought down the MSE from 171354.99 to 20.355 \n",
    "    \n",
    "</b>"
   ]
  },
  {
   "cell_type": "markdown",
   "id": "18409395",
   "metadata": {},
   "source": [
    "# L1 Regularization\n"
   ]
  },
  {
   "cell_type": "markdown",
   "id": "50e06ea8",
   "metadata": {},
   "source": [
    "### Imposing L1 regularization for a 20th degree overfit Polynomial Model\n"
   ]
  },
  {
   "cell_type": "code",
   "execution_count": 580,
   "id": "7ec029a7",
   "metadata": {},
   "outputs": [],
   "source": [
    "def l1(X, y, alpha, learning_rate=1, num_iterations=10000):\n",
    "    m, n = X.shape\n",
    "    theta = np.zeros((n,1))\n",
    "    v=np.zeros((n, 1))  \n",
    "    m_t = np.zeros_like(theta)\n",
    "    v_t = np.zeros_like(theta)\n",
    "    epsilon = 1e-8\n",
    "    initial_learning_rate=learning_rate\n",
    "    for i in range(num_iterations):\n",
    "        # Compute cost and gradient with L1 regularization\n",
    "        y_pred = X.dot(theta)\n",
    "        error = y_pred - y\n",
    "        gradient = X.T.dot(error)\n",
    "        l1_penalty = alpha * np.sign(theta)\n",
    "        grad_with_reg = gradient + l1_penalty\n",
    "        m_t = 0.9 * m_t + 0.1 * grad_with_reg\n",
    "        v_t = 0.999 * v_t + 0.001 * (grad_with_reg ** 2)\n",
    "        m_t_hat = m_t / (1 - 0.9 ** (i+1))\n",
    "        v_t_hat = v_t / (1 - 0.999 ** (i+1))\n",
    "        theta -= alpha * m_t_hat / (np.sqrt(v_t_hat) + epsilon)\n",
    "    return theta"
   ]
  },
  {
   "cell_type": "markdown",
   "id": "646466f4",
   "metadata": {},
   "source": [
    "* This implementation uses the ADAM optimization algorithm with L1 regularization. The l1 function takes as input the input matrix X of shape (m, n) where m is the number of examples and n is the number of features, the target vector y of shape (m, 1), the regularization parameter alpha, the learning rate learning_rate and the number of iterations num_iterations.\n",
    "\n",
    "* The function initializes the model parameters theta to zeros, and then iteratively updates theta using the ADAM algorithm. The algorithm maintains moving averages of the gradients and the squared gradients, and then updates theta by dividing the moving average of the gradients by the root mean squared error of the gradients. The L1 penalty is added to the gradient to perform L1 regularization.\n",
    "\n",
    "* Note that this implementation also uses a momentum term with a decay rate of 0.9, and a squared gradient decay rate of 0.999."
   ]
  },
  {
   "cell_type": "code",
   "execution_count": 591,
   "id": "b9c84460",
   "metadata": {},
   "outputs": [
    {
     "name": "stdout",
     "output_type": "stream",
     "text": [
      "\u001b[1mBest lamda is: 0.012\n",
      "\u001b[1mMSE without Regularization: 655.6064407915795\n",
      "\u001b[1mMSE at best Regularization Strength with L1 Regularization: 16.076693358479712\n"
     ]
    },
    {
     "data": {
      "image/png": "[encoded data removed]",
      "text/plain": [
       "<Figure size 1152x720 with 1 Axes>"
      ]
     },
     "metadata": {
      "needs_background": "light"
     },
     "output_type": "display_data"
    }
   ],
   "source": [
    "alphas = np.round_(np.arange(0,0.1,0.001), decimals = 3)\n",
    "#alphas= np.logspace(-5, 0, num=20)\n",
    "fig = plt.figure(figsize=(16, 10))\n",
    "#alphas=[2]\n",
    "train_loss=[]\n",
    "test_loss=[]\n",
    "Z=20\n",
    "for reg in alphas:\n",
    "    X1 = generate_polynomial_features(X_train,Z)\n",
    "    W_optimum = l1(X1, y_train,reg,1e-5)\n",
    "    train_loss.append(MSEloss_L1(X1, y_train, W_optimum,reg))\n",
    "    X2 = generate_polynomial_features(X_test,Z)\n",
    "    #W_optimum = l1(X2, y_test,reg,1e-7)\n",
    "    test_loss.append(MSEloss_L1(X2, y_test, W_optimum,reg))\n",
    "plt.plot(alphas,test_loss,label=f'reg:{reg}')\n",
    "best_lambda=alphas[np.argmin(test_loss)]\n",
    "print('\\033[1m' +\"Best lambda is:\",best_lambda)\n",
    "print('\\033[1m' +\"MSE without Regularization:\",test_loss[0])\n",
    "print('\\033[1m' +\"MSE at best Regularization Strength with L1 Regularization:\",test_loss[np.argmin(test_loss)])\n",
    "\n",
    "plt.title('MSE error with different L1 regularization strengths')\n",
    "plt.xlabel('Regularization Strength')\n",
    "plt.ylabel('Accuracy')\n",
    "plt.legend()\n",
    "plt.show()\n",
    "\n"
   ]
  },
  {
   "cell_type": "markdown",
   "id": "029b0a19",
   "metadata": {},
   "source": [
    "* <b>The above graph plots MSE error for different regularization strength parameter varying from 0 to 0.1. The best MSE is achieved around lambda=0.012. Note that regularization strength 0 indicates no regularization.</b>\n",
    "    \n",
    "* <b>We can observe MSE for overfit 20th degree polynomial, the L1 regularization brought down the MSE from 655.606 to 16.07\n",
    "    \n",
    "</b>"
   ]
  },
  {
   "cell_type": "markdown",
   "id": "70fa56da",
   "metadata": {},
   "source": [
    "###### Observation: The weight coefficients for L1 regularization are given below"
   ]
  },
  {
   "cell_type": "code",
   "execution_count": 593,
   "id": "f3a1d562",
   "metadata": {},
   "outputs": [],
   "source": [
    "W_optimum = l1(X1, y_train,best_lambda)"
   ]
  },
  {
   "cell_type": "code",
   "execution_count": 595,
   "id": "60fd8f70",
   "metadata": {},
   "outputs": [
    {
     "data": {
      "text/plain": [
       "Text(0.5, 1.0, 'Weight Coefficients for L1 regularization')"
      ]
     },
     "execution_count": 595,
     "metadata": {},
     "output_type": "execute_result"
    },
    {
     "data": {
      "image/png": "[encoded data removed]",
      "text/plain": [
       "<Figure size 720x360 with 1 Axes>"
      ]
     },
     "metadata": {
      "needs_background": "light"
     },
     "output_type": "display_data"
    }
   ],
   "source": [
    "fig = plt.figure(figsize=(10, 5))\n",
    "plt.plot(W_optimum)\n",
    "plt.xlabel('weight indexes')\n",
    "plt.ylabel('weight values')\n",
    "plt.title('Weight Coefficients for L1 regularization')"
   ]
  },
  {
   "cell_type": "markdown",
   "id": "efab7fb6",
   "metadata": {},
   "source": [
    "* <b>The L1 regularization penalty encourages the model to have sparse coefficients, meaning that it tries to drive some of the coefficients to zero.\n",
    "\n",
    "* <b>This can be observed from above graph which plots weight coeffecients.Most of the coefficients are near to zero </b>"
   ]
  },
  {
   "cell_type": "markdown",
   "id": "02f58f97",
   "metadata": {},
   "source": [
    "# L1 and L2 Regularization"
   ]
  },
  {
   "cell_type": "markdown",
   "id": "fed94751",
   "metadata": {},
   "source": [
    "### Imposing L1 and L2 regularization for a 20th degree overfit Polynomial"
   ]
  },
  {
   "cell_type": "code",
   "execution_count": 596,
   "id": "4999b3e2",
   "metadata": {},
   "outputs": [],
   "source": [
    "def l1andl2(X, y, alpha, learning_rate=1,l1_ratio=0.5, num_iterations=10000):\n",
    "    m, n = X.shape\n",
    "    theta = np.zeros((n,1))\n",
    "    v=np.zeros((n, 1))  \n",
    "    m_t = np.zeros_like(theta)\n",
    "    v_t = np.zeros_like(theta)\n",
    "    epsilon = 1e-8\n",
    "    initial_learning_rate=learning_rate\n",
    "    for i in range(num_iterations):\n",
    "        # Compute cost and gradient with L1 regularization\n",
    "        y_pred = X.dot(theta)\n",
    "        error = y_pred - y\n",
    "        gradient = X.T.dot(error)\n",
    "        l1_penalty = alpha *l1_ratio * np.sign(theta)\n",
    "        l2_penalty = alpha * (1 - l1_ratio) * theta\n",
    "        grad_with_reg = gradient + l1_penalty + l2_penalty\n",
    "        m_t = 0.9 * m_t + 0.1 * grad_with_reg\n",
    "        v_t = 0.999 * v_t + 0.001 * (grad_with_reg ** 2)\n",
    "        m_t_hat = m_t / (1 - 0.9 ** (i+1))\n",
    "        v_t_hat = v_t / (1 - 0.999 ** (i+1))\n",
    "        theta -= alpha * m_t_hat / (np.sqrt(v_t_hat) + epsilon)\n",
    "    return theta"
   ]
  },
  {
   "cell_type": "code",
   "execution_count": 597,
   "id": "4ec0aeec",
   "metadata": {},
   "outputs": [
    {
     "name": "stdout",
     "output_type": "stream",
     "text": [
      "\u001b[1mBest lamda is: 0.005\n",
      "\u001b[1mMSE without Regularization: 655.6064407915795\n",
      "\u001b[1mMSE at best Regularization Strength with L1+L2 Regularization: 45.83062899639272\n"
     ]
    },
    {
     "data": {
      "image/png": "[encoded data removed]",
      "text/plain": [
       "<Figure size 1152x720 with 1 Axes>"
      ]
     },
     "metadata": {
      "needs_background": "light"
     },
     "output_type": "display_data"
    }
   ],
   "source": [
    "alphas = np.round_(np.arange(0,0.1,0.001), decimals = 3)\n",
    "fig = plt.figure(figsize=(16, 10))\n",
    "#alphas=[2]\n",
    "train_loss=[]\n",
    "test_loss=[]\n",
    "Z=20\n",
    "for reg in alphas:\n",
    "    X1 = generate_polynomial_features(X_train,Z)\n",
    "    W_optimum = l1andl2(X1, y_train,reg,1e-5)\n",
    "    train_loss.append(MSEloss_L1_L2(X1, y_train, W_optimum,reg))\n",
    "    X2 = generate_polynomial_features(X_test,Z)\n",
    "    test_loss.append(MSEloss_L1_L2(X2, y_test, W_optimum,reg))\n",
    "plt.plot(alphas,test_loss,label=f'reg:{reg}')\n",
    "best_lambda=alphas[np.argmin(test_loss)]\n",
    "print('\\033[1m' +\"Best lambda is:\",best_lambda)\n",
    "print('\\033[1m' +\"MSE without Regularization:\",test_loss[0])\n",
    "print('\\033[1m' +\"MSE at best Regularization Strength with L1+L2 Regularization:\",test_loss[np.argmin(test_loss)])\n",
    "\n",
    "plt.title('MSE error with different L1+L2 regularization strengths')\n",
    "plt.xlabel('Regularization Strength')\n",
    "plt.ylabel('Accuracy')\n",
    "plt.legend()\n",
    "plt.show()\n",
    "\n"
   ]
  },
  {
   "cell_type": "markdown",
   "id": "f4466e1f",
   "metadata": {},
   "source": [
    "* <b>The above graph plots MSE error for different regularization strength parameter varying from 0 to 0.1. The best MSE is achieved around lambda=0.005. Note that regularization strength 0 indicates no regularization.</b>\n",
    "    \n",
    "* The l1_ratio is a hyperparameter used in the Elastic Net regularization technique that controls the balance between the L1 and L2 regularization. It is defined as the ratio of the L1 penalty to the total penalty, which includes both the L1 and L2 penalties. The l1_ratio value should be between 0 and 1, where 0 corresponds to pure L2 regularization and 1 corresponds to pure L1 regularization. Values between 0 and 1 correspond to a mix of L1 and L2 regularization.\n",
    "\n",
    "\n",
    "* <b> \n",
    "We can observe MSE for overfit 20th degree polynomial, the L1+L2 regularization brought down the MSE from 655.606 to 45.827.</b>\n",
    "    \n"
   ]
  }
 ],
 "metadata": {
  "kernelspec": {
   "display_name": "Python 3 (ipykernel)",
   "language": "python",
   "name": "python3"
  },
  "language_info": {
   "codemirror_mode": {
    "name": "ipython",
    "version": 3
   },
   "file_extension": ".py",
   "mimetype": "text/x-python",
   "name": "python",
   "nbconvert_exporter": "python",
   "pygments_lexer": "ipython3",
   "version": "3.10.6"
  }
 },
 "nbformat": 4,
 "nbformat_minor": 5
}
