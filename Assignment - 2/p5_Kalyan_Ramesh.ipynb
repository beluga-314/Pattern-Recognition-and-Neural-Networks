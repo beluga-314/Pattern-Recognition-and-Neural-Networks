{
 "cells": [
  {
   "cell_type": "markdown",
   "id": "570ae9b8",
   "metadata": {},
   "source": [
    "# **CNN**"
   ]
  },
  {
   "cell_type": "markdown",
   "id": "43527a3f",
   "metadata": {},
   "source": [
    "## p5"
   ]
  },
  {
   "cell_type": "markdown",
   "id": "326ee2c2",
   "metadata": {},
   "source": [
    "## *Importing Libraries*"
   ]
  },
  {
   "cell_type": "code",
   "execution_count": 237,
   "id": "31005af8",
   "metadata": {},
   "outputs": [],
   "source": [
    "import numpy as np\n",
    "import matplotlib.pyplot as plt\n",
    "np.set_printoptions(suppress = True)"
   ]
  },
  {
   "cell_type": "markdown",
   "id": "f06c1e9d",
   "metadata": {},
   "source": [
    "### *preprocessing data*"
   ]
  },
  {
   "cell_type": "code",
   "execution_count": 238,
   "id": "755c7ff7",
   "metadata": {},
   "outputs": [],
   "source": [
    "# Data\n",
    "\n",
    "with open('./Data/p4.csv', 'r') as f:\n",
    "    results = []\n",
    "    next(f)\n",
    "    for line in f:\n",
    "        words = line.split(',')\n",
    "        for i in range(len(words)):\n",
    "            words[i] = float(words[i])\n",
    "        results.append(words)### *Data preprocessing (extraction, splitting)*"
   ]
  },
  {
   "cell_type": "code",
   "execution_count": 239,
   "id": "8b59e4a8",
   "metadata": {},
   "outputs": [],
   "source": [
    "def convert_to_one_hot(y, num_classes):\n",
    "    y_one_hot = np.zeros((y.shape[0], num_classes))\n",
    "    y_one_hot[np.arange(y.shape[0]), y] = 1\n",
    "    return y_one_hot"
   ]
  },
  {
   "cell_type": "code",
   "execution_count": 240,
   "id": "46e1b424",
   "metadata": {},
   "outputs": [],
   "source": [
    "def preprocess_data(X):\n",
    "    y = X[:, 0].astype(int)\n",
    "    x = np.delete(X, 0, axis = 1)\n",
    "    return x, y"
   ]
  },
  {
   "cell_type": "code",
   "execution_count": 241,
   "id": "1ed5ef77",
   "metadata": {},
   "outputs": [],
   "source": [
    "# Splits the data with given percentages\n",
    "\n",
    "def DataSplit(Data, train_percent, test_percent, val_percent = 0):\n",
    "    split_list = []\n",
    "    train_size = int(train_percent * Data.shape[0] / 100)\n",
    "    val_size = int(val_percent * Data.shape[0] / 100)\n",
    "    test_size = Data.shape[0] - train_size - val_size\n",
    "    \n",
    "    # Train and Test data\n",
    "    DTrain = np.zeros((train_size, Data.shape[1]))\n",
    "    DTest = np.zeros((test_size, Data.shape[1]))\n",
    "    DTrain = Data[0:train_size, :]\n",
    "    DTest = Data[train_size + val_size: Data.shape[0], :]\n",
    "    split_list.extend([DTrain, DTest])\n",
    "    \n",
    "    # For validataion data\n",
    "    if val_percent > 0:\n",
    "        DVal = np.zeros((val_size, Data.shape[1]))\n",
    "        DVal = Data[train_size: train_size + val_size, :]\n",
    "        split_list.append(DVal)\n",
    "    return split_list"
   ]
  },
  {
   "cell_type": "code",
   "execution_count": 242,
   "id": "e3f2d761",
   "metadata": {},
   "outputs": [],
   "source": [
    "Data = np.array(results)\n",
    "labels = np.unique(Data[:,0].astype(int))\n",
    "input_features = Data.shape[1] - 1"
   ]
  },
  {
   "cell_type": "code",
   "execution_count": 243,
   "id": "a4f024b8",
   "metadata": {},
   "outputs": [
    {
     "name": "stdout",
     "output_type": "stream",
     "text": [
      "(60000, 785)\n",
      "784\n"
     ]
    }
   ],
   "source": [
    "print(Data.shape)\n",
    "print(input_features)"
   ]
  },
  {
   "cell_type": "code",
   "execution_count": 244,
   "id": "23cb88bc",
   "metadata": {},
   "outputs": [],
   "source": [
    "split_data = DataSplit(Data, 20, 80)\n",
    "### *Config - 1 (1 Hidden Layer with 350 neurons)*\n",
    "# Train and Test Data\n",
    "DTrain = split_data[0]\n",
    "DTest = split_data[1]\n",
    "# Validataion Data\n",
    "if len(split_data) == 3:\n",
    "    DVal = split_data[2]"
   ]
  },
  {
   "cell_type": "code",
   "execution_count": 245,
   "id": "3d083118",
   "metadata": {},
   "outputs": [
    {
     "name": "stdout",
     "output_type": "stream",
     "text": [
      "(12000, 785)\n",
      "(48000, 785)\n"
     ]
    }
   ],
   "source": [
    "print(DTrain.shape)\n",
    "print(DTest.shape)"
   ]
  },
  {
   "cell_type": "markdown",
   "id": "d9e6d9f8",
   "metadata": {},
   "source": [
    "### *Activations*"
   ]
  },
  {
   "cell_type": "code",
   "execution_count": 256,
   "id": "00279aed",
   "metadata": {},
   "outputs": [],
   "source": [
    "class Activation_ReLU:\n",
    "    # Forward pass\n",
    "    def forward(self, inputs):\n",
    "        self.inputs = inputs\n",
    "        self.output = np.maximum(0, inputs)\n",
    "        return self.output\n",
    "    def backward(self):\n",
    "        # Here not necessasry to copy the values as we are only using dvalues once\n",
    "        self.dinputs = np.ones_like(self.inputs)\n",
    "        # When the inputs to relu are not positve, make the dinputs zero\n",
    "        self.dinputs[self.inputs <= 0] = 0\n",
    "        return self.dinputs"
   ]
  },
  {
   "cell_type": "code",
   "execution_count": 257,
   "id": "4f879680",
   "metadata": {},
   "outputs": [],
   "source": [
    "class Activation_Softmax:\n",
    "    # Forward pass\n",
    "    def forward(self, inputs):\n",
    "        exp_values = np.exp(inputs - np.max(inputs, axis = 1, keepdims = True))\n",
    "        probabilities = exp_values / np.sum(exp_values, axis = 1, keepdims = True)\n",
    "        self.output = probabilities\n",
    "        return self.output\n",
    "    def backward(self, dvalues):\n",
    "        # Create uninitialized array\n",
    "        self.dinputs = np.empty_like(dvalues)\n",
    "        # Enumerate outputs and gradients\n",
    "        for index, (single_output, single_dvalues) in enumerate(zip(self.output, dvalues)):\n",
    "            # Flatten output array\n",
    "            single_output = single_output.reshape(-1, 1)\n",
    "            # Calculate Jacobian matrix of the output\n",
    "            jacobian_matrix = np.diagflat(single_output) - np.dot(single_output, single_output.T)\n",
    "            # Calculate sample-wise gradient\n",
    "            # and add it to the array of sample gradients\n",
    "            self.dinputs[index] = np.dot(jacobian_matrix, single_dvalues)\n",
    "        return self.dinputs\n",
    "    def predictions(self, outputs):\n",
    "        return np.argmax(outputs, axis = 1)"
   ]
  },
  {
   "cell_type": "markdown",
   "id": "a7abd0e3",
   "metadata": {},
   "source": [
    "### *Optimizer*"
   ]
  },
  {
   "cell_type": "code",
   "execution_count": 258,
   "id": "86501ab2",
   "metadata": {},
   "outputs": [],
   "source": [
    "class Optimizer_SGD: \n",
    "    def __init__(self, learning_rate = 1, decay = 0):\n",
    "        self.learning_rate = learning_rate\n",
    "        self.current_learning_rate = learning_rate\n",
    "        self.decay = decay\n",
    "        self.iterations = 0 \n",
    "    def pre_update_params(self):\n",
    "        if self.decay:\n",
    "            self.current_learning_rate = self.learning_rate / (1 + self.decay * self.iterations)\n",
    "    def update_params(self, layer):\n",
    "        if isinstance(layer, Layer_Convolution):\n",
    "            layer.kernel_weights += -self.current_learning_rate * layer.dweights\n",
    "        if isinstance(layer, Layer_FullyConnected):\n",
    "            layer.weights += -self.current_learning_rate * layer.dweights\n",
    "            layer.biases += -self.current_learning_rate * layer.dbiases   \n",
    "    def post_update_params(self):\n",
    "        self.iterations += 1"
   ]
  },
  {
   "cell_type": "markdown",
   "id": "4515ef8f",
   "metadata": {},
   "source": [
    "### *CrossEntropy Loss with Softmax layer*"
   ]
  },
  {
   "cell_type": "code",
   "execution_count": 259,
   "id": "5950497e",
   "metadata": {},
   "outputs": [],
   "source": [
    "class Softmax_CrossEntropyLoss:\n",
    "\n",
    "    def forward(self, y_pred, y_true, classes):\n",
    "        \n",
    "        # y_pred shape: (batch_size, num_classes)\n",
    "        # y_true shape: (batch_size,)\n",
    "        batch_size = y_pred.shape[0]\n",
    "        # Clip y_pred values to prevent log(0) errors\n",
    "        y_pred = np.clip(y_pred, 1e-15, 1 - 1e-15)\n",
    "        # Compute the log of predicted probabilities for the true class for each example\n",
    "        log_likelihoods = -np.log(y_pred[range(batch_size), y_true])\n",
    "        # Compute the mean of the log likelihoods for the batch\n",
    "        loss = np.mean(log_likelihoods)\n",
    "        return loss\n",
    "    \n",
    "    def backward(self, dvalues, y_true, classes):\n",
    "          # Number of samples\n",
    "        samples = len(dvalues)\n",
    "        # Copy so we can safely modify\n",
    "        self.dinputs = dvalues.copy()\n",
    "        # Calculate gradient\n",
    "        self.dinputs[range(samples), y_true] -= 1\n",
    "        # Normalize gradient\n",
    "        self.dinputs = self.dinputs / samples\n",
    "        return self.dinputs"
   ]
  },
  {
   "cell_type": "markdown",
   "id": "74832ec0",
   "metadata": {},
   "source": [
    "### *Input Layer*"
   ]
  },
  {
   "cell_type": "code",
   "execution_count": 255,
   "id": "10805bb4",
   "metadata": {},
   "outputs": [],
   "source": [
    "class Layer_ConvInput:\n",
    "    def forward(self, X):\n",
    "        self.output = X\n",
    "        return self.output"
   ]
  },
  {
   "cell_type": "markdown",
   "id": "c79b2464",
   "metadata": {},
   "source": [
    "### *Fully Connected Layer*"
   ]
  },
  {
   "cell_type": "code",
   "execution_count": 254,
   "id": "b40ecbf6",
   "metadata": {},
   "outputs": [],
   "source": [
    "### *Fully Connected Layer*\n",
    "\n",
    "class Layer_FullyConnected:\n",
    "    # Layer Initialization\n",
    "    def __init__(self, n_inputs, n_neurons):\n",
    "        \n",
    "        #Initialize weights and biases\n",
    "        self.weights = 0.01 * np.random.randn(n_inputs, n_neurons)\n",
    "        self.biases = np.zeros((1, n_neurons))   \n",
    "\n",
    "    def forward(self, inputs):\n",
    "        \n",
    "        # calculate the values of the neurons before activation\n",
    "        # inputs matrix contains features for a sample of data\n",
    "        self.inputs = inputs\n",
    "        self.output = np.dot(self.inputs, self.weights) + self.biases\n",
    "        return self.output\n",
    "    \n",
    "    def backward(self, dvalues):\n",
    "        \n",
    "        # dvalues are the upstream gradients\n",
    "        # dweights, dbiases are the backprop gradients with shape similar to weights matrix and bias vector\n",
    "        # dinputs are the dvalues for the previous layer with shape similar to inputs\n",
    "        self.dweights = np.dot(self.inputs.T, dvalues)\n",
    "        self.dbiases = np.sum(dvalues, axis = 0, keepdims = True)\n",
    "        self.dinputs = np.dot(dvalues, self.weights.T)\n",
    "        return self.dinputs"
   ]
  },
  {
   "cell_type": "markdown",
   "id": "dc801a80",
   "metadata": {},
   "source": [
    "### *Convolution Layer*"
   ]
  },
  {
   "cell_type": "code",
   "execution_count": 260,
   "id": "e4191e93",
   "metadata": {},
   "outputs": [],
   "source": [
    "class Layer_Convolution:\n",
    "    \n",
    "    def __init__(self, kernel_num, kernel_size, input_channels):\n",
    "        \n",
    "        self.kernel_num = kernel_num\n",
    "        self.kernel_size = kernel_size\n",
    "        self.input_channels = input_channels\n",
    "        self.kernel_weights = np.random.randn(kernel_num, kernel_size, kernel_size, input_channels) / (kernel_size**2)\n",
    "    \n",
    "    def patch_generator(self, inputs):\n",
    "        \n",
    "        self.inputs = inputs\n",
    "        batch_size, height, width, channels = inputs.shape\n",
    "        for b in range(batch_size):\n",
    "            for h in range(height - self.kernel_size + 1):\n",
    "                for w in range(width - self.kernel_size + 1):\n",
    "                    patch = self.inputs[b, h:(h + self.kernel_size), w:(w + self.kernel_size), :]\n",
    "                    yield patch, b, h, w\n",
    "    \n",
    "    def forward(self, inputs):\n",
    "        \n",
    "        batch_size, height, width, channels = inputs.shape\n",
    "        self.layer_output = np.zeros((batch_size, height - self.kernel_size + 1, width - self.kernel_size + 1, self.kernel_num))\n",
    "        for patch, b, h, w in self.patch_generator(inputs):\n",
    "            self.layer_output[b, h, w] = np.sum(patch * self.kernel_weights, axis=(1,2,3))\n",
    "        return self.layer_output\n",
    "\n",
    "    def backward(self, dvalues):\n",
    "        \n",
    "        self.dinputs = np.zeros(self.inputs.shape)\n",
    "        self.dweights = np.zeros(self.kernel_weights.shape)\n",
    "        for patch, b, h, w in self.patch_generator(self.inputs):\n",
    "            for k in range(self.kernel_num):\n",
    "                self.dinputs[b, h:h + self.kernel_size, w:w + self.kernel_size, :] += self.kernel_weights[k] * dvalues[b, h, w, k]\n",
    "                self.dweights[k] += patch * dvalues[b, h, w, k]\n",
    "\n",
    "        return self.dinputs"
   ]
  },
  {
   "cell_type": "markdown",
   "id": "28cd6ee9",
   "metadata": {},
   "source": [
    "### *Max Pooling Layer*"
   ]
  },
  {
   "cell_type": "code",
   "execution_count": 264,
   "id": "08ddc001",
   "metadata": {},
   "outputs": [],
   "source": [
    "class Layer_Maxpool:\n",
    "    \n",
    "    def __init__(self, kernel_size):\n",
    "\n",
    "        self.kernel_size = kernel_size\n",
    "\n",
    "    def patch_generator(self, image):\n",
    "\n",
    "        patch_h = image.shape[1] // self.kernel_size\n",
    "        patch_w = image.shape[2] // self.kernel_size\n",
    "        batch_size = image.shape[0]\n",
    "\n",
    "        for i in range(batch_size):  \n",
    "            batch_patches = []\n",
    "            for h in range(patch_h):\n",
    "                for w in range(patch_w):\n",
    "                    patch = image[i, (h * self.kernel_size):(h * self.kernel_size + self.kernel_size), (w * self.kernel_size):(w * self.kernel_size + self.kernel_size), :]\n",
    "                    batch_patches.append(patch)\n",
    "            yield np.array(batch_patches), i\n",
    "    \n",
    "    def forward(self, inputs):\n",
    "        \n",
    "        self.inputs = inputs\n",
    "        batch_size, height, width, channels = self.inputs.shape\n",
    "        self.layer_output = np.zeros((batch_size, height // self.kernel_size, width // self.kernel_size, channels))\n",
    "        for batch_patches, i in self.patch_generator(inputs):\n",
    "            self.layer_output[i] = np.amax(batch_patches, axis = (1,2)).reshape(height // self.kernel_size, width // self.kernel_size, channels)\n",
    "        return self.layer_output\n",
    "\n",
    "    def backward(self, dvalues, dvalue_activation):\n",
    "\n",
    "        dvalues = dvalues.reshape(self.layer_output.shape)\n",
    "        self.dinputs = np.zeros(self.inputs.shape)\n",
    "        for batch_patches, i in self.patch_generator(self.inputs):\n",
    "            batch_size, image_h, image_w, num_channels = batch_patches.shape\n",
    "            max_val = np.amax(batch_patches, axis=(1,2))\n",
    "\n",
    "            for h in range(image_h):\n",
    "                for w in range(image_w):\n",
    "                    for idx_k in range(num_channels):\n",
    "                        for b in range(batch_size):\n",
    "                            if batch_patches[b,h,w,idx_k] == max_val[b,idx_k]:\n",
    "                                self.dinputs[i, h*self.kernel_size:h*self.kernel_size+self.kernel_size, w*self.kernel_size:w*self.kernel_size+self.kernel_size, idx_k] += dvalues[i, h, w, idx_k] * dvalue_activation[i, h*self.kernel_size:h*self.kernel_size+self.kernel_size, w*self.kernel_size:w*self.kernel_size+self.kernel_size, idx_k]\n",
    "        return self.dinputs"
   ]
  },
  {
   "cell_type": "markdown",
   "id": "fedb246b",
   "metadata": {},
   "source": [
    "###  *ConvNet Class*"
   ]
  },
  {
   "cell_type": "code",
   "execution_count": 265,
   "id": "954b1279",
   "metadata": {},
   "outputs": [],
   "source": [
    "class ConvNet:\n",
    "    \n",
    "    def __init__(self, input_channels, conv_filters, conv_kernel_size, pool_kernel_size, fc_layer_inputs, output_neurons, learning_rate):\n",
    "        \n",
    "        # Layers\n",
    "        self.input_channels = input_channels\n",
    "        self.hidden_layers = []\n",
    "        self.loss_fn = Softmax_CrossEntropyLoss()\n",
    "        self.train_loss = []\n",
    "        self.optimizer = Optimizer_SGD(learning_rate, decay = 0)\n",
    "        self.input_layer = Layer_ConvInput()\n",
    "        for i, conv_filter in enumerate(conv_filters):\n",
    "            input_channels = input_channels if i == 0 else conv_filters[i - 1]\n",
    "            conv_layer = Layer_Convolution(conv_filters[i], conv_kernel_size, input_channels)\n",
    "            pool_layer = Layer_Maxpool(pool_kernel_size)\n",
    "            activation_layer = Activation_ReLU() \n",
    "            self.hidden_layers.extend([conv_layer, pool_layer, activation_layer])\n",
    "            \n",
    "        self.output_layer = Layer_FullyConnected(fc_layer_inputs, output_neurons)\n",
    "        self.output_softmax_layer = Activation_Softmax()\n",
    "\n",
    "    def forward(self, x):\n",
    "        x = self.input_layer.forward(x)\n",
    "        for layer in self.hidden_layers:\n",
    "            x = layer.forward(x)\n",
    "        x = x.reshape(x.shape[0], x.shape[1] * x.shape[2] * x.shape[3])\n",
    "        x = self.output_layer.forward(x)\n",
    "        x = self.output_softmax_layer.forward(x)\n",
    "        return x\n",
    "\n",
    "    def backward(self, y_pred, y_true, classes):\n",
    "        \n",
    "         # Compute the derivative of the loss with respect to the output of the model\n",
    "        \n",
    "        dL_dy = self.loss_fn.backward(y_pred, y_true, classes)\n",
    "        \n",
    "         # backpropagate the derivatives through the output layer\n",
    "            \n",
    "        dL_dx = self.output_layer.backward(dL_dy)\n",
    "        temp = None\n",
    "        for layer in reversed(self.hidden_layers):\n",
    "            if isinstance(layer, Activation_ReLU):\n",
    "                temp = layer.backward()\n",
    "            elif isinstance(layer, Layer_Maxpool):\n",
    "                dL_dx = layer.backward(dL_dx, temp)\n",
    "            else:\n",
    "                dL_dx = layer.backward(dL_dx)\n",
    "    \n",
    "    def train(self, X, epochs = 1, batch_size = None, val_data = None):\n",
    "        \n",
    "        for epoch in range(epochs):\n",
    "            \n",
    "            np.random.shuffle(X)\n",
    "            classes = np.unique(X[:, 0].astype(int))\n",
    "            epoch_accuracy = 0\n",
    "            for i in range(0, X.shape[0], batch_size):\n",
    "                batch = X[i:min(X.shape[0], i + batch_size), :]\n",
    "                x_batch, y_batch = preprocess_data(batch)\n",
    "                x_batch = x_batch.reshape(-1, 28, 28, 1)\n",
    "                # Forward pass\n",
    "                outputs = self.forward(x_batch)\n",
    "                \n",
    "                \n",
    "                predictions = self.output_softmax_layer.predictions(outputs)\n",
    "\n",
    "                # Accuracy\n",
    "                epoch_accuracy += np.count_nonzero(predictions == y_batch)\n",
    "                \n",
    "                # Backward pass \n",
    "                self.backward(outputs, y_batch, classes)\n",
    "                    \n",
    "                for layer in self.hidden_layers:\n",
    "                    self.optimizer.pre_update_params()\n",
    "                    self.optimizer.update_params(layer)\n",
    "                    self.optimizer.post_update_params()\n",
    "                self.optimizer.update_params(self.output_layer)\n",
    "            t_loss = self.calculate_loss(X)\n",
    "            print('Epoch: ', epoch + 1, ' Accuracy: ', round(epoch_accuracy * 100 / len(X), 2), 'Train Loss =', t_loss)\n",
    "    \n",
    "    def test(self, X):\n",
    "        \n",
    "        test_accuracy = 0\n",
    "        classes = np.unique(X[:, 0].astype(int))\n",
    "        x, y = preprocess_data(X)\n",
    "        x = x.reshape(-1, 28, 28, 1)\n",
    "        # Forward pass\n",
    "        outputs = self.forward(x)\n",
    "        predictions = self.output_softmax_layer.predictions(outputs)\n",
    "        test_accuracy += np.count_nonzero(predictions == y)\n",
    "        print('\\033[1mTest Accuracy = ', round(test_accuracy * 100 / len(X), 2), '\\033[0m')\n",
    "        print('\\n')\n",
    "        \n",
    "    def calculate_loss(self, X):\n",
    "        \n",
    "        train_data, train_labels = preprocess_data(X)\n",
    "        classes = np.unique(X[:, 0].astype(int))\n",
    "        train_data = train_data.reshape(-1, 28, 28, 1)\n",
    "        outputs = self.forward(train_data)\n",
    "        loss = self.loss_fn.forward(outputs, train_labels, classes)\n",
    "        self.train_loss.append(loss)\n",
    "        return loss\n",
    "            \n",
    "    def f1score(self, predicted_labels, test_labels, classes):\n",
    "    \n",
    "        # Confusion Matrix\n",
    "\n",
    "        ConfMatrix = np.zeros([classes, classes])\n",
    "\n",
    "        for i in range(len(test_labels)):\n",
    "            ConfMatrix[test_labels[i], predicted_labels[i]] += 1\n",
    "\n",
    "        # Precision\n",
    "\n",
    "        Precision = []\n",
    "        for i in range(classes):\n",
    "            Precision.append(ConfMatrix[i][i] / np.sum(ConfMatrix[:,i]))\n",
    "\n",
    "        # Recall\n",
    "\n",
    "        Recall = []\n",
    "        for i in range(classes):\n",
    "            Recall.append(ConfMatrix[i][i] / np.sum(ConfMatrix[i,:]))\n",
    "\n",
    "        # f1 Score\n",
    "\n",
    "        f1Score = []\n",
    "        for i in range(classes):\n",
    "            f1Score.append(2 * Recall[i] * Precision[i] / (Recall[i] + Precision[i]))\n",
    "            print('f1 Score of Class ', i , ' is: ', f1Score[i])\n",
    "    "
   ]
  },
  {
   "cell_type": "code",
   "execution_count": 270,
   "id": "07182211",
   "metadata": {},
   "outputs": [],
   "source": [
    "def plot_loss(train_loss_list):\n",
    "    # define the lists to plot\n",
    "    plt.plot(train_loss_list[0], label = 'model 1')\n",
    "    plt.plot(train_loss_list[1], label = 'model 2')\n",
    "    plt.plot(train_loss_list[2], label = 'model 3')\n",
    "\n",
    "    # add labels and legend\n",
    "    plt.xlabel('Epoch')\n",
    "    plt.ylabel('Train Loss')\n",
    "    plt.title('Train Loss vs Epochs')\n",
    "    plt.legend()\n",
    "\n",
    "    # show the plot\n",
    "    plt.show()"
   ]
  },
  {
   "cell_type": "code",
   "execution_count": 271,
   "id": "e6cf6ed3",
   "metadata": {},
   "outputs": [],
   "source": [
    "loss_list = []"
   ]
  },
  {
   "cell_type": "markdown",
   "id": "b609d5b2",
   "metadata": {},
   "source": [
    "### *Config - 1 (1 Conv layer with depth = 1 and kernel size 3 x 3)*"
   ]
  },
  {
   "cell_type": "code",
   "execution_count": 267,
   "id": "9c1473cf",
   "metadata": {},
   "outputs": [],
   "source": [
    "input_channels = 1\n",
    "conv_filters = [1]\n",
    "conv_kernal_size = 3\n",
    "pool_kernal_size = 2\n",
    "fc_layer_inputs = 13 * 13 * 1\n",
    "output_neurons = 10\n",
    "epochs = 10\n",
    "batch_size = 256\n",
    "learning_rate = 0.001\n",
    "\n",
    "model = ConvNet(input_channels, conv_filters, conv_kernal_size, pool_kernal_size, fc_layer_inputs, output_neurons, learning_rate)"
   ]
  },
  {
   "cell_type": "code",
   "execution_count": 268,
   "id": "418f3357",
   "metadata": {
    "scrolled": true
   },
   "outputs": [
    {
     "name": "stdout",
     "output_type": "stream",
     "text": [
      "Epoch:  1  Accuracy:  56.35 Train Loss = 0.8629731290579751\n",
      "Epoch:  2  Accuracy:  83.98 Train Loss = 0.5832502417487061\n",
      "Epoch:  3  Accuracy:  87.41 Train Loss = 0.47097778053098227\n",
      "Epoch:  4  Accuracy:  88.92 Train Loss = 0.4114188389919482\n",
      "Epoch:  5  Accuracy:  90.0 Train Loss = 0.372636982821664\n",
      "Epoch:  6  Accuracy:  90.68 Train Loss = 0.3448292871619609\n",
      "Epoch:  7  Accuracy:  91.21 Train Loss = 0.323949451445655\n",
      "Epoch:  8  Accuracy:  91.71 Train Loss = 0.3076545147906164\n",
      "Epoch:  9  Accuracy:  92.02 Train Loss = 0.2945701182537175\n",
      "Epoch:  10  Accuracy:  92.27 Train Loss = 0.2841559436144243\n"
     ]
    }
   ],
   "source": [
    "model.train(DTrain, epochs, batch_size)"
   ]
  },
  {
   "cell_type": "code",
   "execution_count": 272,
   "id": "a52ff801",
   "metadata": {},
   "outputs": [
    {
     "name": "stdout",
     "output_type": "stream",
     "text": [
      "\u001b[1mTest Accuracy =  88.92 \u001b[0m\n",
      "\n",
      "\n"
     ]
    }
   ],
   "source": [
    "model.test(DTest)"
   ]
  },
  {
   "cell_type": "code",
   "execution_count": 273,
   "id": "a91eed05",
   "metadata": {},
   "outputs": [],
   "source": [
    "loss_list.append(model.train_loss)"
   ]
  },
  {
   "cell_type": "markdown",
   "id": "509b6c43",
   "metadata": {},
   "source": [
    "### *Config - 2 (1 Conv layer with depth = 1 and kernel size 5 x5)*"
   ]
  },
  {
   "cell_type": "code",
   "execution_count": 277,
   "id": "ffdad695",
   "metadata": {},
   "outputs": [],
   "source": [
    "input_channels = 1\n",
    "conv_filters = [1]\n",
    "conv_kernal_size = 5\n",
    "pool_kernal_size = 2\n",
    "fc_layer_inputs = 12 * 12 * 1\n",
    "output_neurons = 10\n",
    "epochs = 10\n",
    "batch_size = 256\n",
    "learning_rate = 0.0005\n",
    "\n",
    "model = ConvNet(input_channels, conv_filters, conv_kernal_size, pool_kernal_size, fc_layer_inputs, output_neurons, learning_rate)"
   ]
  },
  {
   "cell_type": "code",
   "execution_count": 278,
   "id": "35e8f8fb",
   "metadata": {},
   "outputs": [
    {
     "name": "stdout",
     "output_type": "stream",
     "text": [
      "Epoch:  1  Accuracy:  67.14 Train Loss = 0.4790577779919649\n",
      "Epoch:  2  Accuracy:  88.55 Train Loss = 0.3183419281368177\n",
      "Epoch:  3  Accuracy:  90.96 Train Loss = 0.2682759758840193\n",
      "Epoch:  4  Accuracy:  92.43 Train Loss = 0.21862942443928435\n",
      "Epoch:  5  Accuracy:  93.45 Train Loss = 0.21209975210104715\n",
      "Epoch:  6  Accuracy:  94.08 Train Loss = 0.17314044720866809\n",
      "Epoch:  7  Accuracy:  94.53 Train Loss = 0.16285471139790214\n",
      "Epoch:  8  Accuracy:  94.45 Train Loss = 0.17363101466490607\n",
      "Epoch:  9  Accuracy:  95.08 Train Loss = 0.17215373536169906\n",
      "Epoch:  10  Accuracy:  95.13 Train Loss = 0.16812537776881645\n"
     ]
    }
   ],
   "source": [
    "model.train(DTrain, epochs, batch_size)"
   ]
  },
  {
   "cell_type": "code",
   "execution_count": 279,
   "id": "e200b2cc",
   "metadata": {},
   "outputs": [
    {
     "name": "stdout",
     "output_type": "stream",
     "text": [
      "\u001b[1mTest Accuracy =  91.4 \u001b[0m\n",
      "\n",
      "\n"
     ]
    }
   ],
   "source": [
    "model.test(DTest)"
   ]
  },
  {
   "cell_type": "code",
   "execution_count": 280,
   "id": "1ba0a671",
   "metadata": {},
   "outputs": [],
   "source": [
    "loss_list.append(model.train_loss)"
   ]
  },
  {
   "cell_type": "markdown",
   "id": "ff925c0e",
   "metadata": {},
   "source": [
    "### *Config - 3 (2 Conv layers with depths = 2 & 3 and kernel size 3 x3)*"
   ]
  },
  {
   "cell_type": "code",
   "execution_count": 281,
   "id": "ab07aef5",
   "metadata": {},
   "outputs": [],
   "source": [
    "input_channels = 1\n",
    "conv_filters = [2, 3]\n",
    "conv_kernal_size = 3\n",
    "pool_kernal_size = 2\n",
    "fc_layer_inputs = 5 * 5 * 3\n",
    "output_neurons = 10\n",
    "epochs = 10\n",
    "batch_size = 256\n",
    "learning_rate = 0.001\n",
    "\n",
    "model = ConvNet(input_channels, conv_filters, conv_kernal_size, pool_kernal_size, fc_layer_inputs, output_neurons, learning_rate)"
   ]
  },
  {
   "cell_type": "code",
   "execution_count": 282,
   "id": "acf2806c",
   "metadata": {},
   "outputs": [
    {
     "name": "stdout",
     "output_type": "stream",
     "text": [
      "Epoch:  1  Accuracy:  56.85 Train Loss = 0.6073283220274707\n",
      "Epoch:  2  Accuracy:  85.37 Train Loss = 0.36637930149056197\n",
      "Epoch:  3  Accuracy:  89.87 Train Loss = 0.31723788959128457\n",
      "Epoch:  4  Accuracy:  90.68 Train Loss = 0.30467983985960584\n",
      "Epoch:  5  Accuracy:  91.22 Train Loss = 0.2696943504669103\n",
      "Epoch:  6  Accuracy:  91.97 Train Loss = 0.28043703026778816\n",
      "Epoch:  7  Accuracy:  92.22 Train Loss = 0.2985425278133744\n",
      "Epoch:  8  Accuracy:  92.55 Train Loss = 0.24504004084149508\n",
      "Epoch:  9  Accuracy:  92.59 Train Loss = 0.237478726305382\n",
      "Epoch:  10  Accuracy:  92.58 Train Loss = 0.23098710749771134\n"
     ]
    }
   ],
   "source": [
    "model.train(DTrain, epochs, batch_size)"
   ]
  },
  {
   "cell_type": "code",
   "execution_count": 283,
   "id": "7d69b5a1",
   "metadata": {},
   "outputs": [
    {
     "name": "stdout",
     "output_type": "stream",
     "text": [
      "\u001b[1mTest Accuracy =  90.15 \u001b[0m\n",
      "\n",
      "\n"
     ]
    }
   ],
   "source": [
    "model.test(DTest)"
   ]
  },
  {
   "cell_type": "code",
   "execution_count": 284,
   "id": "150fc75c",
   "metadata": {},
   "outputs": [],
   "source": [
    "loss_list.append(model.train_loss)"
   ]
  },
  {
   "cell_type": "markdown",
   "id": "7ce2e744",
   "metadata": {},
   "source": [
    "### *Plot*"
   ]
  },
  {
   "cell_type": "code",
   "execution_count": 288,
   "id": "5cd82a76",
   "metadata": {},
   "outputs": [
    {
     "data": {
      "image/png": "[encoded data removed]",
      "text/plain": [
       "<Figure size 640x480 with 1 Axes>"
      ]
     },
     "metadata": {},
     "output_type": "display_data"
    }
   ],
   "source": [
    "plot_loss(loss_list)"
   ]
  }
 ],
 "metadata": {
  "kernelspec": {
   "display_name": "Python 3 (ipykernel)",
   "language": "python",
   "name": "python3"
  },
  "language_info": {
   "codemirror_mode": {
    "name": "ipython",
    "version": 3
   },
   "file_extension": ".py",
   "mimetype": "text/x-python",
   "name": "python",
   "nbconvert_exporter": "python",
   "pygments_lexer": "ipython3",
   "version": "3.10.6"
  }
 },
 "nbformat": 4,
 "nbformat_minor": 5
}
