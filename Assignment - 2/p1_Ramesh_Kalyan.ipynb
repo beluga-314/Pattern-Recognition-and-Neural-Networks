{
 "cells": [
  {
   "cell_type": "markdown",
   "id": "8d646a86",
   "metadata": {},
   "source": [
    "# p1"
   ]
  },
  {
   "cell_type": "markdown",
   "id": "3fc99fbe",
   "metadata": {},
   "source": [
    "## *SVM with A1_p3 Data*"
   ]
  },
  {
   "cell_type": "code",
   "execution_count": 3,
   "id": "b9fd0856",
   "metadata": {},
   "outputs": [],
   "source": [
    "import numpy as np\n",
    "from libsvm.svmutil import *\n",
    "from matplotlib import pyplot as plt"
   ]
  },
  {
   "cell_type": "code",
   "execution_count": 4,
   "id": "9141e2ac",
   "metadata": {},
   "outputs": [],
   "source": [
    "# Train Data\n",
    "with open('p3_train.csv', 'r') as f:\n",
    "    results = []\n",
    "    for line in f:\n",
    "        words = line.split(',')\n",
    "        for i in range(len(words)):\n",
    "            words[i] = float(words[i])\n",
    "        results.append(words)\n",
    "Data = np.array(results[0:40000])"
   ]
  },
  {
   "cell_type": "code",
   "execution_count": 5,
   "id": "c9522d37",
   "metadata": {},
   "outputs": [],
   "source": [
    "with open('p3_test.csv', 'r') as f:\n",
    "    results = []\n",
    "    for line in f:\n",
    "        words = line.split(',')\n",
    "        for i in range(len(words)):\n",
    "            words[i] = float(words[i])\n",
    "        results.append(words)\n",
    "Data_test = np.array(results)\n",
    "Data_Y_test = Data_test[:,10].astype(int)\n",
    "Data_X_test = np.delete(Data_test, 10, axis = 1)"
   ]
  },
  {
   "cell_type": "code",
   "execution_count": 6,
   "id": "4c905e28",
   "metadata": {},
   "outputs": [],
   "source": [
    "val_size = 0.5\n",
    "\n",
    "# calculate the number of validation data rows\n",
    "val_rows = int(val_size * Data.shape[0])\n",
    "\n",
    "# shuffle the data\n",
    "np.random.shuffle(Data)\n",
    "\n",
    "# split the data into train and validation sets\n",
    "Data_train = Data[val_rows:]\n",
    "Data_Y_train = Data_train[:,10].astype(int)\n",
    "Data_X_train = np.delete(Data_train, 10, axis = 1)\n",
    "Data_val = Data[:val_rows]\n",
    "Data_val=np.array(Data_val)\n",
    "Data_Y_val = Data_val[:,10].astype(int)\n",
    "Data_X_val = np.delete(Data_val, 10, axis = 1)"
   ]
  },
  {
   "cell_type": "code",
   "execution_count": 7,
   "id": "456a7bcb",
   "metadata": {},
   "outputs": [
    {
     "name": "stdout",
     "output_type": "stream",
     "text": [
      "(20000, 10)\n",
      "(20000, 10)\n",
      "(20000,)\n",
      "(20000,)\n",
      "(15000, 10)\n",
      "(15000,)\n"
     ]
    }
   ],
   "source": [
    "print(Data_X_train.shape)\n",
    "print(Data_X_val.shape)\n",
    "print(Data_Y_train.shape)\n",
    "print(Data_Y_val.shape)\n",
    "print(Data_X_test.shape)\n",
    "print(Data_Y_test.shape)"
   ]
  },
  {
   "cell_type": "code",
   "execution_count": 6,
   "id": "6918512e",
   "metadata": {},
   "outputs": [],
   "source": [
    "def create_onevsrest(Data_train):\n",
    "    labels = np.unique(Data_train[:,10].astype(int))\n",
    "    X_train={x: [] for x in labels}\n",
    "    Y_train={x: [] for x in labels}\n",
    "    ovr_data = []\n",
    "    for i in range(1,len(labels)+1):\n",
    "        for j in range(len(Data_train)):\n",
    "            X_train[i].append(Data_train[j][0:10])\n",
    "            if int(Data_train[j][10])!=i:\n",
    "                Y_train[i].append(-1)\n",
    "            else:\n",
    "                Y_train[i].append(1)\n",
    "                \n",
    "    for i in range(1,len(labels)+1):\n",
    "        X_train[i]=np.array(X_train[i])\n",
    "        Y_train[i]=np.array(Y_train[i])\n",
    "        Y_train[i].reshape((Y_train[i].shape[0],1))\n",
    "    \n",
    "    return X_train,Y_train\n"
   ]
  },
  {
   "cell_type": "code",
   "execution_count": 16,
   "id": "4e0603f7",
   "metadata": {},
   "outputs": [],
   "source": [
    "data_ovr_X_train,data_ovr_Y_train=create_onevsrest(Data_train)"
   ]
  },
  {
   "cell_type": "code",
   "execution_count": 12,
   "id": "3127903f",
   "metadata": {},
   "outputs": [],
   "source": [
    "def get_models(data_ovr_X_train,data_ovr_Y_train,param_str,classes):\n",
    "    models=[]\n",
    "    for i in range(1,classes+1):\n",
    "        prob  = svm_problem(data_ovr_Y_train[i], data_ovr_X_train[i])\n",
    "        param = svm_parameter(param_str)\n",
    "        m = svm_train(prob, param,'-e 1')\n",
    "        models.append(m)\n",
    "    return models"
   ]
  },
  {
   "cell_type": "code",
   "execution_count": 13,
   "id": "30e35b57",
   "metadata": {},
   "outputs": [],
   "source": [
    "def testSVM(Data_X_t,Data_Y_t,noofclasses,models):\n",
    "    Pred_Y_test=[]\n",
    "    predlist=[]\n",
    "    for i in range(1,noofclasses+1):\n",
    "        Data_Y_t_new=[1 if k==i else -1 for k in Data_Y_t]\n",
    "        _,_, p_val = svm_predict(Data_Y_t_new, Data_X_t, models[i-1], '-b 1')\n",
    "        p_val=np.array(p_val)\n",
    "        predlist.append(p_val[:,0])\n",
    "    predlist=np.array(predlist).T\n",
    "    #print(predlist)\n",
    "    for j in range(len(Data_X_t)):\n",
    "        Pred_Y_test.append(np.argmax(predlist[j,:])+1)     \n",
    "    correct_count=0\n",
    "    for i in range(len(Data_X_t)):\n",
    "        if Pred_Y_test[i]==Data_Y_t[i]:\n",
    "            correct_count+=1\n",
    "    print(\"Accuracy for OvR:\",correct_count/len(Data_X_t))\n",
    "    return correct_count/len(Data_X_t)"
   ]
  },
  {
   "cell_type": "markdown",
   "id": "72174f7f",
   "metadata": {},
   "source": [
    "### GAUSSIAN KERNEL"
   ]
  },
  {
   "cell_type": "code",
   "execution_count": 142,
   "id": "1ce2a7ec",
   "metadata": {},
   "outputs": [
    {
     "name": "stdout",
     "output_type": "stream",
     "text": [
      "C: 0.1 Gamma: 0.001\n",
      "Accuracy = 83.53% (16706/20000) (classification)\n",
      "Accuracy = 84.935% (16987/20000) (classification)\n",
      "Accuracy = 87.495% (17499/20000) (classification)\n",
      "Accuracy = 86.2% (17240/20000) (classification)\n",
      "Accuracy = 84.59% (16918/20000) (classification)\n",
      "Accuracy for OvR: 0.57035\n",
      "----------\n",
      "C: 0.1 Gamma: 0.01\n",
      "Accuracy = 83.895% (16779/20000) (classification)\n",
      "Accuracy = 85.35% (17070/20000) (classification)\n",
      "Accuracy = 87.9% (17580/20000) (classification)\n",
      "Accuracy = 86.615% (17323/20000) (classification)\n",
      "Accuracy = 85.19% (17038/20000) (classification)\n",
      "Accuracy for OvR: 0.5814\n",
      "----------\n",
      "C: 0.1 Gamma: 0.05\n",
      "Accuracy = 84.07% (16814/20000) (classification)\n",
      "Accuracy = 85.4% (17080/20000) (classification)\n",
      "Accuracy = 87.945% (17589/20000) (classification)\n",
      "Accuracy = 86.765% (17353/20000) (classification)\n",
      "Accuracy = 85.405% (17081/20000) (classification)\n",
      "Accuracy for OvR: 0.5832\n",
      "----------\n",
      "C: 0.1 Gamma: 0.1\n",
      "Accuracy = 84.01% (16802/20000) (classification)\n",
      "Accuracy = 85.52% (17104/20000) (classification)\n",
      "Accuracy = 87.845% (17569/20000) (classification)\n",
      "Accuracy = 86.68% (17336/20000) (classification)\n",
      "Accuracy = 85.28% (17056/20000) (classification)\n",
      "Accuracy for OvR: 0.58105\n",
      "----------\n",
      "C: 0.1 Gamma: 0.15\n",
      "Accuracy = 83.91% (16782/20000) (classification)\n",
      "Accuracy = 85.39% (17078/20000) (classification)\n",
      "Accuracy = 87.68% (17536/20000) (classification)\n",
      "Accuracy = 86.62% (17324/20000) (classification)\n",
      "Accuracy = 85.14% (17028/20000) (classification)\n",
      "Accuracy for OvR: 0.58175\n",
      "----------\n",
      "C: 1 Gamma: 0.001\n",
      "Accuracy = 83.67% (16734/20000) (classification)\n",
      "Accuracy = 85.05% (17010/20000) (classification)\n",
      "Accuracy = 87.63% (17526/20000) (classification)\n",
      "Accuracy = 86.6% (17320/20000) (classification)\n",
      "Accuracy = 85.015% (17003/20000) (classification)\n",
      "Accuracy for OvR: 0.572\n",
      "----------\n",
      "C: 1 Gamma: 0.01\n",
      "Accuracy = 84.045% (16809/20000) (classification)\n",
      "Accuracy = 85.445% (17089/20000) (classification)\n",
      "Accuracy = 87.86% (17572/20000) (classification)\n",
      "Accuracy = 86.695% (17339/20000) (classification)\n",
      "Accuracy = 85.275% (17055/20000) (classification)\n",
      "Accuracy for OvR: 0.5851\n",
      "----------\n",
      "C: 1 Gamma: 0.05\n",
      "Accuracy = 84.095% (16819/20000) (classification)\n",
      "Accuracy = 85.385% (17077/20000) (classification)\n",
      "Accuracy = 87.9% (17580/20000) (classification)\n",
      "Accuracy = 86.76% (17352/20000) (classification)\n",
      "Accuracy = 85.325% (17065/20000) (classification)\n",
      "Accuracy for OvR: 0.58225\n",
      "----------\n",
      "C: 1 Gamma: 0.1\n",
      "Accuracy = 84.18% (16836/20000) (classification)\n",
      "Accuracy = 85.445% (17089/20000) (classification)\n",
      "Accuracy = 87.765% (17553/20000) (classification)\n",
      "Accuracy = 86.71% (17342/20000) (classification)\n",
      "Accuracy = 85.31% (17062/20000) (classification)\n",
      "Accuracy for OvR: 0.57785\n",
      "----------\n",
      "C: 1 Gamma: 0.15\n",
      "Accuracy = 84.19% (16838/20000) (classification)\n",
      "Accuracy = 85.36% (17072/20000) (classification)\n",
      "Accuracy = 87.685% (17537/20000) (classification)\n",
      "Accuracy = 86.655% (17331/20000) (classification)\n",
      "Accuracy = 85.21% (17042/20000) (classification)\n",
      "Accuracy for OvR: 0.5724\n",
      "----------\n",
      "C: 3 Gamma: 0.001\n",
      "Accuracy = 83.715% (16743/20000) (classification)\n",
      "Accuracy = 85.23% (17046/20000) (classification)\n",
      "Accuracy = 87.82% (17564/20000) (classification)\n",
      "Accuracy = 86.675% (17335/20000) (classification)\n",
      "Accuracy = 85.145% (17029/20000) (classification)\n",
      "Accuracy for OvR: 0.57545\n",
      "----------\n",
      "C: 3 Gamma: 0.01\n",
      "Accuracy = 84.06% (16812/20000) (classification)\n",
      "Accuracy = 85.405% (17081/20000) (classification)\n",
      "Accuracy = 87.865% (17573/20000) (classification)\n",
      "Accuracy = 86.74% (17348/20000) (classification)\n",
      "Accuracy = 85.275% (17055/20000) (classification)\n",
      "Accuracy for OvR: 0.585\n",
      "----------\n",
      "C: 3 Gamma: 0.05\n",
      "Accuracy = 84.14% (16828/20000) (classification)\n",
      "Accuracy = 85.33% (17066/20000) (classification)\n",
      "Accuracy = 87.84% (17568/20000) (classification)\n",
      "Accuracy = 86.745% (17349/20000) (classification)\n",
      "Accuracy = 85.27% (17054/20000) (classification)\n",
      "Accuracy for OvR: 0.57955\n",
      "----------\n",
      "C: 3 Gamma: 0.1\n",
      "Accuracy = 84.135% (16827/20000) (classification)\n",
      "Accuracy = 85.255% (17051/20000) (classification)\n",
      "Accuracy = 87.69% (17538/20000) (classification)\n",
      "Accuracy = 86.69% (17338/20000) (classification)\n",
      "Accuracy = 85.135% (17027/20000) (classification)\n",
      "Accuracy for OvR: 0.56895\n",
      "----------\n",
      "C: 3 Gamma: 0.15\n",
      "Accuracy = 83.875% (16775/20000) (classification)\n",
      "Accuracy = 85% (17000/20000) (classification)\n",
      "Accuracy = 87.32% (17464/20000) (classification)\n",
      "Accuracy = 86.325% (17265/20000) (classification)\n",
      "Accuracy = 84.67% (16934/20000) (classification)\n",
      "Accuracy for OvR: 0.5571\n",
      "----------\n",
      "C: 10 Gamma: 0.001\n",
      "Accuracy = 83.89% (16778/20000) (classification)\n",
      "Accuracy = 85.395% (17079/20000) (classification)\n",
      "Accuracy = 87.885% (17577/20000) (classification)\n",
      "Accuracy = 86.62% (17324/20000) (classification)\n",
      "Accuracy = 85.17% (17034/20000) (classification)\n",
      "Accuracy for OvR: 0.58245\n",
      "----------\n",
      "C: 10 Gamma: 0.01\n",
      "Accuracy = 84.11% (16822/20000) (classification)\n",
      "Accuracy = 85.335% (17067/20000) (classification)\n",
      "Accuracy = 87.985% (17597/20000) (classification)\n",
      "Accuracy = 86.755% (17351/20000) (classification)\n",
      "Accuracy = 85.34% (17068/20000) (classification)\n",
      "Accuracy for OvR: 0.5851\n",
      "----------\n",
      "C: 10 Gamma: 0.05\n",
      "Accuracy = 84.215% (16843/20000) (classification)\n",
      "Accuracy = 85.26% (17052/20000) (classification)\n",
      "Accuracy = 87.74% (17548/20000) (classification)\n",
      "Accuracy = 86.65% (17330/20000) (classification)\n",
      "Accuracy = 85.18% (17036/20000) (classification)\n",
      "Accuracy for OvR: 0.5735\n",
      "----------\n",
      "C: 10 Gamma: 0.1\n",
      "Accuracy = 83.735% (16747/20000) (classification)\n",
      "Accuracy = 84.785% (16957/20000) (classification)\n",
      "Accuracy = 87.075% (17415/20000) (classification)\n",
      "Accuracy = 86.055% (17211/20000) (classification)\n",
      "Accuracy = 84.55% (16910/20000) (classification)\n",
      "Accuracy for OvR: 0.55125\n",
      "----------\n",
      "C: 10 Gamma: 0.15\n",
      "Accuracy = 82.885% (16577/20000) (classification)\n",
      "Accuracy = 84.04% (16808/20000) (classification)\n",
      "Accuracy = 86.32% (17264/20000) (classification)\n",
      "Accuracy = 85.09% (17018/20000) (classification)\n",
      "Accuracy = 83.585% (16717/20000) (classification)\n",
      "Accuracy for OvR: 0.5275\n",
      "----------\n",
      "C: 50 Gamma: 0.001\n",
      "Accuracy = 83.965% (16793/20000) (classification)\n",
      "Accuracy = 85.465% (17093/20000) (classification)\n",
      "Accuracy = 87.785% (17557/20000) (classification)\n",
      "Accuracy = 86.635% (17327/20000) (classification)\n",
      "Accuracy = 85.215% (17043/20000) (classification)\n",
      "Accuracy for OvR: 0.5849\n",
      "----------\n",
      "C: 50 Gamma: 0.01\n",
      "Accuracy = 84.19% (16838/20000) (classification)\n",
      "Accuracy = 85.32% (17064/20000) (classification)\n",
      "Accuracy = 87.925% (17585/20000) (classification)\n",
      "Accuracy = 86.82% (17364/20000) (classification)\n",
      "Accuracy = 85.35% (17070/20000) (classification)\n",
      "Accuracy for OvR: 0.5823\n",
      "----------\n",
      "C: 50 Gamma: 0.05\n",
      "Accuracy = 83.895% (16779/20000) (classification)\n",
      "Accuracy = 84.825% (16965/20000) (classification)\n",
      "Accuracy = 87.215% (17443/20000) (classification)\n",
      "Accuracy = 86.235% (17247/20000) (classification)\n",
      "Accuracy = 84.615% (16923/20000) (classification)\n",
      "Accuracy for OvR: 0.55875\n",
      "----------\n",
      "C: 50 Gamma: 0.1\n",
      "Accuracy = 82.39% (16478/20000) (classification)\n",
      "Accuracy = 83.51% (16702/20000) (classification)\n",
      "Accuracy = 85.58% (17116/20000) (classification)\n",
      "Accuracy = 84.645% (16929/20000) (classification)\n",
      "Accuracy = 83.07% (16614/20000) (classification)\n",
      "Accuracy for OvR: 0.5098\n",
      "----------\n",
      "C: 50 Gamma: 0.15\n",
      "Accuracy = 81.69% (16338/20000) (classification)\n",
      "Accuracy = 82.75% (16550/20000) (classification)\n",
      "Accuracy = 84.71% (16942/20000) (classification)\n",
      "Accuracy = 83.845% (16769/20000) (classification)\n",
      "Accuracy = 82.45% (16490/20000) (classification)\n",
      "Accuracy for OvR: 0.4849\n",
      "----------\n",
      "Best parameters: C=1, gamma=0.01\n",
      "Best validation accuracy: 58.51%\n"
     ]
    }
   ],
   "source": [
    "C_range = [0.1,1,3,10,50]\n",
    "gamma_range = [0.001,0.01,0.05,0.1,0.15]\n",
    "\n",
    "best_acc = 0\n",
    "best_C = 0\n",
    "best_gamma = 0\n",
    "accuracies=np.zeros((5,5))\n",
    "i=-1\n",
    "j=-1\n",
    "# Loop over all combinations of C and gamma\n",
    "for C in C_range:\n",
    "    i+=1\n",
    "    j=-1\n",
    "    for gamma in gamma_range:\n",
    "        j+=1\n",
    "        print(\"C:\",C,end=' ')\n",
    "        print(\"Gamma:\",gamma)\n",
    "        # Train an SVM model on the training data\n",
    "        param_str = f'-t 2 -c {C} -g {gamma} -b 1'\n",
    "        prob = svm_parameter(param_str)\n",
    "        models = get_models(data_ovr_X_train,data_ovr_Y_train,param_str,5)\n",
    "\n",
    "        # Test the model on the validation data\n",
    "        acc = testSVM(Data_X_val,Data_Y_val,5, models)\n",
    "        if acc > best_acc:\n",
    "            best_acc = acc\n",
    "            best_C = C\n",
    "            best_gamma = gamma\n",
    "        accuracies[i][j]=acc\n",
    "        print('----------')\n",
    "        \n",
    "\n",
    "# Print the best parameters and accuracy found\n",
    "print(f\"Best parameters: C={best_C}, gamma={best_gamma}\")\n",
    "print(f\"Best validation accuracy: {best_acc:.2%}\")"
   ]
  },
  {
   "cell_type": "markdown",
   "id": "0e41a4c8",
   "metadata": {},
   "source": [
    "##### Grid search plot for gaussian kernel ('c' and 'gamma' vs validation accuracy)"
   ]
  },
  {
   "cell_type": "code",
   "execution_count": 163,
   "id": "faf1960e",
   "metadata": {},
   "outputs": [
    {
     "data": {
      "image/png": "[encoded data removed]",
      "text/plain": [
       "<Figure size 720x720 with 1 Axes>"
      ]
     },
     "metadata": {
      "needs_background": "light"
     },
     "output_type": "display_data"
    }
   ],
   "source": [
    "import matplotlib.pyplot as plt\n",
    "from mpl_toolkits.mplot3d import Axes3D\n",
    "import numpy as np\n",
    "\n",
    "# create 3D axes\n",
    "fig = plt.figure(figsize=(10, 10))\n",
    "ax = fig.add_subplot(111, projection='3d')\n",
    "\n",
    "# create data for surface plot\n",
    "X = C_range\n",
    "Y = gamma_range\n",
    "X, Y = np.meshgrid(X, Y)\n",
    "\n",
    "Z = accuracies\n",
    "\n",
    "# plot surface\n",
    "ax.plot_surface(X, Y, Z, cmap='coolwarm')\n",
    "\n",
    "# set labels and title\n",
    "ax.set_xlabel('c')\n",
    "ax.set_ylabel('gamma')\n",
    "ax.set_zlabel('Validation accuracy')\n",
    "ax.set_title('3D Surface Plot')\n",
    "\n",
    "ax.view_init(elev=30, azim=145)\n",
    "# show plot\n",
    "plt.show()"
   ]
  },
  {
   "cell_type": "markdown",
   "id": "04ad8eb2",
   "metadata": {},
   "source": [
    "#### Test accuracy with C ,gamma after grid search"
   ]
  },
  {
   "cell_type": "code",
   "execution_count": 17,
   "id": "f1cce6d0",
   "metadata": {},
   "outputs": [],
   "source": [
    "param_str = f'-t 2 -c {best_C} -g {best_gamma} -b 1'\n",
    "prob = svm_parameter(param_str)\n",
    "models = get_models(data_ovr_X_train,data_ovr_Y_train,param_str,5)\n"
   ]
  },
  {
   "cell_type": "code",
   "execution_count": 18,
   "id": "250e8a5d",
   "metadata": {},
   "outputs": [
    {
     "name": "stdout",
     "output_type": "stream",
     "text": [
      "Accuracy = 84.48% (12672/15000) (classification)\n",
      "Accuracy = 85.2467% (12787/15000) (classification)\n",
      "Accuracy = 87.4933% (13124/15000) (classification)\n",
      "Accuracy = 86.6933% (13004/15000) (classification)\n",
      "Accuracy = 85.44% (12816/15000) (classification)\n",
      "Accuracy for OvR: 0.5808666666666666\n"
     ]
    }
   ],
   "source": [
    "acc = testSVM(Data_X_test,Data_Y_test,5, models)"
   ]
  },
  {
   "cell_type": "markdown",
   "id": "46ad8ef6",
   "metadata": {},
   "source": [
    "##### B)Without Slack"
   ]
  },
  {
   "cell_type": "code",
   "execution_count": 19,
   "id": "e4cf6be6",
   "metadata": {},
   "outputs": [],
   "source": [
    "c=np.inf\n",
    "param_str = f'-t 2 -c {c} -g {best_gamma} -b 1'\n",
    "prob = svm_parameter(param_str)\n",
    "models = get_models(data_ovr_X_train,data_ovr_Y_train,param_str,5)\n",
    "\n"
   ]
  },
  {
   "cell_type": "code",
   "execution_count": 20,
   "id": "70bbe25b",
   "metadata": {},
   "outputs": [
    {
     "name": "stdout",
     "output_type": "stream",
     "text": [
      "Accuracy = 82.4467% (12367/15000) (classification)\n",
      "Accuracy = 82.4733% (12371/15000) (classification)\n",
      "Accuracy = 84.6533% (12698/15000) (classification)\n",
      "Accuracy = 83.9867% (12598/15000) (classification)\n",
      "Accuracy = 82.64% (12396/15000) (classification)\n",
      "Accuracy for OvR: 0.49646666666666667\n"
     ]
    }
   ],
   "source": [
    "acc = testSVM(Data_X_test,Data_Y_test,5, models)"
   ]
  },
  {
   "cell_type": "markdown",
   "id": "f06be349",
   "metadata": {},
   "source": [
    "### POLYNOMIAL KERNEL"
   ]
  },
  {
   "cell_type": "code",
   "execution_count": 7,
   "id": "2c5745cd",
   "metadata": {},
   "outputs": [
    {
     "name": "stdout",
     "output_type": "stream",
     "text": [
      "C: 0.1\n",
      "Gamma: 0.001\n",
      "Degree: 2\n",
      "Accuracy = 19.845% (3969/20000) (classification)\n",
      "-----------------\n",
      "C: 1\n",
      "Gamma: 0.001\n",
      "Degree: 2\n",
      "Accuracy = 23.37% (4674/20000) (classification)\n",
      "-----------------\n",
      "C: 2\n",
      "Gamma: 0.001\n",
      "Degree: 2\n",
      "Accuracy = 36.685% (7337/20000) (classification)\n",
      "-----------------\n",
      "C: 0.1\n",
      "Gamma: 0.01\n",
      "Degree: 2\n",
      "Accuracy = 48.35% (9670/20000) (classification)\n",
      "-----------------\n",
      "C: 1\n",
      "Gamma: 0.01\n",
      "Degree: 2\n",
      "Accuracy = 51.24% (10248/20000) (classification)\n",
      "-----------------\n",
      "C: 2\n",
      "Gamma: 0.01\n",
      "Degree: 2\n",
      "Accuracy = 51.64% (10328/20000) (classification)\n",
      "-----------------\n",
      "C: 0.1\n",
      "Gamma: 0.1\n",
      "Degree: 2\n",
      "Accuracy = 51.865% (10373/20000) (classification)\n",
      "-----------------\n",
      "C: 1\n",
      "Gamma: 0.1\n",
      "Degree: 2\n",
      "Accuracy = 51.96% (10392/20000) (classification)\n",
      "-----------------\n",
      "C: 2\n",
      "Gamma: 0.1\n",
      "Degree: 2\n",
      "Accuracy = 51.94% (10388/20000) (classification)\n",
      "-----------------\n",
      "C: 0.1\n",
      "Gamma: 1\n",
      "Degree: 2\n",
      "Accuracy = 51.92% (10384/20000) (classification)\n",
      "-----------------\n",
      "C: 1\n",
      "Gamma: 1\n",
      "Degree: 2\n",
      "Accuracy = 51.925% (10385/20000) (classification)\n",
      "-----------------\n",
      "C: 2\n",
      "Gamma: 1\n",
      "Degree: 2\n",
      "Accuracy = 51.935% (10387/20000) (classification)\n",
      "-----------------\n",
      "C: 0.1\n",
      "Gamma: 0.001\n",
      "Degree: 3\n",
      "Accuracy = 19.845% (3969/20000) (classification)\n",
      "-----------------\n",
      "C: 1\n",
      "Gamma: 0.001\n",
      "Degree: 3\n",
      "Accuracy = 19.845% (3969/20000) (classification)\n",
      "-----------------\n",
      "C: 2\n",
      "Gamma: 0.001\n",
      "Degree: 3\n",
      "Accuracy = 19.845% (3969/20000) (classification)\n",
      "-----------------\n",
      "C: 0.1\n",
      "Gamma: 0.01\n",
      "Degree: 3\n",
      "Accuracy = 37.355% (7471/20000) (classification)\n",
      "-----------------\n",
      "C: 1\n",
      "Gamma: 0.01\n",
      "Degree: 3\n",
      "Accuracy = 52.59% (10518/20000) (classification)\n",
      "-----------------\n",
      "C: 2\n",
      "Gamma: 0.01\n",
      "Degree: 3\n",
      "Accuracy = 54.73% (10946/20000) (classification)\n",
      "-----------------\n",
      "C: 0.1\n",
      "Gamma: 0.1\n",
      "Degree: 3\n",
      "Accuracy = 57.23% (11446/20000) (classification)\n",
      "-----------------\n",
      "C: 1\n",
      "Gamma: 0.1\n",
      "Degree: 3\n",
      "Accuracy = 56.805% (11361/20000) (classification)\n",
      "-----------------\n",
      "C: 2\n",
      "Gamma: 0.1\n",
      "Degree: 3\n",
      "Accuracy = 56.79% (11358/20000) (classification)\n",
      "-----------------\n",
      "C: 0.1\n",
      "Gamma: 1\n",
      "Degree: 3\n",
      "Accuracy = 56.705% (11341/20000) (classification)\n",
      "-----------------\n",
      "C: 1\n",
      "Gamma: 1\n",
      "Degree: 3\n",
      "Accuracy = 46.645% (9329/20000) (classification)\n",
      "-----------------\n",
      "C: 2\n",
      "Gamma: 1\n",
      "Degree: 3\n",
      "Accuracy = 54.65% (10930/20000) (classification)\n",
      "-----------------\n",
      "C: 0.1\n",
      "Gamma: 0.001\n",
      "Degree: 4\n",
      "Accuracy = 19.845% (3969/20000) (classification)\n",
      "-----------------\n",
      "C: 1\n",
      "Gamma: 0.001\n",
      "Degree: 4\n",
      "Accuracy = 19.845% (3969/20000) (classification)\n",
      "-----------------\n",
      "C: 2\n",
      "Gamma: 0.001\n",
      "Degree: 4\n",
      "Accuracy = 19.845% (3969/20000) (classification)\n",
      "-----------------\n",
      "C: 0.1\n",
      "Gamma: 0.01\n",
      "Degree: 4\n",
      "Accuracy = 19.935% (3987/20000) (classification)\n",
      "-----------------\n",
      "C: 1\n",
      "Gamma: 0.01\n",
      "Degree: 4\n",
      "Accuracy = 36.425% (7285/20000) (classification)\n",
      "-----------------\n",
      "C: 2\n",
      "Gamma: 0.01\n",
      "Degree: 4\n",
      "Accuracy = 39.535% (7907/20000) (classification)\n",
      "-----------------\n",
      "C: 0.1\n",
      "Gamma: 0.1\n",
      "Degree: 4\n",
      "Accuracy = 49.24% (9848/20000) (classification)\n",
      "-----------------\n",
      "C: 1\n",
      "Gamma: 0.1\n",
      "Degree: 4\n",
      "Accuracy = 48.495% (9699/20000) (classification)\n",
      "-----------------\n",
      "C: 2\n",
      "Gamma: 0.1\n",
      "Degree: 4\n",
      "Accuracy = 48.155% (9631/20000) (classification)\n",
      "-----------------\n",
      "C: 0.1\n",
      "Gamma: 1\n",
      "Degree: 4\n",
      "Accuracy = 47.36% (9472/20000) (classification)\n",
      "-----------------\n",
      "C: 1\n",
      "Gamma: 1\n",
      "Degree: 4\n",
      "Accuracy = 23.95% (4790/20000) (classification)\n",
      "-----------------\n",
      "C: 2\n",
      "Gamma: 1\n",
      "Degree: 4\n",
      "Accuracy = 22.765% (4553/20000) (classification)\n",
      "-----------------\n",
      "Best Validation accuracy: 57.23 with params: {'C': 0.1, 'gamma': 0.1, 'degree': 3}\n"
     ]
    }
   ],
   "source": [
    "C_range = [0.1, 1, 2]\n",
    "gamma_range = [0.001, 0.01, 0.1, 1]\n",
    "degree_range = [2, 3, 4]\n",
    "\n",
    "# Perform grid search\n",
    "best_accuracy = 0\n",
    "for degree in degree_range:\n",
    "    for gamma in gamma_range:\n",
    "        for C in C_range:\n",
    "            print(\"C:\",C)\n",
    "            print(\"Gamma:\",gamma)\n",
    "            print(\"Degree:\",degree)\n",
    "            # Train model\n",
    "            param_str = f'-t 1 -d {degree} -c {C} -g {gamma}'\n",
    "            model = svm_train(Data_Y_train, Data_X_train, param_str)\n",
    "\n",
    "            # Evaluate model\n",
    "            _, accuracy, _ = svm_predict(Data_Y_val, Data_X_val, model)\n",
    "            if accuracy[0] > best_accuracy:\n",
    "                best_accuracy = accuracy[0]\n",
    "                best_params = {'C': C, 'gamma': gamma, 'degree': degree}\n",
    "            print('-----------------')\n",
    "\n",
    "print(f'Best Validation accuracy: {best_accuracy:.2f} with params: {best_params}')"
   ]
  },
  {
   "cell_type": "markdown",
   "id": "76ce03e7",
   "metadata": {},
   "source": [
    "#### Test accuracy with C ,gamma,degree after grid search"
   ]
  },
  {
   "cell_type": "code",
   "execution_count": 5,
   "id": "93151051",
   "metadata": {},
   "outputs": [],
   "source": [
    "best_C=best_params['C']\n",
    "best_gamma=best_params['gamma']\n",
    "best_degree=best_params['degree']\n",
    "param_str = f'-t 1 -d {best_degree} -c {best_C} -g {best_gamma} -e 1'\n",
    "model = svm_train(Data_Y_train, Data_X_train, param_str)"
   ]
  },
  {
   "cell_type": "code",
   "execution_count": 6,
   "id": "b3080009",
   "metadata": {},
   "outputs": [
    {
     "name": "stdout",
     "output_type": "stream",
     "text": [
      "Accuracy = 57.0933% (8564/15000) (classification)\n"
     ]
    }
   ],
   "source": [
    "_, accuracy, _ = svm_predict(Data_Y_test, Data_X_test, model)\n"
   ]
  },
  {
   "cell_type": "markdown",
   "id": "3eef3357",
   "metadata": {},
   "source": [
    "##### B)Without Slack(C=INF)"
   ]
  },
  {
   "cell_type": "code",
   "execution_count": 8,
   "id": "3b7b0cea",
   "metadata": {},
   "outputs": [],
   "source": [
    "c_val=1e6\n",
    "param_str = f'-t 1 -d 3 -c {c_val} -g 0.001 -e 1'\n",
    "model = svm_train(Data_Y_train, Data_X_train, param_str)"
   ]
  },
  {
   "cell_type": "code",
   "execution_count": 9,
   "id": "a60c4cd2",
   "metadata": {},
   "outputs": [
    {
     "name": "stdout",
     "output_type": "stream",
     "text": [
      "Accuracy = 56.5533% (8483/15000) (classification)\n"
     ]
    }
   ],
   "source": [
    "_, accuracy, _ = svm_predict(Data_Y_test, Data_X_test, model)"
   ]
  },
  {
   "cell_type": "markdown",
   "id": "e90e9bc0",
   "metadata": {},
   "source": [
    "### LINEAR KERNEL\n"
   ]
  },
  {
   "cell_type": "code",
   "execution_count": 22,
   "id": "a66a4389",
   "metadata": {},
   "outputs": [
    {
     "name": "stdout",
     "output_type": "stream",
     "text": [
      "c: 1e-06\n",
      "Accuracy = 19.835% (3967/20000) (classification)\n",
      "-----------------\n",
      "c: 1e-05\n",
      "Accuracy = 19.835% (3967/20000) (classification)\n",
      "-----------------\n",
      "c: 0.0001\n",
      "Accuracy = 57.345% (11469/20000) (classification)\n",
      "-----------------\n",
      "c: 0.001\n",
      "Accuracy = 56.715% (11343/20000) (classification)\n",
      "-----------------\n",
      "c: 0.01\n",
      "Accuracy = 56.445% (11289/20000) (classification)\n",
      "-----------------\n",
      "c: 0.1\n",
      "Accuracy = 56.435% (11287/20000) (classification)\n",
      "-----------------\n",
      "c: 1\n",
      "Accuracy = 56.435% (11287/20000) (classification)\n",
      "-----------------\n",
      "Best Validation accuracy: 57.34 with c: 0.0001\n"
     ]
    }
   ],
   "source": [
    "c_values = [1e-6,1e-5,1e-4,0.001,0.01,0.1,1]\n",
    "accuracy_list = []\n",
    "best_c=-1\n",
    "best_accuracy=-np.inf\n",
    "# perform grid search\n",
    "for c in c_values:\n",
    "    print(\"c:\",c)\n",
    "    param = f'-s 0 -t 0 -c {c}'\n",
    "    model = svm_train(Data_Y_train, Data_X_train,param)\n",
    "      # Evaluate model\n",
    "    _, accuracy, _ = svm_predict(Data_Y_val, Data_X_val,model)\n",
    "    accuracy_list.append(accuracy[0])\n",
    "    if accuracy[0] > best_accuracy:\n",
    "        best_accuracy = accuracy[0]\n",
    "        best_c=c\n",
    "    print('-----------------')\n",
    "\n",
    "\n",
    "print(f'Best Validation accuracy: {best_accuracy:.2f} with c: {best_c}')\n",
    "\n",
    "# train svm model\n",
    "param = f'-s 0 -t 0 -c {best_c}'\n",
    "prob = svm_problem(Data_Y_train, Data_X_train)\n",
    "model = svm_train(prob, param)\n",
    "\n"
   ]
  },
  {
   "cell_type": "markdown",
   "id": "666debc4",
   "metadata": {},
   "source": [
    "##### Grid search plot for linear kernel ('c' vs validation accuracy)"
   ]
  },
  {
   "cell_type": "code",
   "execution_count": 27,
   "id": "07127a04",
   "metadata": {},
   "outputs": [
    {
     "data": {
      "text/plain": [
       "[<matplotlib.lines.Line2D at 0x7f863a74bdc0>]"
      ]
     },
     "execution_count": 27,
     "metadata": {},
     "output_type": "execute_result"
    },
    {
     "data": {
      "image/png": "[encoded data removed]",
      "text/plain": [
       "<Figure size 720x360 with 1 Axes>"
      ]
     },
     "metadata": {
      "needs_background": "light"
     },
     "output_type": "display_data"
    }
   ],
   "source": [
    "fig = plt.figure(figsize = (10, 5))\n",
    "plt.xlabel('c')\n",
    "plt.ylabel('Accuracy')\n",
    "plt.plot(c_values[0:4],accuracy_list[0:4])\n",
    "#grid search plot for c is given below"
   ]
  },
  {
   "cell_type": "code",
   "execution_count": 16,
   "id": "16e2c439",
   "metadata": {},
   "outputs": [
    {
     "name": "stdout",
     "output_type": "stream",
     "text": [
      "Accuracy = 57.0333% (8555/15000) (classification)\n"
     ]
    }
   ],
   "source": [
    "_, accuracy, _ = svm_predict(Data_Y_test, Data_X_test, model)"
   ]
  },
  {
   "cell_type": "code",
   "execution_count": 8,
   "id": "8ab9ce09",
   "metadata": {},
   "outputs": [],
   "source": [
    "# train svm model\n",
    "c=1e2\n",
    "param = f'-s 0 -t 0 -c {c} -e 1'\n",
    "prob = svm_problem(Data_Y_train, Data_X_train)\n",
    "model = svm_train(prob, param)"
   ]
  },
  {
   "cell_type": "code",
   "execution_count": 9,
   "id": "4bbc10aa",
   "metadata": {},
   "outputs": [
    {
     "name": "stdout",
     "output_type": "stream",
     "text": [
      "Accuracy = 56.2133% (8432/15000) (classification)\n"
     ]
    }
   ],
   "source": [
    "_, accuracy, _ = svm_predict(Data_Y_test, Data_X_test, model)"
   ]
  },
  {
   "cell_type": "markdown",
   "id": "ed796f16",
   "metadata": {},
   "source": [
    "## *SVM with A1_p4 Data*"
   ]
  },
  {
   "cell_type": "code",
   "execution_count": 1,
   "id": "48b5bcdf",
   "metadata": {},
   "outputs": [],
   "source": [
    "import numpy as np\n",
    "from libsvm.svmutil import *\n",
    "from matplotlib import pyplot as plt"
   ]
  },
  {
   "cell_type": "code",
   "execution_count": 2,
   "id": "c185aa2f",
   "metadata": {},
   "outputs": [],
   "source": [
    "def minmaxNormalize(X):\n",
    "    X_norm = X\n",
    "    for i in range(1,X.shape[1]):\n",
    "        if np.max(X[:,i]) != np.min(X[:,i]):\n",
    "            X_norm[:,i] = (X[:,i] - np.min(X[:,i])) / (np.max(X[:,i]) - np.min(X[:,i]))\n",
    "#         elif np.max(X[:,i] == np.min(X[:,i])):\n",
    "#             X_norm[:,i] = np.ones(X_norm[:,i].shape)\n",
    "    return X_norm"
   ]
  },
  {
   "cell_type": "code",
   "execution_count": 20,
   "id": "9e83a465",
   "metadata": {},
   "outputs": [],
   "source": [
    "def get_train_test_split(csv_file,test_percent):\n",
    "    \n",
    "    with open(csv_file, 'r') as f:\n",
    "        results = []\n",
    "        next(f)\n",
    "        for line in f:\n",
    "            words = line.split(',')\n",
    "            for i in range(len(words)):\n",
    "                words[i] = float(words[i])\n",
    "            results.append(words)\n",
    "    Data_f = np.array(results[0:30000])   \n",
    "    Data=minmaxNormalize(Data_f)\n",
    "    val_size = test_percent/100\n",
    "    # calculate the number of validation data rows\n",
    "    val_rows = int(val_size * Data.shape[0])\n",
    "\n",
    "\n",
    "    # split the data into train and validation sets\n",
    "    Data_train = Data[val_rows:]\n",
    "    Data_train=np.array(Data_train)\n",
    "    Data_Y_train = Data_train[:,0].astype(int)\n",
    "    Data_X_train = np.delete(Data_train, 0, axis = 1)\n",
    "    #\n",
    "    Data_test = Data[:val_rows]\n",
    "    Data_test=np.array(Data_test)\n",
    "    Data_Y_test = Data_test[:,0].astype(int)\n",
    "    Data_X_test = np.delete(Data_test, 0, axis = 1)\n",
    "    return Data_X_train,Data_Y_train,Data_X_test,Data_Y_test\n",
    "    "
   ]
  },
  {
   "cell_type": "code",
   "execution_count": 21,
   "id": "a150b56e",
   "metadata": {},
   "outputs": [],
   "source": [
    "Data_X_train_val,Data_Y_train_val,Data_X_test,Data_Y_test=get_train_test_split('p4_train.csv',30)"
   ]
  },
  {
   "cell_type": "code",
   "execution_count": 22,
   "id": "92135470",
   "metadata": {},
   "outputs": [],
   "source": [
    "val_size = 0.2\n",
    "# calculate the number of validation data rows\n",
    "val_rows = int(val_size * Data_X_train_val.shape[0])\n",
    "\n",
    "# split the data into train and validation sets\n",
    "\n",
    "Data_Y_train = Data_Y_train_val[val_rows:]\n",
    "Data_X_train = Data_X_train_val[val_rows:]\n",
    "\n",
    "Data_Y_val = Data_Y_train_val[:val_rows]\n",
    "Data_X_val = Data_X_train_val[:val_rows]"
   ]
  },
  {
   "cell_type": "code",
   "execution_count": 23,
   "id": "cca6b4e4",
   "metadata": {},
   "outputs": [
    {
     "name": "stdout",
     "output_type": "stream",
     "text": [
      "(16800, 784)\n",
      "(4200, 784)\n",
      "(16800,)\n",
      "(4200,)\n",
      "(9000, 784)\n",
      "(9000,)\n"
     ]
    }
   ],
   "source": [
    "print(Data_X_train.shape)\n",
    "print(Data_X_val.shape)\n",
    "print(Data_Y_train.shape)\n",
    "print(Data_Y_val.shape)\n",
    "print(Data_X_test.shape)\n",
    "print(Data_Y_test.shape)"
   ]
  },
  {
   "cell_type": "code",
   "execution_count": 7,
   "id": "7d1ccfad",
   "metadata": {},
   "outputs": [],
   "source": [
    "def create_onevsrest(Data_train):\n",
    "    labels = np.unique(Data_train[:,10].astype(int))\n",
    "    X_train={x: [] for x in labels}\n",
    "    Y_train={x: [] for x in labels}\n",
    "    ovr_data = []\n",
    "    for i in range(1,len(labels)+1):\n",
    "        for j in range(len(Data_train)):\n",
    "            X_train[i].append(Data_train[j][0:10])\n",
    "            if int(Data_train[j][10])!=i:\n",
    "                Y_train[i].append(-1)\n",
    "            else:\n",
    "                Y_train[i].append(1)\n",
    "                \n",
    "    for i in range(1,len(labels)+1):\n",
    "        X_train[i]=np.array(X_train[i])\n",
    "        Y_train[i]=np.array(Y_train[i])\n",
    "        Y_train[i].reshape((Y_train[i].shape[0],1))\n",
    "    \n",
    "    return X_train,Y_train\n"
   ]
  },
  {
   "cell_type": "code",
   "execution_count": null,
   "id": "c735e1db",
   "metadata": {},
   "outputs": [],
   "source": [
    "def get_models(data_ovr_X_train,data_ovr_Y_train,param_str,classes):\n",
    "    prob  = svm_problem(data_ovr_Y_train, data_ovr_X_train)\n",
    "    param = svm_parameter(param_str)\n",
    "    m = svm_train(prob, param,'-e 1')\n",
    "    return m      "
   ]
  },
  {
   "cell_type": "code",
   "execution_count": null,
   "id": "4d9eff5d",
   "metadata": {},
   "outputs": [],
   "source": [
    "def testSVM(Data_X_t,Data_Y_t,noofclasses,models):\n",
    "    Pred_Y_test,_,_=svm_predict(Data_Y_t, Data_X_t, models, '-b 1')\n",
    "    correct_count=0\n",
    "    for i in range(len(Data_X_t)):\n",
    "        if Pred_Y_test[i]==Data_Y_t[i]:\n",
    "            correct_count+=1\n",
    "    return correct_count/len(Data_X_t)"
   ]
  },
  {
   "cell_type": "markdown",
   "id": "fb0b0377",
   "metadata": {},
   "source": [
    "### Gaussian Kernel"
   ]
  },
  {
   "cell_type": "markdown",
   "id": "f2d9220a",
   "metadata": {},
   "source": [
    "###### A)With Slack"
   ]
  },
  {
   "cell_type": "code",
   "execution_count": 10,
   "id": "130586ec",
   "metadata": {},
   "outputs": [
    {
     "name": "stdout",
     "output_type": "stream",
     "text": [
      "C: 1 Gamma: 0.1\n",
      "Accuracy = 93.8333% (3941/4200) (classification)\n",
      "C: 1 Gamma: 0.30000000000000004\n",
      "Accuracy = 63.0476% (2648/4200) (classification)\n",
      "C: 1 Gamma: 0.5000000000000001\n",
      "Accuracy = 32.881% (1381/4200) (classification)\n",
      "C: 1 Gamma: 0.7000000000000001\n",
      "Accuracy = 11.1667% (469/4200) (classification)\n",
      "C: 1 Gamma: 0.9000000000000001\n",
      "Accuracy = 10.2619% (431/4200) (classification)\n",
      "C: 3 Gamma: 0.1\n",
      "Accuracy = 93.9048% (3944/4200) (classification)\n",
      "C: 3 Gamma: 0.30000000000000004\n",
      "Accuracy = 64.9286% (2727/4200) (classification)\n",
      "C: 3 Gamma: 0.5000000000000001\n",
      "Accuracy = 36.2381% (1522/4200) (classification)\n",
      "C: 3 Gamma: 0.7000000000000001\n",
      "Accuracy = 15.8095% (664/4200) (classification)\n",
      "C: 3 Gamma: 0.9000000000000001\n",
      "Accuracy = 10.2619% (431/4200) (classification)\n",
      "C: 5 Gamma: 0.1\n",
      "Accuracy = 93.9524% (3946/4200) (classification)\n",
      "C: 5 Gamma: 0.30000000000000004\n",
      "Accuracy = 64.3333% (2702/4200) (classification)\n",
      "C: 5 Gamma: 0.5000000000000001\n",
      "Accuracy = 35.1905% (1478/4200) (classification)\n",
      "C: 5 Gamma: 0.7000000000000001\n",
      "Accuracy = 15.0952% (634/4200) (classification)\n",
      "C: 5 Gamma: 0.9000000000000001\n",
      "Accuracy = 10.2381% (430/4200) (classification)\n",
      "C: 7 Gamma: 0.1\n",
      "Accuracy = 93.9048% (3944/4200) (classification)\n",
      "C: 7 Gamma: 0.30000000000000004\n",
      "Accuracy = 65.7381% (2761/4200) (classification)\n",
      "C: 7 Gamma: 0.5000000000000001\n",
      "Accuracy = 38.0238% (1597/4200) (classification)\n",
      "C: 7 Gamma: 0.7000000000000001\n",
      "Accuracy = 12.6905% (533/4200) (classification)\n",
      "C: 7 Gamma: 0.9000000000000001\n",
      "Accuracy = 10.2381% (430/4200) (classification)\n",
      "C: 9 Gamma: 0.1\n",
      "Accuracy = 93.9286% (3945/4200) (classification)\n",
      "C: 9 Gamma: 0.30000000000000004\n",
      "Accuracy = 64.9762% (2729/4200) (classification)\n",
      "C: 9 Gamma: 0.5000000000000001\n",
      "Accuracy = 34.2619% (1439/4200) (classification)\n",
      "C: 9 Gamma: 0.7000000000000001\n",
      "Accuracy = 11.881% (499/4200) (classification)\n",
      "C: 9 Gamma: 0.9000000000000001\n",
      "Accuracy = 9.42857% (396/4200) (classification)\n",
      "Best parameters: C=5, gamma=0.1\n",
      "Best validation accuracy: 93.95%\n"
     ]
    }
   ],
   "source": [
    "C_range = np.arange(1, 10, 2)\n",
    "gamma_range = np.arange(0.1,1, 0.2)\n",
    "\n",
    "best_acc = 0\n",
    "best_C = 0\n",
    "best_gamma = 0\n",
    "accuracies=np.zeros((5,5))\n",
    "i=-1\n",
    "j=-1\n",
    "# Loop over all combinations of C and gamma\n",
    "for C in C_range:\n",
    "    i+=1\n",
    "    j=-1\n",
    "    for gamma in gamma_range:\n",
    "        j+=1\n",
    "        print(\"C:\",C,end=' ')\n",
    "        print(\"Gamma:\",gamma)\n",
    "        # Train an SVM model on the training data\n",
    "        param_str = f'-t 2 -c {C} -g {gamma} -b 1'\n",
    "        prob = svm_parameter(param_str)\n",
    "        model= get_models(Data_X_train,Data_Y_train,param_str,5)\n",
    "\n",
    "        # Test the model on the validation data\n",
    "        acc = testSVM(Data_X_val,Data_Y_val,5, model)\n",
    "        if acc > best_acc:\n",
    "            best_acc = acc\n",
    "            best_C = C\n",
    "            best_gamma = gamma\n",
    "        accuracies[i][j]=acc\n",
    "        \n",
    "\n",
    "# Print the best parameters and accuracy found\n",
    "print(f\"Best parameters: C={best_C}, gamma={best_gamma}\")\n",
    "print(f\"Best validation accuracy: {best_acc:.2%}\")"
   ]
  },
  {
   "cell_type": "code",
   "execution_count": 90,
   "id": "a23fe8e6",
   "metadata": {},
   "outputs": [
    {
     "name": "stdout",
     "output_type": "stream",
     "text": [
      "C: 1 Gamma: 0.05\n",
      "Accuracy = 95.2381% (4000/4200) (classification)\n",
      "C: 1 Gamma: 0.07\n",
      "Accuracy = 94.8571% (3984/4200) (classification)\n",
      "C: 1 Gamma: 0.09000000000000001\n",
      "Accuracy = 94.381% (3964/4200) (classification)\n",
      "C: 1 Gamma: 0.11000000000000001\n",
      "Accuracy = 93.3333% (3920/4200) (classification)\n",
      "C: 1 Gamma: 0.13\n",
      "Accuracy = 91.9524% (3862/4200) (classification)\n",
      "C: 3 Gamma: 0.05\n",
      "Accuracy = 95.3333% (4004/4200) (classification)\n",
      "C: 3 Gamma: 0.07\n",
      "Accuracy = 94.881% (3985/4200) (classification)\n",
      "C: 3 Gamma: 0.09000000000000001\n",
      "Accuracy = 94.4048% (3965/4200) (classification)\n",
      "C: 3 Gamma: 0.11000000000000001\n",
      "Accuracy = 93.5238% (3928/4200) (classification)\n",
      "C: 3 Gamma: 0.13\n",
      "Accuracy = 92.0476% (3866/4200) (classification)\n",
      "C: 5 Gamma: 0.05\n",
      "Accuracy = 95.3095% (4003/4200) (classification)\n",
      "C: 5 Gamma: 0.07\n",
      "Accuracy = 94.9048% (3986/4200) (classification)\n",
      "C: 5 Gamma: 0.09000000000000001\n",
      "Accuracy = 94.4048% (3965/4200) (classification)\n",
      "C: 5 Gamma: 0.11000000000000001\n",
      "Accuracy = 93.5238% (3928/4200) (classification)\n",
      "C: 5 Gamma: 0.13\n",
      "Accuracy = 92.1429% (3870/4200) (classification)\n",
      "C: 7 Gamma: 0.05\n",
      "Accuracy = 95.2857% (4002/4200) (classification)\n",
      "C: 7 Gamma: 0.07\n",
      "Accuracy = 94.881% (3985/4200) (classification)\n",
      "C: 7 Gamma: 0.09000000000000001\n",
      "Accuracy = 94.4048% (3965/4200) (classification)\n",
      "C: 7 Gamma: 0.11000000000000001\n",
      "Accuracy = 93.5476% (3929/4200) (classification)\n",
      "C: 7 Gamma: 0.13\n",
      "Accuracy = 92.1905% (3872/4200) (classification)\n",
      "C: 9 Gamma: 0.05\n",
      "Accuracy = 95.3571% (4005/4200) (classification)\n",
      "C: 9 Gamma: 0.07\n",
      "Accuracy = 94.881% (3985/4200) (classification)\n",
      "C: 9 Gamma: 0.09000000000000001\n",
      "Accuracy = 94.4524% (3967/4200) (classification)\n",
      "C: 9 Gamma: 0.11000000000000001\n",
      "Accuracy = 93.5476% (3929/4200) (classification)\n",
      "C: 9 Gamma: 0.13\n",
      "Accuracy = 92.119% (3869/4200) (classification)\n",
      "Best parameters: C=9, gamma=0.05\n",
      "Best validation accuracy: 95.36%\n"
     ]
    }
   ],
   "source": [
    "C_range = np.arange(1, 10, 2)\n",
    "gamma_range = np.arange(0.05,0.15, 0.02)\n",
    "\n",
    "best_acc = 0\n",
    "best_C = 0\n",
    "best_gamma = 0\n",
    "accuracies=np.zeros((5,5))\n",
    "i=-1\n",
    "j=-1\n",
    "# Loop over all combinations of C and gamma\n",
    "for C in C_range:\n",
    "    i+=1\n",
    "    j=-1\n",
    "    for gamma in gamma_range:\n",
    "        j+=1\n",
    "        print(\"C:\",C,end=' ')\n",
    "        print(\"Gamma:\",gamma)\n",
    "        # Train an SVM model on the training data\n",
    "        param_str = f'-t 2 -c {C} -g {gamma} -b 1'\n",
    "        prob = svm_parameter(param_str)\n",
    "        model= get_models(Data_X_train,Data_Y_train,param_str,5)\n",
    "\n",
    "        # Test the model on the validation data\n",
    "        acc = testSVM(Data_X_val,Data_Y_val,5, model)\n",
    "        if acc > best_acc:\n",
    "            best_acc = acc\n",
    "            best_C = C\n",
    "            best_gamma = gamma\n",
    "        accuracies[i][j]=acc \n",
    "        \n",
    "\n",
    "# Print the best parameters and accuracy found\n",
    "print(f\"Best parameters: C={best_C}, gamma={best_gamma}\")\n",
    "print(f\"Best validation accuracy: {best_acc:.2%}\")"
   ]
  },
  {
   "cell_type": "markdown",
   "id": "f467fa8a",
   "metadata": {},
   "source": [
    "##### Grid search plot for gaussian kernel ('c' and 'gamma' vs validation accuracy)"
   ]
  },
  {
   "cell_type": "code",
   "execution_count": 97,
   "id": "81e019f5",
   "metadata": {},
   "outputs": [
    {
     "data": {
      "image/png": "[encoded data removed]",
      "text/plain": [
       "<Figure size 720x720 with 1 Axes>"
      ]
     },
     "metadata": {
      "needs_background": "light"
     },
     "output_type": "display_data"
    }
   ],
   "source": [
    "import matplotlib.pyplot as plt\n",
    "from mpl_toolkits.mplot3d import Axes3D\n",
    "import numpy as np\n",
    "\n",
    "# create 3D axes\n",
    "fig = plt.figure(figsize=(10, 10))\n",
    "ax = fig.add_subplot(111, projection='3d')\n",
    "\n",
    "# create data for surface plot\n",
    "X = C_range\n",
    "Y = gamma_range\n",
    "X, Y = np.meshgrid(X, Y)\n",
    "\n",
    "Z = accuracies\n",
    "\n",
    "# plot surface\n",
    "ax.plot_surface(X, Y, Z, cmap='coolwarm')\n",
    "\n",
    "# set labels and title\n",
    "ax.set_xlabel('c')\n",
    "ax.set_ylabel('gamma')\n",
    "ax.set_zlabel('Validation accuracy')\n",
    "ax.set_title('3D Surface Plot')\n",
    "\n",
    "ax.view_init(elev=0, azim=-40)\n",
    "# show plot\n",
    "plt.show()"
   ]
  },
  {
   "cell_type": "markdown",
   "id": "77e5baa9",
   "metadata": {},
   "source": [
    "###### Test accuracy with C and gamma after grid search"
   ]
  },
  {
   "cell_type": "code",
   "execution_count": 98,
   "id": "6c9a75fe",
   "metadata": {},
   "outputs": [],
   "source": [
    "param_str = f'-t 2 -c {best_C} -g {best_gamma} -b 1'\n",
    "prob = svm_parameter(param_str)\n",
    "model = get_models(Data_X_train,Data_Y_train,param_str,5)"
   ]
  },
  {
   "cell_type": "code",
   "execution_count": 99,
   "id": "30616d5c",
   "metadata": {},
   "outputs": [
    {
     "name": "stdout",
     "output_type": "stream",
     "text": [
      "Accuracy = 93.4667% (8412/9000) (classification)\n"
     ]
    }
   ],
   "source": [
    "acc = testSVM(Data_X_test,Data_Y_test,5, model)"
   ]
  },
  {
   "cell_type": "markdown",
   "id": "73a81bed",
   "metadata": {},
   "source": [
    "##### B)Without Slack(C=INF)"
   ]
  },
  {
   "cell_type": "code",
   "execution_count": 103,
   "id": "dd1ae97b",
   "metadata": {},
   "outputs": [],
   "source": [
    "c_value=np.inf"
   ]
  },
  {
   "cell_type": "code",
   "execution_count": 111,
   "id": "41fe0cd8",
   "metadata": {},
   "outputs": [],
   "source": [
    "param_str = f'-t 2 -c {c_value} -g {best_gamma} -b 1'\n",
    "prob = svm_problem(Data_Y_train,Data_X_train)\n",
    "param = svm_parameter(param_str)\n",
    "model = svm_train(prob,param,'-e 1')"
   ]
  },
  {
   "cell_type": "code",
   "execution_count": 112,
   "id": "61f82861",
   "metadata": {},
   "outputs": [
    {
     "name": "stdout",
     "output_type": "stream",
     "text": [
      "Accuracy = 93.4778% (8413/9000) (classification)\n"
     ]
    }
   ],
   "source": [
    "acc = testSVM(Data_X_test,Data_Y_test,5, model)"
   ]
  },
  {
   "cell_type": "markdown",
   "id": "89fc8de6",
   "metadata": {},
   "source": [
    "### POLYNOMIAL KERNEL"
   ]
  },
  {
   "cell_type": "code",
   "execution_count": 77,
   "id": "6d6454bc",
   "metadata": {},
   "outputs": [
    {
     "name": "stdout",
     "output_type": "stream",
     "text": [
      "C: 0.1\n",
      "Gamma: 0.001\n",
      "Degree: 2\n",
      "Accuracy = 45.9762% (1931/4200) (classification)\n",
      "-----------------\n",
      "C: 1\n",
      "Gamma: 0.001\n",
      "Degree: 2\n",
      "Accuracy = 65% (2730/4200) (classification)\n",
      "-----------------\n",
      "C: 10\n",
      "Gamma: 0.001\n",
      "Degree: 2\n",
      "Accuracy = 88.881% (3733/4200) (classification)\n",
      "-----------------\n",
      "C: 0.1\n",
      "Gamma: 0.01\n",
      "Degree: 2\n",
      "Accuracy = 88.881% (3733/4200) (classification)\n",
      "-----------------\n",
      "C: 1\n",
      "Gamma: 0.01\n",
      "Degree: 2\n",
      "Accuracy = 93.881% (3943/4200) (classification)\n",
      "-----------------\n",
      "C: 10\n",
      "Gamma: 0.01\n",
      "Degree: 2\n",
      "Accuracy = 94.8095% (3982/4200) (classification)\n",
      "-----------------\n",
      "C: 0.1\n",
      "Gamma: 0.1\n",
      "Degree: 2\n",
      "Accuracy = 94.8095% (3982/4200) (classification)\n",
      "-----------------\n",
      "C: 1\n",
      "Gamma: 0.1\n",
      "Degree: 2\n",
      "Accuracy = 94.9762% (3989/4200) (classification)\n",
      "-----------------\n",
      "C: 10\n",
      "Gamma: 0.1\n",
      "Degree: 2\n",
      "Accuracy = 95% (3990/4200) (classification)\n",
      "-----------------\n",
      "C: 0.1\n",
      "Gamma: 1\n",
      "Degree: 2\n",
      "Accuracy = 95% (3990/4200) (classification)\n",
      "-----------------\n",
      "C: 1\n",
      "Gamma: 1\n",
      "Degree: 2\n",
      "Accuracy = 95% (3990/4200) (classification)\n",
      "-----------------\n",
      "C: 10\n",
      "Gamma: 1\n",
      "Degree: 2\n",
      "Accuracy = 95% (3990/4200) (classification)\n",
      "-----------------\n",
      "C: 0.1\n",
      "Gamma: 0.001\n",
      "Degree: 3\n",
      "Accuracy = 22.881% (961/4200) (classification)\n",
      "-----------------\n",
      "C: 1\n",
      "Gamma: 0.001\n",
      "Degree: 3\n",
      "Accuracy = 22.881% (961/4200) (classification)\n",
      "-----------------\n",
      "C: 10\n",
      "Gamma: 0.001\n",
      "Degree: 3\n",
      "Accuracy = 25.8333% (1085/4200) (classification)\n",
      "-----------------\n",
      "C: 0.1\n",
      "Gamma: 0.01\n",
      "Degree: 3\n",
      "Accuracy = 76.6905% (3221/4200) (classification)\n",
      "-----------------\n",
      "C: 1\n",
      "Gamma: 0.01\n",
      "Degree: 3\n",
      "Accuracy = 90.9762% (3821/4200) (classification)\n",
      "-----------------\n",
      "C: 10\n",
      "Gamma: 0.01\n",
      "Degree: 3\n",
      "Accuracy = 94.0476% (3950/4200) (classification)\n",
      "-----------------\n",
      "C: 0.1\n",
      "Gamma: 0.1\n",
      "Degree: 3\n",
      "Accuracy = 94.3333% (3962/4200) (classification)\n",
      "-----------------\n",
      "C: 1\n",
      "Gamma: 0.1\n",
      "Degree: 3\n",
      "Accuracy = 94.4048% (3965/4200) (classification)\n",
      "-----------------\n",
      "C: 10\n",
      "Gamma: 0.1\n",
      "Degree: 3\n",
      "Accuracy = 94.4048% (3965/4200) (classification)\n",
      "-----------------\n",
      "C: 0.1\n",
      "Gamma: 1\n",
      "Degree: 3\n",
      "Accuracy = 94.4048% (3965/4200) (classification)\n",
      "-----------------\n",
      "C: 1\n",
      "Gamma: 1\n",
      "Degree: 3\n",
      "Accuracy = 94.4048% (3965/4200) (classification)\n",
      "-----------------\n",
      "C: 10\n",
      "Gamma: 1\n",
      "Degree: 3\n",
      "Accuracy = 94.4048% (3965/4200) (classification)\n",
      "-----------------\n",
      "C: 0.1\n",
      "Gamma: 0.001\n",
      "Degree: 4\n",
      "Accuracy = 14.4762% (608/4200) (classification)\n",
      "-----------------\n",
      "C: 1\n",
      "Gamma: 0.001\n",
      "Degree: 4\n",
      "Accuracy = 14.4762% (608/4200) (classification)\n",
      "-----------------\n",
      "C: 10\n",
      "Gamma: 0.001\n",
      "Degree: 4\n",
      "Accuracy = 14.4762% (608/4200) (classification)\n",
      "-----------------\n",
      "C: 0.1\n",
      "Gamma: 0.01\n",
      "Degree: 4\n",
      "Accuracy = 39.1429% (1644/4200) (classification)\n",
      "-----------------\n",
      "C: 1\n",
      "Gamma: 0.01\n",
      "Degree: 4\n",
      "Accuracy = 81.2619% (3413/4200) (classification)\n",
      "-----------------\n",
      "C: 10\n",
      "Gamma: 0.01\n",
      "Degree: 4\n",
      "Accuracy = 90.9286% (3819/4200) (classification)\n",
      "-----------------\n",
      "C: 0.1\n",
      "Gamma: 0.1\n",
      "Degree: 4\n",
      "Accuracy = 93.119% (3911/4200) (classification)\n",
      "-----------------\n",
      "C: 1\n",
      "Gamma: 0.1\n",
      "Degree: 4\n",
      "Accuracy = 93.0714% (3909/4200) (classification)\n",
      "-----------------\n",
      "C: 10\n",
      "Gamma: 0.1\n",
      "Degree: 4\n",
      "Accuracy = 93.0714% (3909/4200) (classification)\n",
      "-----------------\n",
      "C: 0.1\n",
      "Gamma: 1\n",
      "Degree: 4\n",
      "Accuracy = 93.0714% (3909/4200) (classification)\n",
      "-----------------\n",
      "C: 1\n",
      "Gamma: 1\n",
      "Degree: 4\n",
      "Accuracy = 93.0714% (3909/4200) (classification)\n",
      "-----------------\n",
      "C: 10\n",
      "Gamma: 1\n",
      "Degree: 4\n",
      "Accuracy = 93.0714% (3909/4200) (classification)\n",
      "-----------------\n",
      "Best Validation accuracy: 95.00 with params: {'C': 10, 'gamma': 0.1, 'degree': 2}\n"
     ]
    }
   ],
   "source": [
    "C_range = [0.1, 1, 10]\n",
    "gamma_range = [0.001, 0.01, 0.1, 1]\n",
    "degree_range = [2, 3, 4]\n",
    "\n",
    "# Perform grid search\n",
    "best_accuracy = 0\n",
    "for degree in degree_range:\n",
    "    for gamma in gamma_range:\n",
    "        for C in C_range:\n",
    "            print(\"C:\",C)\n",
    "            print(\"Gamma:\",gamma)\n",
    "            print(\"Degree:\",degree)\n",
    "            # Train model\n",
    "            param_str = f'-t 1 -d {degree} -c {C} -g {gamma}'\n",
    "            model = svm_train(Data_Y_train, Data_X_train, param_str)\n",
    "\n",
    "            # Evaluate model\n",
    "            _, accuracy, _ = svm_predict(Data_Y_val, Data_X_val, model)\n",
    "            if accuracy[0] > best_accuracy:\n",
    "                best_accuracy = accuracy[0]\n",
    "                best_params = {'C': C, 'gamma': gamma, 'degree': degree}\n",
    "            print('-----------------')\n",
    "\n",
    "print(f'Best Validation accuracy: {best_accuracy:.2f} with params: {best_params}')"
   ]
  },
  {
   "cell_type": "markdown",
   "id": "22a8ed57",
   "metadata": {},
   "source": [
    "###### Test accuracy with C ,gamma,degree after grid search"
   ]
  },
  {
   "cell_type": "code",
   "execution_count": 59,
   "id": "72c9b0be",
   "metadata": {},
   "outputs": [],
   "source": [
    "best_C=best_params['C']\n",
    "best_gamma=best_params['gamma']\n",
    "best_degree=best_params['degree']\n",
    "param_str = f'-t 1 -d {best_degree} -c {best_C} -g {best_gamma}'\n",
    "model = svm_train(Data_Y_train, Data_X_train, param_str)"
   ]
  },
  {
   "cell_type": "code",
   "execution_count": 60,
   "id": "b90a0999",
   "metadata": {},
   "outputs": [
    {
     "name": "stdout",
     "output_type": "stream",
     "text": [
      "Accuracy = 92.6222% (8336/9000) (classification)\n"
     ]
    }
   ],
   "source": [
    "_, accuracy, _ = svm_predict(Data_Y_test, Data_X_test, model)"
   ]
  },
  {
   "cell_type": "markdown",
   "id": "591eed36",
   "metadata": {},
   "source": [
    "##### B)Without Slack(C=INF)"
   ]
  },
  {
   "cell_type": "code",
   "execution_count": 78,
   "id": "9472a27a",
   "metadata": {},
   "outputs": [],
   "source": [
    "c_val=np.inf\n",
    "best_gamma=best_params['gamma']\n",
    "best_degree=best_params['degree']\n",
    "param_str = f'-t 1 -d 3 -c {c_val} -g 0.001'\n",
    "model = svm_train(Data_Y_train, Data_X_train, param_str)"
   ]
  },
  {
   "cell_type": "code",
   "execution_count": 79,
   "id": "21a0a443",
   "metadata": {},
   "outputs": [
    {
     "name": "stdout",
     "output_type": "stream",
     "text": [
      "Accuracy = 91.8111% (8263/9000) (classification)\n"
     ]
    }
   ],
   "source": [
    "_, accuracy, _ = svm_predict(Data_Y_test, Data_X_test, model)"
   ]
  },
  {
   "cell_type": "markdown",
   "id": "9b279678",
   "metadata": {},
   "source": [
    "### Linear kernel"
   ]
  },
  {
   "cell_type": "code",
   "execution_count": 136,
   "id": "3561fa56",
   "metadata": {},
   "outputs": [
    {
     "name": "stdout",
     "output_type": "stream",
     "text": [
      "c: 0.001\n",
      "Accuracy = 91.7381% (3853/4200) (classification)\n",
      "-----------------\n",
      "c: 0.01\n",
      "Accuracy = 93.2381% (3916/4200) (classification)\n",
      "-----------------\n",
      "c: 0.1\n",
      "Accuracy = 92.9524% (3904/4200) (classification)\n",
      "-----------------\n",
      "c: 1\n",
      "Accuracy = 92.9048% (3902/4200) (classification)\n",
      "-----------------\n",
      "c: 3\n",
      "Accuracy = 92.7857% (3897/4200) (classification)\n",
      "-----------------\n",
      "c: 5\n",
      "Accuracy = 92.6905% (3893/4200) (classification)\n",
      "-----------------\n",
      "Best Validation accuracy: 93.24 with c: 0.01\n"
     ]
    }
   ],
   "source": [
    "c_values = [0.001,0.01,0.1,1,3,5]\n",
    "accuracy_list = []\n",
    "best_c=-1\n",
    "best_accuracy=-np.inf\n",
    "# perform grid search\n",
    "for c in c_values:\n",
    "    print(\"c:\",c)\n",
    "    param = f'-s 0 -t 0 -c {c}'\n",
    "    model = svm_train(Data_Y_train, Data_X_train,param)\n",
    "      # Evaluate model\n",
    "    _, accuracy, _ = svm_predict(Data_Y_val, Data_X_val,model)\n",
    "    accuracy_list.append(accuracy[0])\n",
    "    if accuracy[0] > best_accuracy:\n",
    "        best_accuracy = accuracy[0]\n",
    "        best_c=c\n",
    "    print('-----------------')\n",
    "\n",
    "\n",
    "print(f'Best Validation accuracy: {best_accuracy:.2f} with c: {best_c}')\n",
    "\n",
    "# train svm model\n",
    "param = f'-s 0 -t 0 -c {best_c}'\n",
    "prob = svm_problem(Data_Y_train, Data_X_train)\n",
    "model = svm_train(prob, param)"
   ]
  },
  {
   "cell_type": "markdown",
   "id": "2c905dba",
   "metadata": {},
   "source": [
    "##### Grid search plot for linear kernel ('c' vs validation accuracy)"
   ]
  },
  {
   "cell_type": "code",
   "execution_count": 146,
   "id": "6c0dc271",
   "metadata": {},
   "outputs": [
    {
     "data": {
      "text/plain": [
       "[<matplotlib.lines.Line2D at 0x7fc2e18130d0>]"
      ]
     },
     "execution_count": 146,
     "metadata": {},
     "output_type": "execute_result"
    },
    {
     "data": {
      "image/png": "[encoded data removed]",
      "text/plain": [
       "<Figure size 720x360 with 1 Axes>"
      ]
     },
     "metadata": {
      "needs_background": "light"
     },
     "output_type": "display_data"
    }
   ],
   "source": [
    "fig = plt.figure(figsize = (10, 5))\n",
    "plt.xlabel('c')\n",
    "plt.ylabel('Accuracy')\n",
    "plt.plot(c_values,accuracy_list)"
   ]
  },
  {
   "cell_type": "markdown",
   "id": "d3cc1a07",
   "metadata": {},
   "source": [
    "##### Test accuracy with C after grid search "
   ]
  },
  {
   "cell_type": "code",
   "execution_count": 138,
   "id": "eafcc214",
   "metadata": {},
   "outputs": [
    {
     "name": "stdout",
     "output_type": "stream",
     "text": [
      "Accuracy = 91.4778% (8233/9000) (classification)\n"
     ]
    }
   ],
   "source": [
    "_, accuracy, _ = svm_predict(Data_Y_test, Data_X_test, model)"
   ]
  },
  {
   "cell_type": "markdown",
   "id": "19b10c51",
   "metadata": {},
   "source": [
    "###### B)Without Slack(C=INF)"
   ]
  },
  {
   "cell_type": "code",
   "execution_count": 139,
   "id": "c1d72976",
   "metadata": {},
   "outputs": [],
   "source": [
    "# train svm model\n",
    "c=np.inf\n",
    "param = f'-s 0 -t 0 -c {c}'\n",
    "prob = svm_problem(Data_Y_train, Data_X_train)\n",
    "model = svm_train(prob, param)"
   ]
  },
  {
   "cell_type": "code",
   "execution_count": 140,
   "id": "26f73a65",
   "metadata": {},
   "outputs": [
    {
     "name": "stdout",
     "output_type": "stream",
     "text": [
      "Accuracy = 90.4778% (8143/9000) (classification)\n"
     ]
    }
   ],
   "source": [
    "_, accuracy, _ = svm_predict(Data_Y_test, Data_X_test, model)"
   ]
  },
  {
   "cell_type": "markdown",
   "id": "d79cdb37",
   "metadata": {},
   "source": [
    "## *SVM with A1_p5 Data*"
   ]
  },
  {
   "cell_type": "code",
   "execution_count": 9,
   "id": "1b9f0359",
   "metadata": {},
   "outputs": [],
   "source": [
    "import numpy as np\n",
    "from libsvm.svmutil import *\n",
    "from matplotlib import pyplot as plt"
   ]
  },
  {
   "cell_type": "code",
   "execution_count": 10,
   "id": "717e8ab4",
   "metadata": {},
   "outputs": [],
   "source": [
    "def minmaxNormalize(X):\n",
    "    X_norm = X\n",
    "    for i in range(1,X.shape[1]):\n",
    "        if np.max(X[:,i]) != np.min(X[:,i]):\n",
    "            X_norm[:,i] = (X[:,i] - np.min(X[:,i])) / (np.max(X[:,i]) - np.min(X[:,i]))\n",
    "#         elif np.max(X[:,i] == np.min(X[:,i])):\n",
    "#             X_norm[:,i] = np.ones(X_norm[:,i].shape)\n",
    "    return X_norm"
   ]
  },
  {
   "cell_type": "code",
   "execution_count": 11,
   "id": "d8f497f3",
   "metadata": {},
   "outputs": [],
   "source": [
    "def get_train_test_split(csv_file,test_percent):\n",
    "    \n",
    "    with open(csv_file, 'r') as f:\n",
    "        results = []\n",
    "        next(f)\n",
    "        for line in f:\n",
    "            words = line.split(',')\n",
    "            for i in range(len(words)):\n",
    "                words[i] = float(words[i])\n",
    "            results.append(words)\n",
    "    Data_f = np.array(results[0:30000])   \n",
    "    Data=minmaxNormalize(Data_f)\n",
    "    val_size = test_percent/100\n",
    "    # calculate the number of validation data rows\n",
    "    val_rows = int(val_size * Data.shape[0])\n",
    "\n",
    "\n",
    "    # split the data into train and validation sets\n",
    "    Data_train = Data[val_rows:]\n",
    "    Data_train=np.array(Data_train)\n",
    "    Data_Y_train = Data_train[:,0].astype(int)\n",
    "    Data_X_train = np.delete(Data_train, 0, axis = 1)\n",
    "    #\n",
    "    Data_test = Data[:val_rows]\n",
    "    Data_test=np.array(Data_test)\n",
    "    Data_Y_test = Data_test[:,0].astype(int)\n",
    "    Data_X_test = np.delete(Data_test, 0, axis = 1)\n",
    "    return Data_X_train,Data_Y_train,Data_X_test,Data_Y_test\n",
    "    "
   ]
  },
  {
   "cell_type": "code",
   "execution_count": 5,
   "id": "efc33c27",
   "metadata": {},
   "outputs": [],
   "source": [
    "Data_X_train_val,Data_Y_train_val,Data_X_test,Data_Y_test=get_train_test_split('PCA_MNIST.csv',30)"
   ]
  },
  {
   "cell_type": "code",
   "execution_count": 6,
   "id": "c0046c04",
   "metadata": {},
   "outputs": [],
   "source": [
    "val_size = 0.2\n",
    "# calculate the number of validation data rows\n",
    "val_rows = int(val_size * Data_X_train_val.shape[0])\n",
    "\n",
    "# split the data into train and validation sets\n",
    "\n",
    "Data_Y_train = Data_Y_train_val[val_rows:]\n",
    "Data_X_train = Data_X_train_val[val_rows:]\n",
    "\n",
    "Data_Y_val = Data_Y_train_val[:val_rows]\n",
    "Data_X_val = Data_X_train_val[:val_rows]"
   ]
  },
  {
   "cell_type": "code",
   "execution_count": 7,
   "id": "5ec79f91",
   "metadata": {},
   "outputs": [
    {
     "name": "stdout",
     "output_type": "stream",
     "text": [
      "(16800, 10)\n",
      "(4200, 10)\n",
      "(16800,)\n",
      "(4200,)\n",
      "(9000, 10)\n",
      "(9000,)\n"
     ]
    }
   ],
   "source": [
    "print(Data_X_train.shape)\n",
    "print(Data_X_val.shape)\n",
    "print(Data_Y_train.shape)\n",
    "print(Data_Y_val.shape)\n",
    "print(Data_X_test.shape)\n",
    "print(Data_Y_test.shape)"
   ]
  },
  {
   "cell_type": "code",
   "execution_count": 7,
   "id": "3eddf1f3",
   "metadata": {},
   "outputs": [],
   "source": [
    "def create_onevsrest(Data_train):\n",
    "    labels = np.unique(Data_train[:,10].astype(int))\n",
    "    X_train={x: [] for x in labels}\n",
    "    Y_train={x: [] for x in labels}\n",
    "    ovr_data = []\n",
    "    for i in range(1,len(labels)+1):\n",
    "        for j in range(len(Data_train)):\n",
    "            X_train[i].append(Data_train[j][0:10])\n",
    "            if int(Data_train[j][10])!=i:\n",
    "                Y_train[i].append(-1)\n",
    "            else:\n",
    "                Y_train[i].append(1)\n",
    "                \n",
    "    for i in range(1,len(labels)+1):\n",
    "        X_train[i]=np.array(X_train[i])\n",
    "        Y_train[i]=np.array(Y_train[i])\n",
    "        Y_train[i].reshape((Y_train[i].shape[0],1))\n",
    "    \n",
    "    return X_train,Y_train\n"
   ]
  },
  {
   "cell_type": "code",
   "execution_count": 8,
   "id": "f47dcb72",
   "metadata": {},
   "outputs": [],
   "source": [
    "def get_models(data_ovr_X_train,data_ovr_Y_train,param_str,classes):\n",
    "    prob  = svm_problem(data_ovr_Y_train, data_ovr_X_train)\n",
    "    param = svm_parameter(param_str)\n",
    "    m = svm_train(prob, param,'-e 1')\n",
    "    return m      "
   ]
  },
  {
   "cell_type": "code",
   "execution_count": 9,
   "id": "fe6af29e",
   "metadata": {},
   "outputs": [],
   "source": [
    "def testSVM(Data_X_t,Data_Y_t,noofclasses,models):\n",
    "    Pred_Y_test,_,_=svm_predict(Data_Y_t, Data_X_t, models, '-b 1')\n",
    "    correct_count=0\n",
    "    for i in range(len(Data_X_t)):\n",
    "        if Pred_Y_test[i]==Data_Y_t[i]:\n",
    "            correct_count+=1\n",
    "    return correct_count/len(Data_X_t)"
   ]
  },
  {
   "cell_type": "markdown",
   "id": "0fd28524",
   "metadata": {},
   "source": [
    "### Gaussian Kernel"
   ]
  },
  {
   "cell_type": "markdown",
   "id": "cebb458f",
   "metadata": {},
   "source": [
    "###### A)With Slack"
   ]
  },
  {
   "cell_type": "code",
   "execution_count": 32,
   "id": "a6e13c31",
   "metadata": {},
   "outputs": [
    {
     "name": "stdout",
     "output_type": "stream",
     "text": [
      "C: 1 Gamma: 0.1\n",
      "Accuracy = 88.3571% (3711/4200) (classification)\n",
      "----------------\n",
      "C: 1 Gamma: 0.30000000000000004\n",
      "Accuracy = 89.2619% (3749/4200) (classification)\n",
      "----------------\n",
      "C: 1 Gamma: 0.5000000000000001\n",
      "Accuracy = 89.9286% (3777/4200) (classification)\n",
      "----------------\n",
      "C: 1 Gamma: 0.7000000000000001\n",
      "Accuracy = 90.2857% (3792/4200) (classification)\n",
      "----------------\n",
      "C: 1 Gamma: 0.9000000000000001\n",
      "Accuracy = 90.4762% (3800/4200) (classification)\n",
      "----------------\n",
      "C: 3 Gamma: 0.1\n",
      "Accuracy = 88.9286% (3735/4200) (classification)\n",
      "----------------\n",
      "C: 3 Gamma: 0.30000000000000004\n",
      "Accuracy = 90.0238% (3781/4200) (classification)\n",
      "----------------\n",
      "C: 3 Gamma: 0.5000000000000001\n",
      "Accuracy = 90.5% (3801/4200) (classification)\n",
      "----------------\n",
      "C: 3 Gamma: 0.7000000000000001\n",
      "Accuracy = 90.7619% (3812/4200) (classification)\n",
      "----------------\n",
      "C: 3 Gamma: 0.9000000000000001\n",
      "Accuracy = 91.119% (3827/4200) (classification)\n",
      "----------------\n",
      "C: 5 Gamma: 0.1\n",
      "Accuracy = 89.2143% (3747/4200) (classification)\n",
      "----------------\n",
      "C: 5 Gamma: 0.30000000000000004\n",
      "Accuracy = 90.2381% (3790/4200) (classification)\n",
      "----------------\n",
      "C: 5 Gamma: 0.5000000000000001\n",
      "Accuracy = 90.6667% (3808/4200) (classification)\n",
      "----------------\n",
      "C: 5 Gamma: 0.7000000000000001\n",
      "Accuracy = 91.0714% (3825/4200) (classification)\n",
      "----------------\n",
      "C: 5 Gamma: 0.9000000000000001\n",
      "Accuracy = 91.2619% (3833/4200) (classification)\n",
      "----------------\n",
      "C: 7 Gamma: 0.1\n",
      "Accuracy = 89.3333% (3752/4200) (classification)\n",
      "----------------\n",
      "C: 7 Gamma: 0.30000000000000004\n",
      "Accuracy = 90.5% (3801/4200) (classification)\n",
      "----------------\n",
      "C: 7 Gamma: 0.5000000000000001\n",
      "Accuracy = 90.7619% (3812/4200) (classification)\n",
      "----------------\n",
      "C: 7 Gamma: 0.7000000000000001\n",
      "Accuracy = 91.0952% (3826/4200) (classification)\n",
      "----------------\n",
      "C: 7 Gamma: 0.9000000000000001\n",
      "Accuracy = 91.5238% (3844/4200) (classification)\n",
      "----------------\n",
      "C: 9 Gamma: 0.1\n",
      "Accuracy = 89.4048% (3755/4200) (classification)\n",
      "----------------\n",
      "C: 9 Gamma: 0.30000000000000004\n",
      "Accuracy = 90.4286% (3798/4200) (classification)\n",
      "----------------\n",
      "C: 9 Gamma: 0.5000000000000001\n",
      "Accuracy = 91% (3822/4200) (classification)\n",
      "----------------\n",
      "C: 9 Gamma: 0.7000000000000001\n",
      "Accuracy = 91.1429% (3828/4200) (classification)\n",
      "----------------\n",
      "C: 9 Gamma: 0.9000000000000001\n",
      "Accuracy = 91.4524% (3841/4200) (classification)\n",
      "----------------\n",
      "Best parameters: C=7, gamma=0.9000000000000001\n",
      "Best validation accuracy: 91.52%\n"
     ]
    }
   ],
   "source": [
    "C_range = np.arange(1, 10, 2)\n",
    "gamma_range = np.arange(0.1,1, 0.2)\n",
    "\n",
    "best_acc = 0\n",
    "best_C = 0\n",
    "best_gamma = 0\n",
    "accuracies=np.zeros((5,5))\n",
    "i=-1\n",
    "j=-1\n",
    "# Loop over all combinations of C and gamma\n",
    "for C in C_range:\n",
    "    i+=1\n",
    "    j=-1\n",
    "    for gamma in gamma_range:\n",
    "        j+=1\n",
    "        print(\"C:\",C,end=' ')\n",
    "        print(\"Gamma:\",gamma)\n",
    "        # Train an SVM model on the training data\n",
    "        param_str = f'-t 2 -c {C} -g {gamma} -b 1'\n",
    "        prob = svm_parameter(param_str)\n",
    "        model= get_models(Data_X_train,Data_Y_train,param_str,5)\n",
    "\n",
    "        # Test the model on the validation data\n",
    "        acc = testSVM(Data_X_val,Data_Y_val,5, model)\n",
    "        if acc > best_acc:\n",
    "            best_acc = acc\n",
    "            best_C = C\n",
    "            best_gamma = gamma\n",
    "        accuracies[i][j]=acc\n",
    "        print('----------------')\n",
    "        \n",
    "\n",
    "# Print the best parameters and accuracy found\n",
    "print(f\"Best parameters: C={best_C}, gamma={best_gamma}\")\n",
    "print(f\"Best validation accuracy: {best_acc:.2%}\")"
   ]
  },
  {
   "cell_type": "code",
   "execution_count": 33,
   "id": "3a58b87e",
   "metadata": {},
   "outputs": [
    {
     "name": "stdout",
     "output_type": "stream",
     "text": [
      "C: 1 Gamma: 0.05\n",
      "Accuracy = 87.2381% (3664/4200) (classification)\n",
      "-----------------\n",
      "C: 1 Gamma: 0.07\n",
      "Accuracy = 88% (3696/4200) (classification)\n",
      "-----------------\n",
      "C: 1 Gamma: 0.09000000000000001\n",
      "Accuracy = 88.381% (3712/4200) (classification)\n",
      "-----------------\n",
      "C: 1 Gamma: 0.11000000000000001\n",
      "Accuracy = 88.4524% (3715/4200) (classification)\n",
      "-----------------\n",
      "C: 1 Gamma: 0.13\n",
      "Accuracy = 88.5714% (3720/4200) (classification)\n",
      "-----------------\n",
      "C: 3 Gamma: 0.05\n",
      "Accuracy = 88.619% (3722/4200) (classification)\n",
      "-----------------\n",
      "C: 3 Gamma: 0.07\n",
      "Accuracy = 88.7857% (3729/4200) (classification)\n",
      "-----------------\n",
      "C: 3 Gamma: 0.09000000000000001\n",
      "Accuracy = 88.8571% (3732/4200) (classification)\n",
      "-----------------\n",
      "C: 3 Gamma: 0.11000000000000001\n",
      "Accuracy = 89.0238% (3739/4200) (classification)\n",
      "-----------------\n",
      "C: 3 Gamma: 0.13\n",
      "Accuracy = 89.1667% (3745/4200) (classification)\n",
      "-----------------\n",
      "C: 5 Gamma: 0.05\n",
      "Accuracy = 88.7619% (3728/4200) (classification)\n",
      "-----------------\n",
      "C: 5 Gamma: 0.07\n",
      "Accuracy = 88.8333% (3731/4200) (classification)\n",
      "-----------------\n",
      "C: 5 Gamma: 0.09000000000000001\n",
      "Accuracy = 89.1667% (3745/4200) (classification)\n",
      "-----------------\n",
      "C: 5 Gamma: 0.11000000000000001\n",
      "Accuracy = 89.2619% (3749/4200) (classification)\n",
      "-----------------\n",
      "C: 5 Gamma: 0.13\n",
      "Accuracy = 89.3571% (3753/4200) (classification)\n",
      "-----------------\n",
      "C: 7 Gamma: 0.05\n",
      "Accuracy = 88.7857% (3729/4200) (classification)\n",
      "-----------------\n",
      "C: 7 Gamma: 0.07\n",
      "Accuracy = 89.1429% (3744/4200) (classification)\n",
      "-----------------\n",
      "C: 7 Gamma: 0.09000000000000001\n",
      "Accuracy = 89.3333% (3752/4200) (classification)\n",
      "-----------------\n",
      "C: 7 Gamma: 0.11000000000000001\n",
      "Accuracy = 89.3571% (3753/4200) (classification)\n",
      "-----------------\n",
      "C: 7 Gamma: 0.13\n",
      "Accuracy = 89.4524% (3757/4200) (classification)\n",
      "-----------------\n",
      "C: 9 Gamma: 0.05\n",
      "Accuracy = 88.9762% (3737/4200) (classification)\n",
      "-----------------\n",
      "C: 9 Gamma: 0.07\n",
      "Accuracy = 89.119% (3743/4200) (classification)\n",
      "-----------------\n",
      "C: 9 Gamma: 0.09000000000000001\n",
      "Accuracy = 89.3333% (3752/4200) (classification)\n",
      "-----------------\n",
      "C: 9 Gamma: 0.11000000000000001\n",
      "Accuracy = 89.5238% (3760/4200) (classification)\n",
      "-----------------\n",
      "C: 9 Gamma: 0.13\n",
      "Accuracy = 89.5952% (3763/4200) (classification)\n",
      "-----------------\n",
      "Best parameters: C=7, gamma=0.9000000000000001\n",
      "Best validation accuracy: 91.52%\n"
     ]
    }
   ],
   "source": [
    "C_range = np.arange(1, 10, 2)\n",
    "gamma_range = np.arange(0.05,0.15, 0.02)\n",
    "accuracies=np.zeros((5,5))\n",
    "i=-1\n",
    "j=-1\n",
    "# Loop over all combinations of C and gamma\n",
    "for C in C_range:\n",
    "    i+=1\n",
    "    j=-1\n",
    "    for gamma in gamma_range:\n",
    "        j+=1\n",
    "        print(\"C:\",C,end=' ')\n",
    "        print(\"Gamma:\",gamma)\n",
    "        # Train an SVM model on the training data\n",
    "        param_str = f'-t 2 -c {C} -g {gamma} -b 1'\n",
    "        prob = svm_parameter(param_str)\n",
    "        model= get_models(Data_X_train,Data_Y_train,param_str,5)\n",
    "\n",
    "        # Test the model on the validation data\n",
    "        acc = testSVM(Data_X_val,Data_Y_val,5, model)\n",
    "        if acc > best_acc:\n",
    "            best_acc = acc\n",
    "            best_C = C\n",
    "            best_gamma = gamma\n",
    "        accuracies[i][j]=acc\n",
    "        print('-----------------')\n",
    "        \n",
    "\n",
    "# Print the best parameters and accuracy found\n",
    "print(f\"Best parameters: C={best_C}, gamma={best_gamma}\")\n",
    "print(f\"Best validation accuracy: {best_acc:.2%}\")"
   ]
  },
  {
   "cell_type": "markdown",
   "id": "ccc6e6a4",
   "metadata": {},
   "source": [
    "##### Grid search plot for gaussian kernel ('c' and 'gamma' vs validation accuracy)"
   ]
  },
  {
   "cell_type": "code",
   "execution_count": 23,
   "id": "4ebb2f5e",
   "metadata": {},
   "outputs": [
    {
     "data": {
      "image/png": "[encoded data removed]",
      "text/plain": [
       "<Figure size 720x720 with 1 Axes>"
      ]
     },
     "metadata": {
      "needs_background": "light"
     },
     "output_type": "display_data"
    }
   ],
   "source": [
    "import matplotlib.pyplot as plt\n",
    "from mpl_toolkits.mplot3d import Axes3D\n",
    "import numpy as np\n",
    "\n",
    "# create 3D axes\n",
    "fig = plt.figure(figsize=(10, 10))\n",
    "ax = fig.add_subplot(111, projection='3d')\n",
    "\n",
    "# create data for surface plot\n",
    "X = C_range\n",
    "Y = gamma_range\n",
    "X, Y = np.meshgrid(X, Y)\n",
    "\n",
    "Z = accuracies\n",
    "\n",
    "# plot surface\n",
    "ax.plot_surface(X, Y, Z, cmap='coolwarm')\n",
    "\n",
    "# set labels and title\n",
    "ax.set_xlabel('c')\n",
    "ax.set_ylabel('gamma')\n",
    "ax.set_zlabel('Validation accuracy')\n",
    "ax.set_title('3D Surface Plot')\n",
    "\n",
    "ax.view_init(elev=30, azim=175)\n",
    "# show plot\n",
    "plt.show()"
   ]
  },
  {
   "cell_type": "markdown",
   "id": "cac5dbe6",
   "metadata": {},
   "source": [
    "###### Test accuracy with C and gamma after grid search"
   ]
  },
  {
   "cell_type": "code",
   "execution_count": 34,
   "id": "d89634f7",
   "metadata": {},
   "outputs": [],
   "source": [
    "param_str = f'-t 2 -c {best_C} -g {best_gamma} -b 1'\n",
    "prob = svm_parameter(param_str)\n",
    "model = get_models(Data_X_train,Data_Y_train,param_str,5)"
   ]
  },
  {
   "cell_type": "code",
   "execution_count": 35,
   "id": "76758ef9",
   "metadata": {},
   "outputs": [
    {
     "name": "stdout",
     "output_type": "stream",
     "text": [
      "Accuracy = 90.2889% (8126/9000) (classification)\n"
     ]
    }
   ],
   "source": [
    "acc = testSVM(Data_X_test,Data_Y_test,5, model)"
   ]
  },
  {
   "cell_type": "markdown",
   "id": "b2b053e4",
   "metadata": {},
   "source": [
    "##### B)Without Slack(C=INF)"
   ]
  },
  {
   "cell_type": "code",
   "execution_count": 36,
   "id": "46ef7c27",
   "metadata": {},
   "outputs": [],
   "source": [
    "c_value=np.inf"
   ]
  },
  {
   "cell_type": "code",
   "execution_count": 37,
   "id": "b29aafd2",
   "metadata": {},
   "outputs": [],
   "source": [
    "param_str = f'-t 2 -c {c_value} -g {best_gamma} -b 1'\n",
    "prob = svm_problem(Data_Y_train,Data_X_train)\n",
    "param = svm_parameter(param_str)\n",
    "model = svm_train(prob,param,'-e 1')"
   ]
  },
  {
   "cell_type": "code",
   "execution_count": 38,
   "id": "b9448487",
   "metadata": {},
   "outputs": [
    {
     "name": "stdout",
     "output_type": "stream",
     "text": [
      "Accuracy = 88.7556% (7988/9000) (classification)\n"
     ]
    }
   ],
   "source": [
    "acc = testSVM(Data_X_test,Data_Y_test,5, model)"
   ]
  },
  {
   "cell_type": "markdown",
   "id": "98a65a5a",
   "metadata": {},
   "source": [
    "### POLYNOMIAL KERNEL"
   ]
  },
  {
   "cell_type": "code",
   "execution_count": 24,
   "id": "4fbc90bd",
   "metadata": {},
   "outputs": [
    {
     "name": "stdout",
     "output_type": "stream",
     "text": [
      "C: 0.1\n",
      "Gamma: 0.001\n",
      "Degree: 2\n",
      "Accuracy = 57.2143% (2403/4200) (classification)\n",
      "-----------------\n",
      "C: 1\n",
      "Gamma: 0.001\n",
      "Degree: 2\n",
      "Accuracy = 57.2143% (2403/4200) (classification)\n",
      "-----------------\n",
      "C: 10\n",
      "Gamma: 0.001\n",
      "Degree: 2\n",
      "Accuracy = 57.2143% (2403/4200) (classification)\n",
      "-----------------\n",
      "C: 0.1\n",
      "Gamma: 0.01\n",
      "Degree: 2\n",
      "Accuracy = 57.2143% (2403/4200) (classification)\n",
      "-----------------\n",
      "C: 1\n",
      "Gamma: 0.01\n",
      "Degree: 2\n",
      "Accuracy = 57.2143% (2403/4200) (classification)\n",
      "-----------------\n",
      "C: 10\n",
      "Gamma: 0.01\n",
      "Degree: 2\n",
      "Accuracy = 73.1905% (3074/4200) (classification)\n",
      "-----------------\n",
      "C: 0.1\n",
      "Gamma: 0.1\n",
      "Degree: 2\n",
      "Accuracy = 73.1905% (3074/4200) (classification)\n",
      "-----------------\n",
      "C: 1\n",
      "Gamma: 0.1\n",
      "Degree: 2\n",
      "Accuracy = 85.119% (3575/4200) (classification)\n",
      "-----------------\n",
      "C: 10\n",
      "Gamma: 0.1\n",
      "Degree: 2\n",
      "Accuracy = 88.8333% (3731/4200) (classification)\n",
      "-----------------\n",
      "C: 0.1\n",
      "Gamma: 1\n",
      "Degree: 2\n",
      "Accuracy = 88.8333% (3731/4200) (classification)\n",
      "-----------------\n",
      "C: 1\n",
      "Gamma: 1\n",
      "Degree: 2\n",
      "Accuracy = 89.9762% (3779/4200) (classification)\n",
      "-----------------\n",
      "C: 10\n",
      "Gamma: 1\n",
      "Degree: 2\n",
      "Accuracy = 90.619% (3806/4200) (classification)\n",
      "-----------------\n",
      "C: 0.1\n",
      "Gamma: 0.001\n",
      "Degree: 3\n",
      "Accuracy = 46.5952% (1957/4200) (classification)\n",
      "-----------------\n",
      "C: 1\n",
      "Gamma: 0.001\n",
      "Degree: 3\n",
      "Accuracy = 46.5952% (1957/4200) (classification)\n",
      "-----------------\n",
      "C: 10\n",
      "Gamma: 0.001\n",
      "Degree: 3\n",
      "Accuracy = 46.5952% (1957/4200) (classification)\n",
      "-----------------\n",
      "C: 0.1\n",
      "Gamma: 0.01\n",
      "Degree: 3\n",
      "Accuracy = 46.5952% (1957/4200) (classification)\n",
      "-----------------\n",
      "C: 1\n",
      "Gamma: 0.01\n",
      "Degree: 3\n",
      "Accuracy = 46.5952% (1957/4200) (classification)\n",
      "-----------------\n",
      "C: 10\n",
      "Gamma: 0.01\n",
      "Degree: 3\n",
      "Accuracy = 46.5952% (1957/4200) (classification)\n",
      "-----------------\n",
      "C: 0.1\n",
      "Gamma: 0.1\n",
      "Degree: 3\n",
      "Accuracy = 50.4286% (2118/4200) (classification)\n",
      "-----------------\n",
      "C: 1\n",
      "Gamma: 0.1\n",
      "Degree: 3\n",
      "Accuracy = 80.2381% (3370/4200) (classification)\n",
      "-----------------\n",
      "C: 10\n",
      "Gamma: 0.1\n",
      "Degree: 3\n",
      "Accuracy = 87.4524% (3673/4200) (classification)\n",
      "-----------------\n",
      "C: 0.1\n",
      "Gamma: 1\n",
      "Degree: 3\n",
      "Accuracy = 89.8333% (3773/4200) (classification)\n",
      "-----------------\n",
      "C: 1\n",
      "Gamma: 1\n",
      "Degree: 3\n",
      "Accuracy = 90.6429% (3807/4200) (classification)\n",
      "-----------------\n",
      "C: 10\n",
      "Gamma: 1\n",
      "Degree: 3\n",
      "Accuracy = 90.8095% (3814/4200) (classification)\n",
      "-----------------\n",
      "C: 0.1\n",
      "Gamma: 0.001\n",
      "Degree: 4\n",
      "Accuracy = 36.6667% (1540/4200) (classification)\n",
      "-----------------\n",
      "C: 1\n",
      "Gamma: 0.001\n",
      "Degree: 4\n",
      "Accuracy = 36.6667% (1540/4200) (classification)\n",
      "-----------------\n",
      "C: 10\n",
      "Gamma: 0.001\n",
      "Degree: 4\n",
      "Accuracy = 36.6667% (1540/4200) (classification)\n",
      "-----------------\n",
      "C: 0.1\n",
      "Gamma: 0.01\n",
      "Degree: 4\n",
      "Accuracy = 36.6667% (1540/4200) (classification)\n",
      "-----------------\n",
      "C: 1\n",
      "Gamma: 0.01\n",
      "Degree: 4\n",
      "Accuracy = 36.6667% (1540/4200) (classification)\n",
      "-----------------\n",
      "C: 10\n",
      "Gamma: 0.01\n",
      "Degree: 4\n",
      "Accuracy = 36.6667% (1540/4200) (classification)\n",
      "-----------------\n",
      "C: 0.1\n",
      "Gamma: 0.1\n",
      "Degree: 4\n",
      "Accuracy = 36.6667% (1540/4200) (classification)\n",
      "-----------------\n",
      "C: 1\n",
      "Gamma: 0.1\n",
      "Degree: 4\n",
      "Accuracy = 63.3095% (2659/4200) (classification)\n",
      "-----------------\n",
      "C: 10\n",
      "Gamma: 0.1\n",
      "Degree: 4\n",
      "Accuracy = 83.7381% (3517/4200) (classification)\n",
      "-----------------\n",
      "C: 0.1\n",
      "Gamma: 1\n",
      "Degree: 4\n",
      "Accuracy = 90.2619% (3791/4200) (classification)\n",
      "-----------------\n",
      "C: 1\n",
      "Gamma: 1\n",
      "Degree: 4\n",
      "Accuracy = 90.7619% (3812/4200) (classification)\n",
      "-----------------\n",
      "C: 10\n",
      "Gamma: 1\n",
      "Degree: 4\n",
      "Accuracy = 91.2857% (3834/4200) (classification)\n",
      "-----------------\n",
      "Best Validation accuracy: 91.29 with params: {'C': 10, 'gamma': 1, 'degree': 4}\n"
     ]
    }
   ],
   "source": [
    "C_range = [0.1, 1, 10]\n",
    "gamma_range = [0.001, 0.01, 0.1, 1]\n",
    "degree_range = [2, 3, 4]\n",
    "\n",
    "# Perform grid search\n",
    "best_accuracy = 0\n",
    "for degree in degree_range:\n",
    "    for gamma in gamma_range:\n",
    "        for C in C_range:\n",
    "            print(\"C:\",C)\n",
    "            print(\"Gamma:\",gamma)\n",
    "            print(\"Degree:\",degree)\n",
    "            # Train model\n",
    "            param_str = f'-t 1 -d {degree} -c {C} -g {gamma}'\n",
    "            model = svm_train(Data_Y_train, Data_X_train, param_str)\n",
    "\n",
    "            # Evaluate model\n",
    "            _, accuracy, _ = svm_predict(Data_Y_val, Data_X_val, model)\n",
    "            if accuracy[0] > best_accuracy:\n",
    "                best_accuracy = accuracy[0]\n",
    "                best_params = {'C': C, 'gamma': gamma, 'degree': degree}\n",
    "            print('-----------------')\n",
    "\n",
    "print(f'Best Validation accuracy: {best_accuracy:.2f} with params: {best_params}')"
   ]
  },
  {
   "cell_type": "markdown",
   "id": "506b1107",
   "metadata": {},
   "source": [
    "###### Test accuracy with C ,gamma,degree after grid search"
   ]
  },
  {
   "cell_type": "code",
   "execution_count": 25,
   "id": "1c499cc4",
   "metadata": {},
   "outputs": [],
   "source": [
    "best_C=best_params['C']\n",
    "best_gamma=best_params['gamma']\n",
    "best_degree=best_params['degree']\n",
    "param_str = f'-t 1 -d {best_degree} -c {best_C} -g {best_gamma}'\n",
    "model = svm_train(Data_Y_train, Data_X_train, param_str)"
   ]
  },
  {
   "cell_type": "code",
   "execution_count": 26,
   "id": "ac1fc7c6",
   "metadata": {},
   "outputs": [
    {
     "name": "stdout",
     "output_type": "stream",
     "text": [
      "Accuracy = 90.0444% (8104/9000) (classification)\n"
     ]
    }
   ],
   "source": [
    "_, accuracy, _ = svm_predict(Data_Y_test, Data_X_test, model)"
   ]
  },
  {
   "cell_type": "markdown",
   "id": "e4ab1e97",
   "metadata": {},
   "source": [
    "##### B)Without Slack(C=INF)"
   ]
  },
  {
   "cell_type": "code",
   "execution_count": 48,
   "id": "aba91ea6",
   "metadata": {},
   "outputs": [],
   "source": [
    "c_val=np.inf\n",
    "best_gamma=best_params['gamma']\n",
    "best_degree=best_params['degree']\n",
    "param_str = f'-t 1 -d 3 -c {c_val} -g 0.001'\n",
    "model = svm_train(Data_Y_train, Data_X_train, param_str)"
   ]
  },
  {
   "cell_type": "code",
   "execution_count": 28,
   "id": "9b200d3f",
   "metadata": {},
   "outputs": [
    {
     "name": "stdout",
     "output_type": "stream",
     "text": [
      "Accuracy = 87.2889% (7856/9000) (classification)\n"
     ]
    }
   ],
   "source": [
    "_, accuracy, _ = svm_predict(Data_Y_test, Data_X_test, model)"
   ]
  },
  {
   "cell_type": "markdown",
   "id": "ab9a3c96",
   "metadata": {},
   "source": [
    "### Linear kernel"
   ]
  },
  {
   "cell_type": "code",
   "execution_count": 24,
   "id": "a32b53b2",
   "metadata": {},
   "outputs": [
    {
     "name": "stdout",
     "output_type": "stream",
     "text": [
      "c: 0.1\n",
      "Accuracy = 86.7857% (3645/4200) (classification)\n",
      "-----------------\n",
      "c: 1\n",
      "Accuracy = 88.0238% (3697/4200) (classification)\n",
      "-----------------\n",
      "c: 2\n",
      "Accuracy = 88.381% (3712/4200) (classification)\n",
      "-----------------\n",
      "c: 3\n",
      "Accuracy = 88.381% (3712/4200) (classification)\n",
      "-----------------\n",
      "c: 4\n",
      "Accuracy = 88.3571% (3711/4200) (classification)\n",
      "-----------------\n",
      "c: 5\n",
      "Accuracy = 88.4524% (3715/4200) (classification)\n",
      "-----------------\n",
      "c: 6\n",
      "Accuracy = 88.4048% (3713/4200) (classification)\n",
      "-----------------\n",
      "c: 7\n",
      "Accuracy = 88.4048% (3713/4200) (classification)\n",
      "-----------------\n",
      "c: 8\n",
      "Accuracy = 88.4286% (3714/4200) (classification)\n",
      "-----------------\n",
      "c: 9\n",
      "Accuracy = 88.4524% (3715/4200) (classification)\n",
      "-----------------\n",
      "c: 10\n",
      "Accuracy = 88.4048% (3713/4200) (classification)\n",
      "-----------------\n",
      "c: 20\n",
      "Accuracy = 88.2143% (3705/4200) (classification)\n",
      "-----------------\n",
      "Best Validation accuracy: 88.45 with c: 5\n"
     ]
    }
   ],
   "source": [
    "c_values = [0.1,1,2,3,4,5,6,7,8,9,10,20]\n",
    "accuracy_list = []\n",
    "best_c=-1\n",
    "best_accuracy=-np.inf\n",
    "# perform grid search\n",
    "for c in c_values:\n",
    "    print(\"c:\",c)\n",
    "    param = f'-s 0 -t 0 -c {c}'\n",
    "    model = svm_train(Data_Y_train, Data_X_train,param)\n",
    "      # Evaluate model\n",
    "    _, accuracy, _ = svm_predict(Data_Y_val, Data_X_val,model)\n",
    "    accuracy_list.append(accuracy[0])\n",
    "    if accuracy[0] > best_accuracy:\n",
    "        best_accuracy = accuracy[0]\n",
    "        best_c=c\n",
    "    print('-----------------')\n",
    "\n",
    "\n",
    "print(f'Best Validation accuracy: {best_accuracy:.2f} with c: {best_c}')\n",
    "\n",
    "# train svm model\n",
    "param = f'-s 0 -t 0 -c {best_c}'\n",
    "prob = svm_problem(Data_Y_train, Data_X_train)\n",
    "model = svm_train(prob, param)\n",
    "\n"
   ]
  },
  {
   "cell_type": "markdown",
   "id": "93f92161",
   "metadata": {},
   "source": [
    "##### Grid search plot for linear kernel ('c' vs validation accuracy)"
   ]
  },
  {
   "cell_type": "code",
   "execution_count": 21,
   "id": "2022cc9d",
   "metadata": {},
   "outputs": [
    {
     "data": {
      "text/plain": [
       "[<matplotlib.lines.Line2D at 0x7f9bc99744c0>]"
      ]
     },
     "execution_count": 21,
     "metadata": {},
     "output_type": "execute_result"
    },
    {
     "data": {
      "image/png": "[encoded data removed]",
      "text/plain": [
       "<Figure size 720x360 with 1 Axes>"
      ]
     },
     "metadata": {
      "needs_background": "light"
     },
     "output_type": "display_data"
    }
   ],
   "source": [
    "fig = plt.figure(figsize = (10,5))\n",
    "plt.xlabel('c')\n",
    "plt.ylabel('Accuracy')\n",
    "plt.plot(c_values,accuracy_list)\n",
    "#grid search plot is given below"
   ]
  },
  {
   "cell_type": "markdown",
   "id": "4011bcca",
   "metadata": {},
   "source": [
    "##### Test accuracy with C ,gamma,degree after grid search "
   ]
  },
  {
   "cell_type": "code",
   "execution_count": 25,
   "id": "962657fd",
   "metadata": {},
   "outputs": [
    {
     "name": "stdout",
     "output_type": "stream",
     "text": [
      "Accuracy = 87.3333% (7860/9000) (classification)\n"
     ]
    }
   ],
   "source": [
    "_, accuracy, _ = svm_predict(Data_Y_test, Data_X_test, model)"
   ]
  },
  {
   "cell_type": "markdown",
   "id": "864f977b",
   "metadata": {},
   "source": [
    "##### B)Without Slack(C=INF)"
   ]
  },
  {
   "cell_type": "code",
   "execution_count": 22,
   "id": "8112a607",
   "metadata": {},
   "outputs": [],
   "source": [
    "# train svm model\n",
    "c=1e6\n",
    "param = f'-s 0 -t 0 -c {c}'\n",
    "prob = svm_problem(Data_Y_train, Data_X_train)\n",
    "model = svm_train(prob, param,'-e 1')"
   ]
  },
  {
   "cell_type": "code",
   "execution_count": 23,
   "id": "8864a4b7",
   "metadata": {},
   "outputs": [
    {
     "name": "stdout",
     "output_type": "stream",
     "text": [
      "Accuracy = 86.4444% (7780/9000) (classification)\n"
     ]
    }
   ],
   "source": [
    "_, accuracy, _ = svm_predict(Data_Y_test, Data_X_test, model)"
   ]
  }
 ],
 "metadata": {
  "kernelspec": {
   "display_name": "Python 3 (ipykernel)",
   "language": "python",
   "name": "python3"
  },
  "language_info": {
   "codemirror_mode": {
    "name": "ipython",
    "version": 3
   },
   "file_extension": ".py",
   "mimetype": "text/x-python",
   "name": "python",
   "nbconvert_exporter": "python",
   "pygments_lexer": "ipython3",
   "version": "3.10.6"
  }
 },
 "nbformat": 4,
 "nbformat_minor": 5
}
